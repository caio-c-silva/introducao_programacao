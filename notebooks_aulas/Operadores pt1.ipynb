{
 "cells": [
  {
   "cell_type": "markdown",
   "id": "56c3b55b-14d5-4ea4-acbb-077669ab27fb",
   "metadata": {},
   "source": [
    "# Operadores pt1\n",
    "\n",
    "[![Open In Colab](https://colab.research.google.com/assets/colab-badge.svg)](https://colab.research.google.com/github/caio-c-silva/aulas_python_2S2022/blob/main/notebooks_aulas/aula2-2.ipynb)\n"
   ]
  },
  {
   "cell_type": "markdown",
   "id": "3d4ae9d6-cb56-4482-aaa7-b79d9f989875",
   "metadata": {
    "tags": []
   },
   "source": [
    "## Revisão\n",
    "\n",
    "Escreva um script que execute as seguinte tarefas:\n",
    "\n",
    "- Crie uma variável chamada val1 e atribua o valor 12\n",
    "- Crie uma variável chamada val2 e atribua o valor 3.75\n",
    "- Crie uma variável chamada texto e atribua o valor `O valor da soma é:`\n",
    "- Imprima o tipo da variável val1\n",
    "- Imprima o tipo da variável val2\n",
    "- Imprima o tipo da variável texto\n",
    "- Crie uma variável chamada soma e atribua a soma de val1 e val2\n",
    "- Imprima o tipo da variável soma\n",
    "- Imprima a variável texto juntamente com a variável soma\n",
    "\n",
    "Comente todas as expressões"
   ]
  },
  {
   "cell_type": "code",
   "execution_count": null,
   "id": "20142dab-0ce3-470c-9a73-f811a26bba12",
   "metadata": {},
   "outputs": [],
   "source": []
  },
  {
   "cell_type": "markdown",
   "id": "5584b991-8946-4e12-97cf-1f51b932ec63",
   "metadata": {
    "tags": []
   },
   "source": [
    "## Operadores\n",
    "\n",
    "Anteriormente vimos a semântica básica de Python no que diz respeito a variáveis e objetos. Nesta aula veremos a semântica dos operadores básicos existentes em Python.\n",
    "\n",
    "### Operadores Aritméticos\n",
    "\n",
    "| Operador     | Nome           | Descrição                                            |\n",
    "|--------------|----------------|--------------------------------------------------------|\n",
    "| ``a + b``    | Adição       | Soma de ``a`` e ``b``                                 |\n",
    "| ``a - b``    | Subtração    | Diferença de ``a`` e ``b``                          |\n",
    "| ``a * b``    | Multiplicação | Produto de ``a`` e ``b``                             |\n",
    "| ``a / b``    | Divisão Verdadeira  | Quociente de ``a`` e ``b``                            |\n",
    "| ``a // b``   | Divisão Piso | Quociente de ``a`` e ``b``, removendo a parte fracional |\n",
    "| ``a % b``    | Resto        | Resto inteiro da divisão de ``a`` por ``b``     |\n",
    "| ``a ** b``   | Exponenciação | ``a`` elevado à potencia de ``b``                     |\n",
    "\n",
    "Esses operadores podem ser usados e combinados de diversas formas usando parenteses para agrupar as operações.  \n"
   ]
  },
  {
   "cell_type": "code",
   "execution_count": null,
   "id": "6e92027b-b5f2-4782-a5b3-629593d0fd46",
   "metadata": {},
   "outputs": [],
   "source": [
    "# adição, subtração, multiplicação e divisão (verdadeira)\n",
    "(4 + 8) * ((6.5 - 3)/3)"
   ]
  },
  {
   "cell_type": "code",
   "execution_count": null,
   "id": "bb1b14e6-7699-4bdb-bfb0-36b652caf7a7",
   "metadata": {},
   "outputs": [],
   "source": [
    "# Divisão Verdadeira\n",
    "11 / 2"
   ]
  },
  {
   "cell_type": "code",
   "execution_count": null,
   "id": "639861b0-db91-4a52-971d-8d8fe755c71f",
   "metadata": {},
   "outputs": [],
   "source": [
    "# Divisão Piso\n",
    "11 // 2"
   ]
  },
  {
   "cell_type": "code",
   "execution_count": null,
   "id": "497fb106-64a4-465b-bb9e-d86d12233124",
   "metadata": {},
   "outputs": [],
   "source": [
    "# Divisão Piso\n",
    "11 % 2"
   ]
  },
  {
   "cell_type": "markdown",
   "id": "0997d259-eb5a-4810-bbe8-7ba246c638bc",
   "metadata": {
    "tags": []
   },
   "source": [
    "### Exercício 1\n",
    "\n",
    "Escreva um programa para converter uma determinada temperatura de Celsius para Fahrenheit e vice-versa. \n",
    "\n",
    "$F = 1.8 \\times C + 32.$ \n",
    "\n"
   ]
  },
  {
   "cell_type": "code",
   "execution_count": null,
   "id": "40fb3e17-b71e-4bdc-af67-2f4769cecf5e",
   "metadata": {},
   "outputs": [],
   "source": []
  },
  {
   "cell_type": "markdown",
   "id": "182b709b-56a4-404f-b2c5-0859cdbb990d",
   "metadata": {},
   "source": [
    "### Exercício 2\n",
    "\n",
    "Escreva um programa que calcule o perímetro e a área de um círculo, dado o seu raio como entrada.\n",
    "\n",
    "$P = 2 \\times \\pi \\times r$\n",
    "\n",
    "$A = \\pi \\times r^2$"
   ]
  },
  {
   "cell_type": "code",
   "execution_count": null,
   "id": "ebdddf8b-b8bb-47b8-abb1-b017d258d3cd",
   "metadata": {},
   "outputs": [],
   "source": []
  },
  {
   "cell_type": "markdown",
   "id": "80bbeed3-1996-4368-9884-44b8a670b126",
   "metadata": {},
   "source": [
    "### Exercício 3\n",
    "\n",
    "Escreveva um script que converta uma quantidade inteira de minutos em seu respectivo valor dado em horas e minutos.\n",
    "\n",
    "O resultado do seu script deve ser da seguinte forma:\n",
    "\n",
    "Horas: x\n",
    "\n",
    "Minutos: y\n",
    "\n",
    "Por exemplo, o resultado da conversão de 132 minutos deve ser:\n",
    "\n",
    "Horas: 2\n",
    "\n",
    "Minutos: 12\n",
    "\n",
    "Explore as duas formas de resolver esse problema."
   ]
  },
  {
   "cell_type": "code",
   "execution_count": null,
   "id": "342779dd-170a-45fe-9ca0-539c7e91db5a",
   "metadata": {},
   "outputs": [],
   "source": []
  },
  {
   "cell_type": "markdown",
   "id": "177af8f8-1280-4864-9b31-8c0bfdeabb27",
   "metadata": {},
   "source": [
    "## Operações de Atribuição\n",
    "\n",
    "Nós já vimos que as variáveis podem ser atribuídas com o operador \"`=`\", e os valores armazenados para uso posterior. Por exemplo:"
   ]
  },
  {
   "cell_type": "code",
   "execution_count": null,
   "id": "698ef19f-8458-4fcf-8efb-01ce0d633636",
   "metadata": {},
   "outputs": [],
   "source": [
    "a = 24\n",
    "print(a)"
   ]
  },
  {
   "cell_type": "markdown",
   "id": "304cb862-91bd-4b5c-8111-2f7cdec8be36",
   "metadata": {},
   "source": [
    "Podemos usar essas variáveis em expressões com qualquer um dos operadores mencionados anteriormente.\n",
    "Por exemplo, para adicionar 2 a variável `a` escrevemos:"
   ]
  },
  {
   "cell_type": "code",
   "execution_count": null,
   "id": "fd1b342d-471c-449c-b685-41f85c1eeac5",
   "metadata": {},
   "outputs": [],
   "source": [
    "a + 2"
   ]
  },
  {
   "cell_type": "markdown",
   "id": "f8293a34-be6f-42e0-87d0-083d297c76fd",
   "metadata": {},
   "source": [
    "Podemos querer atualizar a variável `a` com este novo valor; neste caso, poderíamos combinar a adição e a atribuição e escrever `a = a + 2`.\n",
    "Como esse tipo de operação e atribuição combinadas é muito comum, Python inclui operadores de atualização integrados para todas as operações aritméticas:"
   ]
  },
  {
   "cell_type": "code",
   "execution_count": null,
   "id": "929728fb-af46-48c7-8fa3-8c28171e3fb1",
   "metadata": {},
   "outputs": [],
   "source": [
    "a += 2  # equivalente a seguinte expressão: a = a + 2\n",
    "print(a)"
   ]
  },
  {
   "cell_type": "markdown",
   "id": "02c4b300-1756-420b-96e9-ca693bcd8b80",
   "metadata": {},
   "source": [
    "O operadores de atribuição combinadas são:\n",
    "\n",
    "| Operador     | Descrição                                 |\n",
    "|--------------|---------------------------------------------|\n",
    "| ``a += b``    | soma `b` ao valor atribuido à variável `a`        |\n",
    "| ``a -= b``|  subtrai `b` do valor atribuido à variável `a`      |\n",
    "| ``a *= b``    | multiplica por `b` o valor atribuido à variável `a`|\n",
    "| ``a /= b``   |  divide por `b` o valor atribuido à variável `a`  (divisão verdadeira)  |\n",
    "| ``a //= b``   |  divide por `b` o valor atribuido à variável `a`  (divisão piso)   |\n",
    "| ``a %= b``      |  divide por `b` o valor atribuido à variável `a` e retorna o resto da divisão |\n",
    "| ``a **= b``     |  eleva a potência `b` o valor atribuido à variável `a`  |"
   ]
  },
  {
   "cell_type": "markdown",
   "id": "727a3df8-877e-4092-ae43-30d16cc8d403",
   "metadata": {},
   "source": [
    "Use os operadores acima para ganhar familiaridade."
   ]
  },
  {
   "cell_type": "code",
   "execution_count": null,
   "id": "63d5eb60-159a-45c2-a66b-962558ce487d",
   "metadata": {},
   "outputs": [],
   "source": []
  }
 ],
 "metadata": {
  "kernelspec": {
   "display_name": "Python 3 (ipykernel)",
   "language": "python",
   "name": "python3"
  },
  "language_info": {
   "codemirror_mode": {
    "name": "ipython",
    "version": 3
   },
   "file_extension": ".py",
   "mimetype": "text/x-python",
   "name": "python",
   "nbconvert_exporter": "python",
   "pygments_lexer": "ipython3",
   "version": "3.11.0"
  }
 },
 "nbformat": 4,
 "nbformat_minor": 5
}
