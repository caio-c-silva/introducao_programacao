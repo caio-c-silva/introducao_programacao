{
 "cells": [
  {
   "cell_type": "markdown",
   "id": "2db89758-c554-4644-86ae-7929a6023cf3",
   "metadata": {},
   "source": [
    "# Aula 8-1 - Tuples\n",
    "\n",
    "[![Open In Colab](https://colab.research.google.com/assets/colab-badge.svg)](https://colab.research.google.com/github/caio-c-silva/aulas_python_2S2022/blob/main/notebooks_aulas/aula8-1.ipynb)\n"
   ]
  },
  {
   "cell_type": "markdown",
   "id": "6641000c-b8a4-4b37-a598-1b73699ee772",
   "metadata": {
    "tags": []
   },
   "source": [
    "## Sequência de Qualquer Objeto\n",
    "\n",
    "Em Python, existe um tipo de dado que representa a sequência de qualquer objeto. Esse tipo de dado é chamado de `tuple`. Assim como strings são indicadas pela presença de aspas (simples ou duplas), tuples são indicadas pela presença de parenteses e de vírugula para indicar a separação dos objetos."
   ]
  },
  {
   "cell_type": "code",
   "execution_count": null,
   "id": "bba05629-15a2-4543-a29c-f3980928f73e",
   "metadata": {},
   "outputs": [],
   "source": [
    "a = ()\n",
    "b = (1, 2, 3)\n",
    "c = ('a', 'b', 'c')\n",
    "d = (1, 'Casa', False)\n",
    "e = (5, (7, 8))\n",
    "f = (10,)"
   ]
  },
  {
   "cell_type": "code",
   "execution_count": null,
   "id": "388825d6-9784-456c-adfc-83f29cec929f",
   "metadata": {},
   "outputs": [],
   "source": [
    "type(d)"
   ]
  },
  {
   "cell_type": "markdown",
   "id": "56efeade-44a9-41cc-8157-fb98bd1ed3d4",
   "metadata": {},
   "source": [
    "## Indexação\n",
    "\n",
    "Assim como strings, os objetos contidos em uma tuple também são indexados.\n",
    "\n",
    "<img src=\"../fig/tuples.png\" style=\"margin:auto\"/>\n",
    "<br/><br/>"
   ]
  },
  {
   "cell_type": "code",
   "execution_count": null,
   "id": "6f134aed-9ddb-4189-bcb8-c8af9bd6e563",
   "metadata": {},
   "outputs": [],
   "source": [
    "tpl = (1, 'casa', 3.45, True, (10, 70))\n",
    "tpl[0]"
   ]
  },
  {
   "cell_type": "markdown",
   "id": "7adadc6f-b763-44ee-8a3c-b87e3afb6d9a",
   "metadata": {},
   "source": [
    "Note que, no exemplo acima, o elmento contido no índice 4 também e uma tuple e, portanto, seus elementos também podem ser acessados de através de uma dupla indexação."
   ]
  },
  {
   "cell_type": "code",
   "execution_count": null,
   "id": "eb9a4810-1cdf-4718-9ee2-a68c2e0e7180",
   "metadata": {},
   "outputs": [],
   "source": [
    "tpl[4][1]"
   ]
  },
  {
   "cell_type": "markdown",
   "id": "985bf2c8-6fcf-49a9-92a1-23e84b86e179",
   "metadata": {
    "tags": []
   },
   "source": [
    "## Slicing\n",
    "\n",
    "As mesmas regras de slicing (fatiamento) usadas com strings valem também para tuples. É possível selecionar uma subtuple utilizando a seguinte sintáxe:\n",
    "\n",
    "``` python\n",
    "[start_index : stop_index : step]\n",
    "```"
   ]
  },
  {
   "cell_type": "code",
   "execution_count": null,
   "id": "c093fd5b-80b0-4475-8aaf-5e3ef768264e",
   "metadata": {},
   "outputs": [],
   "source": [
    "tpl[0 : 4 : 2]"
   ]
  },
  {
   "cell_type": "markdown",
   "id": "b57a01e0-8ee7-4858-a253-088866a23031",
   "metadata": {},
   "source": [
    "## Estrutura `for`\n",
    "\n",
    "Como tuples são objetos iteráveis, estes podem ser usados para criar um laço de repetição através da estrutura `for`. "
   ]
  },
  {
   "cell_type": "code",
   "execution_count": null,
   "id": "7061ba16-9a12-44aa-be7e-233515610446",
   "metadata": {},
   "outputs": [],
   "source": [
    "for elemento in tpl:\n",
    "    print(elemento)"
   ]
  },
  {
   "cell_type": "markdown",
   "id": "4140a6fd-4ddf-40b3-a70c-dfd4f72aaf7a",
   "metadata": {},
   "source": [
    "## Operador de pertencimento\n",
    "\n",
    "Através do operador de pertencimento `in` é possível verificar se um objeto está contido na tuple."
   ]
  },
  {
   "cell_type": "code",
   "execution_count": null,
   "id": "a97a0e79-e185-41fc-8ae5-67cf869f539a",
   "metadata": {},
   "outputs": [],
   "source": [
    "1 in tpl "
   ]
  },
  {
   "cell_type": "markdown",
   "id": "6d343d7f-1600-43ba-895b-dda9812f13b9",
   "metadata": {},
   "source": [
    "## len()\n",
    "\n",
    "A função `len()` é usada para determinar a quantidade de elementos contidos em uma tuple. Quando aplicada a uma tuple vazia retorna o valor 0."
   ]
  },
  {
   "cell_type": "code",
   "execution_count": null,
   "id": "7336e704-4b62-4770-af4d-9da7b78fde35",
   "metadata": {},
   "outputs": [],
   "source": [
    "len(tpl)"
   ]
  },
  {
   "cell_type": "markdown",
   "id": "c527d4f6-bc87-422f-a019-6c7998137844",
   "metadata": {},
   "source": [
    "## Objeto Imutável\n",
    "\n",
    "Tuples são ojetos imutáveis e, portanto, não é possível alterar o valor de um único elemento contido em uma tuple e manter o mesmo objeto."
   ]
  },
  {
   "cell_type": "code",
   "execution_count": null,
   "id": "a30f1269-2684-47d6-804b-fb7b999103fd",
   "metadata": {},
   "outputs": [],
   "source": [
    "tpl[0] = 3\n",
    "print(tpl)"
   ]
  },
  {
   "cell_type": "markdown",
   "id": "9a5f0817-fd56-4335-81f5-8bfb18d1a572",
   "metadata": {},
   "source": [
    "## Atribuições Multiplas\n",
    "\n",
    "É possível atribuir os elementos contidos em uma tuple a diferentes variáveis em uma unica sentença."
   ]
  },
  {
   "cell_type": "code",
   "execution_count": null,
   "id": "3130e7b8-3600-4f82-86a4-49d7eb41bebf",
   "metadata": {},
   "outputs": [],
   "source": [
    "t = (1, 2, 3)\n",
    "a, b, c = t\n",
    "\n",
    "print(a)\n",
    "print(b)\n",
    "print(c)\n",
    "\n",
    "g = 20\n",
    "h = 30\n",
    "\n"
   ]
  },
  {
   "cell_type": "markdown",
   "id": "b19ea273-4136-4554-80b1-0107e8cf8d2e",
   "metadata": {},
   "source": [
    "## Exercícios\n",
    "\n",
    "Considere a seguite tuple:\n",
    "\n",
    "``` python\n",
    "tuple1 = (\"Orange\", (10, 20, 30), (5, 15, 25))\n",
    "```\n",
    "\n",
    "Imprima o elemento 20 contido na tuple?"
   ]
  },
  {
   "cell_type": "code",
   "execution_count": null,
   "id": "167dcc06-1dec-4289-a4e5-5f5beeabd1c3",
   "metadata": {},
   "outputs": [],
   "source": []
  },
  {
   "cell_type": "markdown",
   "id": "55d1a005-8151-4bff-96e9-31c4d62b867e",
   "metadata": {},
   "source": [
    "Crie um programa que receba um conjunto não vazio de números inteiros distintos e um número representando uma soma (alvo). Caso o cojunto contenha 2 números que somados resultam no alvo, o programa deve retornar uma tuple contendo os dois números em qualquer ordem. No caso de não existir dois valores que somados resultem no alvo, o programa deve retornar o valor valor booleano False.\n",
    "\n",
    "Exemplos:\n",
    "\n",
    "``` python\n",
    "conjunto = (3, 5, -4, 8, 11, -1, 6)\n",
    "alvo = 10\n",
    "```\n",
    "\n",
    "O resultado deve ser:\n",
    "\n",
    "``` python\n",
    "(-1, 11)\n",
    "```"
   ]
  },
  {
   "cell_type": "code",
   "execution_count": null,
   "id": "f9605741-5e50-41ae-88f3-91e08c065f18",
   "metadata": {},
   "outputs": [],
   "source": []
  },
  {
   "cell_type": "markdown",
   "id": "bc71ae9d-16af-4829-8f9c-6d49e8f7e313",
   "metadata": {},
   "source": [
    "## Referências\n",
    "\n",
    "1. Get Programming: Learn to Code With Python, Manning Publications, Ana Bell (2018)"
   ]
  },
  {
   "cell_type": "markdown",
   "id": "e3d4f24a-3914-4250-af44-72a1f162a314",
   "metadata": {},
   "source": [
    "<!--NAVIGATION-->\n",
    "| [Strings: Métodos](aula7-2.ipynb) | [Listas](aula8-2.ipynb) >"
   ]
  }
 ],
 "metadata": {
  "kernelspec": {
   "display_name": "Python 3 (ipykernel)",
   "language": "python",
   "name": "python3"
  },
  "language_info": {
   "codemirror_mode": {
    "name": "ipython",
    "version": 3
   },
   "file_extension": ".py",
   "mimetype": "text/x-python",
   "name": "python",
   "nbconvert_exporter": "python",
   "pygments_lexer": "ipython3",
   "version": "3.9.12"
  }
 },
 "nbformat": 4,
 "nbformat_minor": 5
}
