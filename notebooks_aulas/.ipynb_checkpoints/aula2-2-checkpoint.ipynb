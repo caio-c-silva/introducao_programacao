{
 "cells": [
  {
   "cell_type": "markdown",
   "id": "56c3b55b-14d5-4ea4-acbb-077669ab27fb",
   "metadata": {},
   "source": [
    "# Aula 2-2 - Semântica Básica de Python - Operadores\n",
    "\n",
    "[![Open In Colab](https://colab.research.google.com/assets/colab-badge.svg)](https://colab.research.google.com/github/caio-c-silva/aulas_python_2S2022/blob/main/notebooks_aulas/aula2-2.ipynb)\n"
   ]
  },
  {
   "cell_type": "markdown",
   "id": "3d4ae9d6-cb56-4482-aaa7-b79d9f989875",
   "metadata": {
    "tags": []
   },
   "source": [
    "## Revisão\n",
    "\n",
    "Escreva um script que execute as seguinte tarefas:\n",
    "\n",
    "- Crie uma variável chamada val1 e atribua o valor 12\n",
    "- Crie uma variável chamada val2 e atribua o valor 3.75\n",
    "- Crie uma variável chamada texto e atribua o valor `O valor da soma é:`\n",
    "- Imprima o tipo da variável val1\n",
    "- Imprima o tipo da variável val2\n",
    "- Imprima o tipo da variável texto\n",
    "- Crie uma variável chamada soma e atribua a soma de val1 e val2\n",
    "- Imprima o tipo da variável soma\n",
    "- Imprima a variável texto juntamente com a variável soma\n",
    "\n",
    "Comente todas as expressões"
   ]
  },
  {
   "cell_type": "code",
   "execution_count": null,
   "id": "20142dab-0ce3-470c-9a73-f811a26bba12",
   "metadata": {},
   "outputs": [],
   "source": []
  },
  {
   "cell_type": "markdown",
   "id": "5584b991-8946-4e12-97cf-1f51b932ec63",
   "metadata": {
    "tags": []
   },
   "source": [
    "## Operadores\n",
    "\n",
    "Anteriormente vimos a semântica básica de Python no que diz respeito a variáveis e objetos. Nesta aula veremos a semântica dos operadores básicos existentes em Python.\n",
    "\n",
    "### Operadores Aritméticos\n",
    "\n",
    "| Operador     | Nome           | Descrição                                            |\n",
    "|--------------|----------------|--------------------------------------------------------|\n",
    "| ``a + b``    | Adição       | Soma de ``a`` e ``b``                                 |\n",
    "| ``a - b``    | Subtração    | Diferença de ``a`` e ``b``                          |\n",
    "| ``a * b``    | Multiplicação | Produto de ``a`` e ``b``                             |\n",
    "| ``a / b``    | Divisão Verdadeira  | Quociente de ``a`` e ``b``                            |\n",
    "| ``a // b``   | Divisão Piso | Quociente de ``a`` e ``b``, removendo a parte fracional |\n",
    "| ``a % b``    | Resto        | Resto inteiro da divisão de ``a`` por ``b``     |\n",
    "| ``a ** b``   | Exponenciação | ``a`` elevado à potencia de ``b``                     |\n",
    "\n",
    "Esses operadores podem ser usados e combinados de diversas formas usando parenteses para agrupar as operações.  \n"
   ]
  },
  {
   "cell_type": "code",
   "execution_count": null,
   "id": "6e92027b-b5f2-4782-a5b3-629593d0fd46",
   "metadata": {},
   "outputs": [],
   "source": [
    "# adição, subtração, multiplicação e divisão (verdadeira)\n",
    "(4 + 8) * ((6.5 - 3)/3)"
   ]
  },
  {
   "cell_type": "code",
   "execution_count": null,
   "id": "bb1b14e6-7699-4bdb-bfb0-36b652caf7a7",
   "metadata": {},
   "outputs": [],
   "source": [
    "# Divisão Verdadeira\n",
    "11 / 2"
   ]
  },
  {
   "cell_type": "code",
   "execution_count": null,
   "id": "639861b0-db91-4a52-971d-8d8fe755c71f",
   "metadata": {},
   "outputs": [],
   "source": [
    "# Divisão Piso\n",
    "11 // 2"
   ]
  },
  {
   "cell_type": "code",
   "execution_count": null,
   "id": "497fb106-64a4-465b-bb9e-d86d12233124",
   "metadata": {},
   "outputs": [],
   "source": [
    "# Divisão Piso\n",
    "11 % 2"
   ]
  },
  {
   "cell_type": "markdown",
   "id": "0997d259-eb5a-4810-bbe8-7ba246c638bc",
   "metadata": {
    "tags": []
   },
   "source": [
    "### Exercício 1\n",
    "\n",
    "Escreva um programa que inicialize uma variável com o valor 32 para representar a temperatura em Celsius. Em seguida, converta esse valor em Fahrenheit usando a fórmula F = 1.8C + 32. \n",
    "\n",
    "Imprima o valor Fahrenheit."
   ]
  },
  {
   "cell_type": "code",
   "execution_count": null,
   "id": "40fb3e17-b71e-4bdc-af67-2f4769cecf5e",
   "metadata": {},
   "outputs": [],
   "source": []
  },
  {
   "cell_type": "markdown",
   "id": "80bbeed3-1996-4368-9884-44b8a670b126",
   "metadata": {},
   "source": [
    "### Exercício 2\n",
    "\n",
    "Escreveva um script que converta uma quantidade inteira de minutos em seu respectivo valor dado em horas e minutos.\n",
    "\n",
    "O resultado do seu script deve ser da seguinte forma:\n",
    "\n",
    "Horas: x\n",
    "\n",
    "Minutos: y\n",
    "\n",
    "Por exemplo, o resultado da conversão de 132 minutos deve ser:\n",
    "\n",
    "Horas: 2\n",
    "\n",
    "Minutos: 12\n",
    "\n",
    "Explore as duas formas de resolver esse problema."
   ]
  },
  {
   "cell_type": "code",
   "execution_count": null,
   "id": "342779dd-170a-45fe-9ca0-539c7e91db5a",
   "metadata": {},
   "outputs": [],
   "source": []
  },
  {
   "cell_type": "markdown",
   "id": "177af8f8-1280-4864-9b31-8c0bfdeabb27",
   "metadata": {},
   "source": [
    "## Operações de Atribuição\n",
    "\n",
    "Nós já vimos que as variáveis podem ser atribuídas com o operador \"`=`\", e os valores armazenados para uso posterior. Por exemplo:"
   ]
  },
  {
   "cell_type": "code",
   "execution_count": null,
   "id": "698ef19f-8458-4fcf-8efb-01ce0d633636",
   "metadata": {},
   "outputs": [],
   "source": [
    "a = 24\n",
    "print(a)"
   ]
  },
  {
   "cell_type": "markdown",
   "id": "304cb862-91bd-4b5c-8111-2f7cdec8be36",
   "metadata": {},
   "source": [
    "Podemos usar essas variáveis em expressões com qualquer um dos operadores mencionados anteriormente.\n",
    "Por exemplo, para adicionar 2 a variável `a` escrevemos:"
   ]
  },
  {
   "cell_type": "code",
   "execution_count": null,
   "id": "fd1b342d-471c-449c-b685-41f85c1eeac5",
   "metadata": {},
   "outputs": [],
   "source": [
    "a + 2"
   ]
  },
  {
   "cell_type": "markdown",
   "id": "f8293a34-be6f-42e0-87d0-083d297c76fd",
   "metadata": {},
   "source": [
    "Podemos querer atualizar a variável `a` com este novo valor; neste caso, poderíamos combinar a adição e a atribuição e escrever `a = a + 2`.\n",
    "Como esse tipo de operação e atribuição combinadas é muito comum, Python inclui operadores de atualização integrados para todas as operações aritméticas:"
   ]
  },
  {
   "cell_type": "code",
   "execution_count": null,
   "id": "929728fb-af46-48c7-8fa3-8c28171e3fb1",
   "metadata": {},
   "outputs": [],
   "source": [
    "a += 2  # equivalente a seguinte expressão: a = a + 2\n",
    "print(a)"
   ]
  },
  {
   "cell_type": "markdown",
   "id": "02c4b300-1756-420b-96e9-ca693bcd8b80",
   "metadata": {},
   "source": [
    "O operadores de atribuição combinadas são:\n",
    "\n",
    "| Operador     | Descrição                                 |\n",
    "|--------------|---------------------------------------------|\n",
    "| ``a += b``    | soma `b` ao valor atribuido à variável `a`        |\n",
    "| ``a -= b``|  subtrai `b` do valor atribuido à variável `a`      |\n",
    "| ``a *= b``    | multiplica por `b` o valor atribuido à variável `a`|\n",
    "| ``a /= b``   |  divide por `b` o valor atribuido à variável `a`  (divisão verdadeira)  |\n",
    "| ``a //= b``   |  divide por `b` o valor atribuido à variável `a`  (divisão piso)   |\n",
    "| ``a %= b``      |  divide por `b` o valor atribuido à variável `a` e retorna o resto da divisão |\n",
    "| ``a **= b``     |  eleva a potência `b` o valor atribuido à variável `a`  |"
   ]
  },
  {
   "cell_type": "markdown",
   "id": "727a3df8-877e-4092-ae43-30d16cc8d403",
   "metadata": {},
   "source": [
    "Use os operadores acima para ganhar familiaridade."
   ]
  },
  {
   "cell_type": "code",
   "execution_count": null,
   "id": "6b0d4318-b650-498f-a85f-695977ab23af",
   "metadata": {},
   "outputs": [],
   "source": []
  },
  {
   "cell_type": "markdown",
   "id": "c8d73b86-15f9-43dc-a218-2659e0144b81",
   "metadata": {},
   "source": [
    "## Operações de Comparação\n",
    "\n",
    "Outro tipo de operação que pode ser muito útil é a comparação de valores diferentes.\n",
    "Para isso, Python implementa operadores de comparação padrão, que retornam valores booleanos `True` e `False`.\n",
    "As operações de comparação estão listadas na tabela a seguir:\n",
    "\n",
    "| Operação     | Descrição                       || Operação     | Descrição                          |\n",
    "|---------------|-----------------------------------||---------------|--------------------------------------|\n",
    "| ``a == b``    | ``a`` igual à ``b``              || ``a != b``    | ``a`` diferente de ``b``             |\n",
    "| ``a < b``     | ``a`` menor que ``b``             || ``a > b``     | ``a`` maior que ``b``             |\n",
    "| ``a <= b``    | ``a`` menor que ou igual à ``b`` || ``a >= b``    | ``a`` maior que ou igual à ``b`` |\n",
    "\n",
    "Esses operadores de comparação podem ser combinados com os operadores aritméticos para expressar um número ilimitado de testes para os números.\n",
    "Por exemplo, podemos verificar se um número é ímpar verificando se o resto da divisão por 2 é igual a 1:"
   ]
  },
  {
   "cell_type": "code",
   "execution_count": null,
   "id": "642f24b2-02a4-464f-aefa-42199d441f86",
   "metadata": {},
   "outputs": [],
   "source": [
    "# verificar se um número é ímpar\n",
    "n = 32\n",
    "n % 2 == 1"
   ]
  },
  {
   "cell_type": "markdown",
   "id": "4b8c484a-41d3-4a59-992a-78f01ae83314",
   "metadata": {},
   "source": [
    "Podemos juntar várias comparações para verificar relacionamentos mais complicados:"
   ]
  },
  {
   "cell_type": "code",
   "execution_count": null,
   "id": "059ff5ae-092b-45da-b143-36f8dc36e788",
   "metadata": {},
   "outputs": [],
   "source": [
    "# verificar se x está entre 15 e 30\n",
    "x = 25\n",
    "15 < x < 30"
   ]
  },
  {
   "cell_type": "markdown",
   "id": "4363e82e-4063-4fe1-bc81-25df53c94b3a",
   "metadata": {
    "tags": []
   },
   "source": [
    "## Operadores Booleanos\n",
    "\n",
    "Ao trabalhar com valores booleanos, Python fornece operadores para combinar os valores usando os conceitos padrão de \"e\", \"ou\" e \"não\". Esses operadores são expressos usando as palavras ``and``, ``or`` e ``not``:"
   ]
  },
  {
   "cell_type": "code",
   "execution_count": null,
   "id": "bed3f4d5-7b8f-4328-98bf-c795d82905b5",
   "metadata": {},
   "outputs": [],
   "source": [
    "x = 4\n",
    "(x < 6) and (x > 2)"
   ]
  },
  {
   "cell_type": "code",
   "execution_count": null,
   "id": "b7d87d87-97fd-4a20-a50a-f55cb6bbc8f9",
   "metadata": {},
   "outputs": [],
   "source": [
    "(x > 10) or (x % 2 == 0)"
   ]
  },
  {
   "cell_type": "code",
   "execution_count": null,
   "id": "b7793a5f-e119-47ef-af0d-085243574d2e",
   "metadata": {},
   "outputs": [],
   "source": [
    "not (x < 6)"
   ]
  },
  {
   "cell_type": "code",
   "execution_count": null,
   "id": "4b00b0b4-3c8d-4d94-88aa-836d313d2195",
   "metadata": {},
   "outputs": [],
   "source": [
    "a = ((4 < 20) and (20 > 9**(0.5))) and (not (33//3 == 11) or ((21 - 2) % 2 == 1) )\n",
    "# chute =  # Você acha que o valor da expressão acima True ou False?\n",
    "# a == chute"
   ]
  },
  {
   "cell_type": "markdown",
   "id": "2121876d-a99a-4454-84f1-1ef26e6b7b50",
   "metadata": {},
   "source": [
    "Esses tipos de operações booleanas se tornarão extremamente úteis quando começarmos a discutir expressões de controle de fluxo, como condicionais e loops."
   ]
  },
  {
   "cell_type": "markdown",
   "id": "1ac34076-cf65-4914-83e1-261964724c24",
   "metadata": {},
   "source": [
    "## Operadores de Identidade e Pertencimento\n",
    "\n",
    "Assim como `and`, `or` e `not`, Python também contém operadores para verificar identidade e pertencimento.\n",
    "Eles são os seguintes:\n",
    "\n",
    "| Operator      | Description                                       |\n",
    "|---------------|---------------------------------------------------|\n",
    "| ``a is b``    | True se ``a`` and ``b`` forem objetos identicos    |\n",
    "| ``a is not b``| True se ``a`` and ``b`` não forem objetos identicos |\n",
    "| ``a in b``    | True se ``a`` pertence a ``b``                |\n",
    "| ``a not in b``| True se ``a`` não pertence a ``b``            |"
   ]
  },
  {
   "cell_type": "markdown",
   "id": "84421025-6fa1-414f-8ee6-9c4b6f564bc7",
   "metadata": {},
   "source": [
    "Os operadores de identidade, \"`is`\" e \"`is not`\" verificam a *identidade do objeto*.\n",
    "A identidade do objeto é diferente da igualdade, como podemos ver aqui:"
   ]
  },
  {
   "cell_type": "code",
   "execution_count": null,
   "id": "891c340a-6aad-4134-beec-385d0044c26b",
   "metadata": {},
   "outputs": [],
   "source": [
    "a = [1, 2, 3]\n",
    "b = [1, 2, 3]"
   ]
  },
  {
   "cell_type": "code",
   "execution_count": null,
   "id": "c7cbf91b-b7bb-45d7-937b-e0dd71c81257",
   "metadata": {},
   "outputs": [],
   "source": [
    "a == b"
   ]
  },
  {
   "cell_type": "code",
   "execution_count": null,
   "id": "44731a3e-66f9-47bd-8974-79f61b74a40b",
   "metadata": {},
   "outputs": [],
   "source": [
    "a is b"
   ]
  },
  {
   "cell_type": "code",
   "execution_count": null,
   "id": "54f328a9-7d8c-4e18-ba56-0faed5c3d1fc",
   "metadata": {},
   "outputs": [],
   "source": [
    "a is not b"
   ]
  },
  {
   "cell_type": "markdown",
   "id": "3c3dc6b9-eced-4f4c-a189-f5086d701cfc",
   "metadata": {},
   "source": [
    "Essa relação é diferente para objetos imutáveis"
   ]
  },
  {
   "cell_type": "code",
   "execution_count": null,
   "id": "38ebb386-8e1a-4a4c-ba5c-cdb11175e9cd",
   "metadata": {},
   "outputs": [],
   "source": [
    "a = 5\n",
    "b = 5"
   ]
  },
  {
   "cell_type": "code",
   "execution_count": null,
   "id": "8f17fc7b-210d-4a19-859c-36157639d783",
   "metadata": {},
   "outputs": [],
   "source": [
    "a is b"
   ]
  },
  {
   "cell_type": "code",
   "execution_count": null,
   "id": "77abd08a-af77-466f-80bb-a7e86cb46c90",
   "metadata": {
    "tags": []
   },
   "outputs": [],
   "source": [
    "a is not b"
   ]
  },
  {
   "cell_type": "markdown",
   "id": "9ec41ba1-81f4-4972-9452-f94fd791272f",
   "metadata": {},
   "source": [
    "Essa relação é diferente quando explicitamente duas variáveis apontam para o mesmo objeto"
   ]
  },
  {
   "cell_type": "code",
   "execution_count": null,
   "id": "0fbcf61f-054b-4496-bc04-fb122124937f",
   "metadata": {},
   "outputs": [],
   "source": [
    "a = [1, 2, 3]\n",
    "b = a"
   ]
  },
  {
   "cell_type": "code",
   "execution_count": null,
   "id": "aa0161ab-f96e-4652-85f4-142500e493b5",
   "metadata": {
    "tags": []
   },
   "outputs": [],
   "source": [
    "a is b"
   ]
  },
  {
   "cell_type": "code",
   "execution_count": null,
   "id": "64ebc53a-3c78-4906-a5c7-cae358c50b22",
   "metadata": {
    "tags": []
   },
   "outputs": [],
   "source": [
    "a is not b"
   ]
  },
  {
   "cell_type": "markdown",
   "id": "25e25b6d-2ec4-4f92-a978-2d942ceea035",
   "metadata": {},
   "source": [
    "## Operadores de Pertencimento\n",
    "\n",
    "Os operadores de pertencimento verificam o pertencimento a objetos compostos.\n",
    "Assim, por exemplo, podemos escrever:"
   ]
  },
  {
   "cell_type": "code",
   "execution_count": null,
   "id": "05c22ffd-1006-4382-8500-0188995e0a55",
   "metadata": {},
   "outputs": [],
   "source": [
    "1 in [1, 2, 3]"
   ]
  },
  {
   "cell_type": "code",
   "execution_count": null,
   "id": "5fd06bba-9564-492a-87b6-93fe893a252a",
   "metadata": {},
   "outputs": [],
   "source": [
    "2 not in [1, 2, 3]"
   ]
  },
  {
   "cell_type": "code",
   "execution_count": null,
   "id": "83ce0bf4-a304-40a9-b802-36a3dbbdadd9",
   "metadata": {},
   "outputs": [],
   "source": [
    "'a' in 'casa'"
   ]
  },
  {
   "cell_type": "code",
   "execution_count": null,
   "id": "449230e5-b252-49c8-8941-8f3640be3837",
   "metadata": {},
   "outputs": [],
   "source": [
    "'casa' in 'minha casa minha vida'"
   ]
  },
  {
   "cell_type": "markdown",
   "id": "cebb04be-f358-4511-b78f-968c8483e3ae",
   "metadata": {},
   "source": [
    "## Referências\n",
    "\n",
    "1. A Whirlwind Tour of Python, O'Reilly Media, Jake VanderPlas (2016)"
   ]
  },
  {
   "cell_type": "markdown",
   "id": "e45c3375-4c6d-4b85-b9a4-89122ac66b6f",
   "metadata": {},
   "source": [
    "<!--NAVIGATION-->\n",
    "| [Semântica Básica de Python](aula2-1.ipynb) | [Condicionais (parte 1)](aula3-1.ipynb) >"
   ]
  }
 ],
 "metadata": {
  "kernelspec": {
   "display_name": "Python 3 (ipykernel)",
   "language": "python",
   "name": "python3"
  },
  "language_info": {
   "codemirror_mode": {
    "name": "ipython",
    "version": 3
   },
   "file_extension": ".py",
   "mimetype": "text/x-python",
   "name": "python",
   "nbconvert_exporter": "python",
   "pygments_lexer": "ipython3",
   "version": "3.9.12"
  }
 },
 "nbformat": 4,
 "nbformat_minor": 5
}
