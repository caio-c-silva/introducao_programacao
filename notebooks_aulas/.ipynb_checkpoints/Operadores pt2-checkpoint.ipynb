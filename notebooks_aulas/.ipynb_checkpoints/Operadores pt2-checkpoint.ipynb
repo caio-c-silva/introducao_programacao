{
 "cells": [
  {
   "cell_type": "markdown",
   "id": "56c3b55b-14d5-4ea4-acbb-077669ab27fb",
   "metadata": {},
   "source": [
    "# Operadores pt2\n",
    "\n",
    "[![Open In Colab](https://colab.research.google.com/assets/colab-badge.svg)](https://colab.research.google.com/github/caio-c-silva/introducao_programacao/blob/main/notebooks_aulas/.ipynb_checkpoints/Operadores%20pt2-checkpoint.ipynb)\n"
   ]
  },
  {
   "cell_type": "markdown",
   "id": "c8d73b86-15f9-43dc-a218-2659e0144b81",
   "metadata": {},
   "source": [
    "## Operações de Comparação\n",
    "\n",
    "Outro tipo de operação que pode ser muito útil é a comparação de valores diferentes.\n",
    "Para isso, Python implementa operadores de comparação padrão, que retornam valores booleanos `True` e `False`.\n",
    "As operações de comparação estão listadas na tabela a seguir:\n",
    "\n",
    "| Operação     | Descrição                       |\n",
    "|--------------|---------------------------------|\n",
    "| ``a == b``    | ``a`` igual à ``b``              |\n",
    "| ``a < b``     | ``a`` menor que ``b``            |\n",
    "| ``a <= b``    | ``a`` menor que ou igual à ``b`` |\n",
    "| ``a != b``    | ``a`` diferente de ``b``         |\n",
    "| ``a > b``     | ``a`` maior que ``b``            |\n",
    "| ``a >= b``    | ``a`` maior que ou igual à ``b`` |\n",
    "\n",
    "\n",
    "\n",
    "\n",
    "Esses operadores de comparação podem ser combinados com os operadores aritméticos para expressar um número ilimitado de testes para os números.\n",
    "Por exemplo, podemos verificar se um número é ímpar verificando se o resto da divisão por 2 é igual a 1:"
   ]
  },
  {
   "cell_type": "code",
   "execution_count": null,
   "id": "642f24b2-02a4-464f-aefa-42199d441f86",
   "metadata": {},
   "outputs": [],
   "source": [
    "# verificar se um número é ímpar\n",
    "n = 32\n",
    "n % 2 == 0"
   ]
  },
  {
   "cell_type": "markdown",
   "id": "4b8c484a-41d3-4a59-992a-78f01ae83314",
   "metadata": {},
   "source": [
    "Podemos juntar várias comparações para verificar relacionamentos mais complicados:"
   ]
  },
  {
   "cell_type": "code",
   "execution_count": null,
   "id": "059ff5ae-092b-45da-b143-36f8dc36e788",
   "metadata": {},
   "outputs": [],
   "source": [
    "# verificar se x está entre 15 e 30\n",
    "x = 25\n",
    "15 < x < 30"
   ]
  },
  {
   "cell_type": "markdown",
   "id": "010c911b-5fbc-4d0d-ba07-b81227c76e05",
   "metadata": {},
   "source": [
    "## Exercícios\n",
    "\n",
    "``` python\n",
    "10 % 2 == 0\n",
    "(7//2) != 3\n",
    "2**3 < 2 < 14 % 2\n",
    "10 <= 2 < 2\n",
    "9**0.5 == 3\n",
    "2 >= 8 * (4**-1)\n",
    "```"
   ]
  },
  {
   "cell_type": "markdown",
   "id": "4363e82e-4063-4fe1-bc81-25df53c94b3a",
   "metadata": {
    "tags": []
   },
   "source": [
    "## Operadores Booleanos\n",
    "\n",
    "Ao trabalhar com valores booleanos, Python fornece operadores para combinar os valores usando os conceitos padrão de \"e\", \"ou\" e \"não\". Esses operadores são expressos usando as palavras ``and``, ``or`` e ``not``:"
   ]
  },
  {
   "cell_type": "code",
   "execution_count": null,
   "id": "bed3f4d5-7b8f-4328-98bf-c795d82905b5",
   "metadata": {},
   "outputs": [],
   "source": [
    "x = 4\n",
    "(x < 6) and (x > 2)"
   ]
  },
  {
   "cell_type": "code",
   "execution_count": null,
   "id": "b7d87d87-97fd-4a20-a50a-f55cb6bbc8f9",
   "metadata": {},
   "outputs": [],
   "source": [
    "(x > 10) or (x % 2 == 0)"
   ]
  },
  {
   "cell_type": "code",
   "execution_count": null,
   "id": "b7793a5f-e119-47ef-af0d-085243574d2e",
   "metadata": {},
   "outputs": [],
   "source": [
    "not (x < 6)"
   ]
  },
  {
   "cell_type": "markdown",
   "id": "2121876d-a99a-4454-84f1-1ef26e6b7b50",
   "metadata": {},
   "source": [
    "Esses tipos de operações booleanas se tornarão extremamente úteis quando começarmos a discutir expressões de controle de fluxo, como condicionais e loops."
   ]
  },
  {
   "cell_type": "markdown",
   "id": "41ec58de-f26c-40bb-a26a-94b7330860d3",
   "metadata": {},
   "source": [
    "## Exercícios\n",
    "\n",
    "``` python\n",
    "\n",
    "a = True\n",
    "b = False\n",
    "c = True\n",
    "\n",
    "a or b and not a and not(c or b)\n",
    "(a and b) or (not a and not(c or a))\n",
    "c and not b or (not a and b)\n",
    "\n",
    "((4 < 20) and (20 > 9**(0.5))) and (not (33//3 == 11) or ((21 - 2) % 2 == 1))\n",
    "((4 != 20/5) and (4.5*(3/2)**-1 == 9**(0.5))) or (not (33//3 == 11) or ((21 - 2) % 2 == 1))\n",
    "```"
   ]
  }
 ],
 "metadata": {
  "kernelspec": {
   "display_name": "Python 3 (ipykernel)",
   "language": "python",
   "name": "python3"
  },
  "language_info": {
   "codemirror_mode": {
    "name": "ipython",
    "version": 3
   },
   "file_extension": ".py",
   "mimetype": "text/x-python",
   "name": "python",
   "nbconvert_exporter": "python",
   "pygments_lexer": "ipython3",
   "version": "3.11.0"
  }
 },
 "nbformat": 4,
 "nbformat_minor": 5
}
