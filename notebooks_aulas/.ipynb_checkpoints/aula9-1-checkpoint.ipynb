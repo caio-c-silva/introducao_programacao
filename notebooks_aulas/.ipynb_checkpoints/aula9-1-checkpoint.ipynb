{
 "cells": [
  {
   "cell_type": "markdown",
   "id": "2db89758-c554-4644-86ae-7929a6023cf3",
   "metadata": {
    "tags": []
   },
   "source": [
    "# Aula 9-1 - Listas\n",
    "\n",
    "[![Open In Colab](https://colab.research.google.com/assets/colab-badge.svg)](https://colab.research.google.com/github/caio-c-silva/aulas_python_2S2022/blob/main/notebooks_aulas/aula9-1.ipynb)\n"
   ]
  },
  {
   "cell_type": "markdown",
   "id": "b19ea273-4136-4554-80b1-0107e8cf8d2e",
   "metadata": {},
   "source": [
    "## Exercícios da Aula Passada\n"
   ]
  },
  {
   "cell_type": "markdown",
   "id": "ad28aedf-365a-4812-a9ab-f2279eb80e71",
   "metadata": {},
   "source": [
    "Crie um programa que verifica se uma sequência é uma subsequência válida de elementos contidos em uma lista.\n",
    "\n",
    "> Uma subsequência de uma lista é um conjunto de elementos que não são necessarimanete adjacentes mas aparecem na mesma ordem que aparecem na lista.\n",
    "\n",
    "Exemplo:\n",
    "\n",
    "\n",
    "``` python\n",
    "lista = [5, 1, 22, 25, 6, -1, 8, 10]\n",
    "sequencia = [1, 6, -1, 10]\n",
    "```\n",
    "\n",
    "Resultado:\n",
    "\n",
    "``` python\n",
    "True\n",
    "```"
   ]
  },
  {
   "cell_type": "code",
   "execution_count": null,
   "id": "96692969-c61a-45f6-9604-327d5cbfc037",
   "metadata": {},
   "outputs": [],
   "source": [
    "lista = [5, 1, 22, 25, 6, -1, 8, 10]\n",
    "sequencia = [1, 6, -1, 10]\n",
    "resultado = False\n",
    "\n",
    "seq_index = 0\n",
    "for num in lista:\n",
    "    if num == sequencia[seq_index]:\n",
    "        seq_index += 1\n",
    "    if seq_index == len(sequencia):\n",
    "        resultado = True\n",
    "        break\n",
    "print(resultado)"
   ]
  },
  {
   "cell_type": "markdown",
   "id": "55d1a005-8151-4bff-96e9-31c4d62b867e",
   "metadata": {},
   "source": [
    "Crie um programa que receba um conjunto não vazio de números inteiros distintos e um número representando uma soma (alvo). Caso o cojunto contenha 2 números que somados resultam no alvo, o programa deve retornar uma tuple contendo os dois números em qualquer ordem. No caso de não existir dois valores que somados resultem no alvo, o programa deve retornar o valor valor booleano False.\n",
    "\n",
    "Tente resolver de uma forma diferente das que foram apresentadas na aula passada. (Dica: utilize a função `sorted()` para ordenar o conjunto inicial)\n",
    "\n",
    "\n",
    "Exemplos:\n",
    "\n",
    "``` python\n",
    "conjunto = [3, 5, -4, 8, 11, -1, 6]\n",
    "alvo = 10\n",
    "```\n",
    "\n",
    "O resultado deve ser:\n",
    "\n",
    "``` python\n",
    "[-1, 11]\n",
    "```"
   ]
  },
  {
   "cell_type": "code",
   "execution_count": null,
   "id": "f9605741-5e50-41ae-88f3-91e08c065f18",
   "metadata": {},
   "outputs": [],
   "source": [
    "conjunto = [3, 5, -4, 8, 11, -1, 6]\n",
    "alvo = 10\n",
    "\n",
    "resultado = False\n",
    "\n",
    "conjunto_ordenado = sorted(conjunto)\n",
    "\n",
    "E = 0\n",
    "D = len(conjunto_ordenado) -1\n",
    "while E < D:\n",
    "    soma = conjunto_ordenado[E] + conjunto_ordenado[D]\n",
    "\n",
    "    if soma == alvo:\n",
    "        resultado =  [conjunto_ordenado[E], conjunto_ordenado[D]]\n",
    "        break\n",
    "    elif soma > alvo:\n",
    "        D -= 1\n",
    "    else:\n",
    "        E += 1\n",
    "\n",
    "print(resultado)"
   ]
  },
  {
   "cell_type": "markdown",
   "id": "7394b00c-775b-424a-a888-da3b2fa19777",
   "metadata": {},
   "source": [
    "## Outros Métodos"
   ]
  },
  {
   "cell_type": "markdown",
   "id": "55714549-4e89-4852-b6dd-67a0aaa371fc",
   "metadata": {},
   "source": [
    "### Insert()\n",
    "\n",
    "`L.insert(i, e)` adiciona o elemento `e` no índice `i` na lista L. O método permite que apenas um elemento seja inserido por vez. Quando um novo elemento é inserido à lista, todos os elementos nesse índice e depois são deslocados para o final da lista. A lista L é alterada para conter um valor extra."
   ]
  },
  {
   "cell_type": "code",
   "execution_count": null,
   "id": "721221cc-38bd-4e5b-8ad7-d68e11e6f25c",
   "metadata": {},
   "outputs": [],
   "source": [
    "lista_de_compras = ['pão', 'ovo']\n",
    "lista_de_compras"
   ]
  },
  {
   "cell_type": "code",
   "execution_count": null,
   "id": "25f002e1-bbb4-40d3-9654-8354d2fa8790",
   "metadata": {},
   "outputs": [],
   "source": [
    "lista_de_compras.insert(1, 'óleo')\n",
    "lista_de_compras"
   ]
  },
  {
   "cell_type": "markdown",
   "id": "2399a154-fae4-4a0a-8f9d-90d740c0aed6",
   "metadata": {},
   "source": [
    "## remove()\n",
    "\n",
    "O método remove() é usado para remover um determinado item da lista. Este método toma o valor do item que será removido da lista como um argumento, caso exista. Se o valor do item não existir na lista, será gerado um erro."
   ]
  },
  {
   "cell_type": "code",
   "execution_count": null,
   "id": "866ff682-32a6-4283-ae99-ec3a5dd9968f",
   "metadata": {},
   "outputs": [],
   "source": [
    "lista_de_compras.remove('óleo')\n",
    "lista_de_compras"
   ]
  },
  {
   "cell_type": "code",
   "execution_count": null,
   "id": "40393fdd-311b-4e7e-bd70-73d443c3d378",
   "metadata": {},
   "outputs": [],
   "source": [
    "lista_de_compras.remove('laranja')"
   ]
  },
  {
   "cell_type": "code",
   "execution_count": null,
   "id": "5c1af24a-bbbf-440d-9766-028ba125cff9",
   "metadata": {},
   "outputs": [],
   "source": [
    "lista_de_compras.insert(0, 'óleo')\n",
    "lista_de_compras.insert(2, 'óleo')\n",
    "lista_de_compras"
   ]
  },
  {
   "cell_type": "code",
   "execution_count": null,
   "id": "32b575b5-5ba2-4358-ab47-4184a55db968",
   "metadata": {},
   "outputs": [],
   "source": [
    "lista_de_compras.remove('óleo')\n",
    "lista_de_compras"
   ]
  },
  {
   "cell_type": "markdown",
   "id": "a00e2651-e512-4355-9418-860781728c6e",
   "metadata": {},
   "source": [
    "## clear()\n",
    "\n",
    "O método clear() é usado para remover todos os itens de uma lista, esvaziando assim a lista. Este método é útil para reatribuir os valores de uma lista removendo os itens anteriores."
   ]
  },
  {
   "cell_type": "code",
   "execution_count": null,
   "id": "2d86debb-359c-474d-bee4-9799c20f7cb7",
   "metadata": {},
   "outputs": [],
   "source": [
    "lista_de_compras.clear()\n",
    "lista_de_compras"
   ]
  },
  {
   "cell_type": "markdown",
   "id": "88fee0a5-9225-44fe-99d6-8a496c80124f",
   "metadata": {
    "tags": []
   },
   "source": [
    "## reverse()\n",
    "\n",
    "O método reverse() é usado para reverter os itens em qualquer lista. Este método é útil para classificar listas em ordem decrescente."
   ]
  },
  {
   "cell_type": "code",
   "execution_count": null,
   "id": "59df74d5-3f3c-4e3a-9592-ccd73ad07c78",
   "metadata": {},
   "outputs": [],
   "source": [
    "L = [1, 3, 6, 10, 80]\n",
    "L.reverse()\n",
    "L"
   ]
  },
  {
   "cell_type": "markdown",
   "id": "2ddbcc65-5e9f-4609-9bd2-8c9559030b48",
   "metadata": {},
   "source": [
    "## Exercício\n",
    "\n",
    "Você recebe uma lista com números inteiros positivos onde cada número diferente de zero representa uma coluna com largura igual a 1. Imagine que água é derramada sobre as colunas. Escreva um programa que calcule a área da superfície de água que está armazenada entre as colunas.\n",
    "\n",
    "Dica: Você pode precisar usar as funções `max()` e `min()`."
   ]
  },
  {
   "cell_type": "code",
   "execution_count": null,
   "id": "7f392509-e053-499a-8ec9-ea4fa1e6f2ce",
   "metadata": {},
   "outputs": [],
   "source": [
    "max(3, 10)"
   ]
  },
  {
   "cell_type": "code",
   "execution_count": null,
   "id": "f2c6a357-b182-4e81-b4d9-592765c28fc3",
   "metadata": {},
   "outputs": [],
   "source": [
    "min(3, 10)"
   ]
  },
  {
   "cell_type": "markdown",
   "id": "bc71ae9d-16af-4829-8f9c-6d49e8f7e313",
   "metadata": {},
   "source": [
    "## Referências\n",
    "\n",
    "1. Get Programming: Learn to Code With Python, Manning Publications, Ana Bell (2018)"
   ]
  },
  {
   "cell_type": "markdown",
   "id": "e3d4f24a-3914-4250-af44-72a1f162a314",
   "metadata": {},
   "source": [
    "<!--NAVIGATION-->\n",
    "| [listas](aula8-2.ipynb) | [Dicionários](aula10-1.ipynb) >"
   ]
  }
 ],
 "metadata": {
  "kernelspec": {
   "display_name": "Python 3 (ipykernel)",
   "language": "python",
   "name": "python3"
  },
  "language_info": {
   "codemirror_mode": {
    "name": "ipython",
    "version": 3
   },
   "file_extension": ".py",
   "mimetype": "text/x-python",
   "name": "python",
   "nbconvert_exporter": "python",
   "pygments_lexer": "ipython3",
   "version": "3.9.12"
  }
 },
 "nbformat": 4,
 "nbformat_minor": 5
}
