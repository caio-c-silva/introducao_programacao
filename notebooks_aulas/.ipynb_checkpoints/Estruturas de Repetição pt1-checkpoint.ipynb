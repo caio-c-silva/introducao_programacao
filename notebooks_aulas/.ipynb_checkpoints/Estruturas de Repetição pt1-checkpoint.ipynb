{
 "cells": [
  {
   "cell_type": "markdown",
   "id": "2db89758-c554-4644-86ae-7929a6023cf3",
   "metadata": {},
   "source": [
    "# Aula 4-1 - Estruturas de Repetição\n",
    "\n",
    "[![Open In Colab](https://colab.research.google.com/assets/colab-badge.svg)](https://colab.research.google.com/github/caio-c-silva/aulas_python_2S2022/blob/main/notebooks_aulas/aula4-1.ipynb)\n"
   ]
  },
  {
   "cell_type": "markdown",
   "id": "0e43bc36-5363-4f58-9a5b-1d9772eeddf3",
   "metadata": {},
   "source": [
    "## Atividades Repetitivas\n",
    "\n",
    "Resolução de ano novo: fazer 10 abdominais e 20 flexões todos os dias.\n",
    "\n",
    "<br/><br/>\n",
    "<img src=\"../fig/flowchart4.png\" style=\"margin:auto\"/>\n",
    "<br/><br/>"
   ]
  },
  {
   "cell_type": "markdown",
   "id": "78785912-4fc9-4227-b8f3-fba202630564",
   "metadata": {},
   "source": [
    "## Repetições no programa\n",
    "\n",
    "### Exemplo 1\n",
    "\n",
    "Imagine que você precise fazer o seguinte cálculo:\n",
    "\n",
    "$$\\frac{{x^{0.5}} - 23}{{\\pi} - 0.81}$$\n",
    "\n",
    "Em Python:\n",
    "\n",
    "``` python\n",
    "((x**0.5) - 23) / (3.1415 - 0.81)\n",
    "```\n",
    "\n",
    "Agora imagine que você precise fazer esse cálculo para volores de x que vão de 0 até 200 e imprimir resultado:\n",
    "\n",
    "Em Python:\n",
    "\n",
    "``` python\n",
    "x = 0\n",
    "resultado = ((x**0.5) - 23) / (3.1415 - 0.81)\n",
    "print(resultado)\n",
    "x = 1\n",
    "resultado = ((x**0.5) - 23) / (3.1415 - 0.81)\n",
    "print(resultado)\n",
    "x = 2\n",
    "resultado = ((x**0.5) - 23) / (3.1415 - 0.81)\n",
    "print(resultado)\n",
    "x = 3\n",
    "resultado = ((x**0.5) - 23) / (3.1415 - 0.81)\n",
    "print(resultado)\n",
    ".\n",
    ".\n",
    ".\n",
    "x = 200\n",
    "resultado = ((x**0.5) - 23) / (3.1415 - 0.81)\n",
    "print(resultado)\n",
    "```\n",
    "\n",
    "### Exemplo 2\n",
    "\n",
    "Imagine que você tenha que a saudação \"Olá ____, seja muito bem vindo!\" para os seguintes 5 nomes: João, Maria, José, Laura, Marcos\n",
    "\n",
    "Em Python:\n",
    "\n",
    "``` python\n",
    "print('Olá João, seja muito bem vindo!')\n",
    "print('Olá Maria, seja muito bem vindo!')\n",
    "print('Olá José, seja muito bem vindo!')\n",
    "print('Olá Laura, seja muito bem vindo!')\n",
    "print('Olá Marcos, seja muito bem vindo!')\n",
    "```\n",
    "\n"
   ]
  },
  {
   "cell_type": "markdown",
   "id": "3bf2e665-c78b-4e55-8137-ad9b324f8892",
   "metadata": {},
   "source": [
    "Em Python, a palavra-chave que informa como fazer um loop determinado número de vezes é `for`."
   ]
  },
  {
   "cell_type": "code",
   "execution_count": null,
   "id": "67eba8e4-831c-43de-8d01-6feffff487c7",
   "metadata": {},
   "outputs": [],
   "source": [
    "for x in range(6):\n",
    "    resultado = ((x**0.5) - 23) / (3.1415 - 0.81)\n",
    "    print(resultado)    "
   ]
  },
  {
   "cell_type": "markdown",
   "id": "ff61fe4b-a4bb-4636-8870-69306adae6a5",
   "metadata": {},
   "source": [
    "A forma geral da estrutura de repetição `for` é:\n",
    "\n",
    "``` python\n",
    "for <variável do loop> in <valores>:\n",
    "    <faça alguma coisa >\n",
    "```"
   ]
  },
  {
   "cell_type": "markdown",
   "id": "9789a07e-5e18-4229-b0fd-a00b2a89933d",
   "metadata": {},
   "source": [
    "Uma forma de criar uma sequência de valores em python é através da função `range()`. Assim, o resultado da função `range(n)` será:\n",
    "\n",
    "<br/><br/>\n",
    "<img src=\"../fig/chart1.png\" style=\"margin:auto\"/>\n",
    "<br/><br/>"
   ]
  },
  {
   "cell_type": "code",
   "execution_count": null,
   "id": "9ef5a268-0252-495b-a4fe-8f6b24959b3d",
   "metadata": {},
   "outputs": [],
   "source": [
    "list(range(6))"
   ]
  },
  {
   "cell_type": "code",
   "execution_count": null,
   "id": "4984c89a-2cf0-4887-9561-fa59e28dc6ef",
   "metadata": {},
   "outputs": [],
   "source": [
    "list(range(2, 6))"
   ]
  },
  {
   "cell_type": "code",
   "execution_count": null,
   "id": "9c53dc44-39e2-4ea4-8c9b-784e1884a60d",
   "metadata": {},
   "outputs": [],
   "source": [
    "list(range(2, 12, 2))"
   ]
  },
  {
   "cell_type": "markdown",
   "id": "f87cf91f-e649-460e-9e74-e70867830cf2",
   "metadata": {},
   "source": [
    "A forma gerão da função `range()` é:\n",
    "\n",
    "``` python\n",
    "range(start, stop, step)\n",
    "```"
   ]
  },
  {
   "cell_type": "code",
   "execution_count": null,
   "id": "2f84c154-531e-4703-9c89-e16c6d135a23",
   "metadata": {},
   "outputs": [],
   "source": [
    "range?"
   ]
  },
  {
   "cell_type": "markdown",
   "id": "7b1c8d9c-9935-4882-8d1b-7a8bdda3d327",
   "metadata": {},
   "source": [
    "### Exercícios\n",
    "\n",
    "1 - Crie um programa que imprima a seguinte menságem: \"o quadrado de x é x2\", onde:\n",
    "\n",
    "$$x2 = x^2$$\n",
    "\n",
    "Rode esse programa para valores de x que vão de 0 até 10"
   ]
  },
  {
   "cell_type": "code",
   "execution_count": null,
   "id": "2fe6e0be-a6ea-4d55-8cd4-f10b47eb96e1",
   "metadata": {},
   "outputs": [],
   "source": []
  },
  {
   "cell_type": "markdown",
   "id": "29c1e62c-164a-467c-9ed6-23f217c0e97b",
   "metadata": {},
   "source": [
    "2 - Crie um programa que calcule a raiz quadrada de todos os números pares entre 1 e 20 "
   ]
  },
  {
   "cell_type": "code",
   "execution_count": null,
   "id": "62c2f810-fca1-4477-9ba2-71222e401c47",
   "metadata": {},
   "outputs": [],
   "source": []
  },
  {
   "cell_type": "markdown",
   "id": "a3a289d8-7a88-4dbe-8887-a94ca84bb398",
   "metadata": {},
   "source": [
    "3 - Crie um programa que some todos os números na sequência de 1 até 100"
   ]
  },
  {
   "cell_type": "code",
   "execution_count": null,
   "id": "af771f45-5b12-4a24-baf8-f63b477d1070",
   "metadata": {},
   "outputs": [],
   "source": []
  },
  {
   "cell_type": "markdown",
   "id": "1802eb25-af64-4e59-b92e-e8951fafef04",
   "metadata": {},
   "source": [
    "4 - Escreva um programa que itere sobre todos os números pares entre 1 e 100. Se o número também for divisível por 6, incremente um contador. No final do seu programa, imprima quantos números pares existem entre 1 e 100, e quantos são divisíveis por 6."
   ]
  },
  {
   "cell_type": "code",
   "execution_count": null,
   "id": "cd8e4d53-fa3e-4116-9656-333d6d74f65a",
   "metadata": {},
   "outputs": [],
   "source": []
  },
  {
   "cell_type": "markdown",
   "id": "bc71ae9d-16af-4829-8f9c-6d49e8f7e313",
   "metadata": {},
   "source": [
    "## Referências\n",
    "\n",
    "1. Get Programming: Learn to Code With Python, Manning Publications, Ana Bell (2018)"
   ]
  },
  {
   "cell_type": "markdown",
   "id": "e3d4f24a-3914-4250-af44-72a1f162a314",
   "metadata": {},
   "source": [
    "<!--NAVIGATION-->\n",
    "| [Condicionais (parte 2)](aula3-2.ipynb) | [Estruturas de Repetição (parte 2)](aula4-2.ipynb) >"
   ]
  }
 ],
 "metadata": {
  "kernelspec": {
   "display_name": "Python 3 (ipykernel)",
   "language": "python",
   "name": "python3"
  },
  "language_info": {
   "codemirror_mode": {
    "name": "ipython",
    "version": 3
   },
   "file_extension": ".py",
   "mimetype": "text/x-python",
   "name": "python",
   "nbconvert_exporter": "python",
   "pygments_lexer": "ipython3",
   "version": "3.9.12"
  }
 },
 "nbformat": 4,
 "nbformat_minor": 5
}
