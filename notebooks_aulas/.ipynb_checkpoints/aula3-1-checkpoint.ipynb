{
 "cells": [
  {
   "cell_type": "markdown",
   "id": "52eccbc8-6961-4bbd-809f-67c8ab006470",
   "metadata": {},
   "source": [
    "# Aula 3-1 - Condicionais (parte 1)\n",
    "\n",
    "[![Open In Colab](https://colab.research.google.com/assets/colab-badge.svg)](https://colab.research.google.com/github/caio-c-silva/aulas_python_2S2022/blob/main/notebooks_aulas/aula3-1.ipynb)\n"
   ]
  },
  {
   "cell_type": "markdown",
   "id": "b4ba8219-0761-49e2-a921-7979b4c5009f",
   "metadata": {},
   "source": [
    "## Revisão\n",
    "\n",
    "Escreva um programa que calcula o preço por centimetro quadrado de uma pizza dado o preço total e o diâmetro da pizza: Lembre-se que a área do circulo é dada por:\n",
    "\n",
    "$$A = \\pi{r^2}$$"
   ]
  },
  {
   "cell_type": "code",
   "execution_count": null,
   "id": "cf0d0057-2d1a-498e-a4a7-f913729667fe",
   "metadata": {},
   "outputs": [],
   "source": []
  },
  {
   "cell_type": "markdown",
   "id": "e8ea8df4-4b67-48c9-8c4d-2af6e4a02799",
   "metadata": {
    "tags": []
   },
   "source": [
    "## Interação com o Usuário\n",
    "\n",
    "A função `input()` é uma função nativa de Python usada para armazenar informações fornecidas pelo usuário.\n",
    "\n",
    "Imagine que você queira perguntar qual o no nome do usuário e em seguida desejar-lhe um bom dia"
   ]
  },
  {
   "cell_type": "code",
   "execution_count": null,
   "id": "5e70e5dc-df8c-4509-a392-844ff0ff373e",
   "metadata": {},
   "outputs": [],
   "source": [
    "nome = input('Qual o seu nome?')\n",
    "print(f'Olá {nome}. Tenha um ótimo dia!')"
   ]
  },
  {
   "cell_type": "markdown",
   "id": "1dac4853-0674-4772-b38f-f952a8c6964d",
   "metadata": {},
   "source": [
    "Verifique o tipo da variável nome"
   ]
  },
  {
   "cell_type": "code",
   "execution_count": null,
   "id": "55288d6d-a864-4854-8096-033e25fba921",
   "metadata": {},
   "outputs": [],
   "source": []
  },
  {
   "cell_type": "markdown",
   "id": "af7b3734-26e9-43e8-9c5a-cb39a8cb39b5",
   "metadata": {},
   "source": [
    "## Introduzindo Decisões ao Programa\n",
    "\n",
    "Considere a seguinte situação:\n",
    "\n",
    "É segunda-feira de manhã. Sua primeira reunião é às 8h30 e seu trajeto leva 45 minutos. Seu despertador o acorda pontualmente às 7h30. Use o diagrama de fluxo (fluxograma) a seguir para descobrir se você tem tempo para tomar café da manhã.\n",
    "\n",
    "\n",
    "<img src=\"../fig/flowchart1.png\" style=\"margin:auto\"/>\n",
    "<br/><br/>\n",
    "\n",
    "Nosso objetivo é escrever programas que se comportam de maneira diferente quando recebem estímulos diferentes. Os estímulos vêm na forma de entradas para o programa. As entradas podem ser dadas por um usuário interagindo com o programa ou podem ser o resultado de uma computação interna. Independentemente disso, os programas se tornam mais interessantes, interativos e úteis quando são reativos."
   ]
  },
  {
   "cell_type": "markdown",
   "id": "24833ef2-62d1-44c8-8fa7-39c43a5e675c",
   "metadata": {},
   "source": [
    "## Condicionais em Python\n",
    "\n",
    "Python tem um conjunto de palavras-chave reservadas. Elas têm um significado especial e, portanto, não podem ser usados como nomes de variáveis. A palavra 'if' é reservada para escrever o declaração condicional `if`."
   ]
  },
  {
   "cell_type": "code",
   "execution_count": null,
   "id": "e7f9e0b2-bbf4-488d-9174-966573594c36",
   "metadata": {},
   "outputs": [],
   "source": [
    "num = int(input('Escreva um número:'))\n",
    "if num > 0:\n",
    "    print('O número é positivo')\n",
    "print('Finalizar comparação')"
   ]
  },
  {
   "cell_type": "markdown",
   "id": "cc609926-3ac7-4ede-add5-a5c324473f3d",
   "metadata": {},
   "source": [
    "O script acima pode ser traduzido no seguinte fluxograma:\n",
    "\n",
    "\n",
    "<img src=\"../fig/flowchart2.png\" style=\"margin:auto\"/>\n",
    "<br/><br/>\n"
   ]
  },
  {
   "cell_type": "markdown",
   "id": "1b2bb192-9492-4d25-956a-9fcdbb2f2b84",
   "metadata": {},
   "source": [
    "A forma geral escrever condicional `if` é:\n",
    "\n",
    "``` python\n",
    "<algum código>\n",
    "if <condicional>:\n",
    "    <faça alguma coisa>\n",
    "<algum código>\n",
    "```"
   ]
  },
  {
   "cell_type": "code",
   "execution_count": null,
   "id": "fe8fb2ec-59f8-4a1b-b4e2-2a75c9baef58",
   "metadata": {},
   "outputs": [],
   "source": []
  },
  {
   "cell_type": "markdown",
   "id": "ed293e57-9758-427d-a954-f8357fb6ccbd",
   "metadata": {},
   "source": [
    "### Exercício\n",
    "\n",
    "O índice de massa corporal (IMC) é dado pela seguinte expressão:\n",
    "\n",
    "$$IMC = \\frac{m}{{h}^2}$$\n",
    "\n",
    "Onde `m` é a massa da pessoa em Kg e `h` é a altura da pessoa em metros.\n",
    "\n",
    "Valores de IMC entre 18,5 e 24,9 são considerados normais. Crie um programa que peça a massa e a altura do usuário, calcule o IMC e verifique se o índice está no rage considerado normal. Em caso afirmativo, imprima a mensagem `Seu IMC está normal`. Por fim, imprima o valor do IMC. "
   ]
  },
  {
   "cell_type": "code",
   "execution_count": null,
   "id": "b194fb8a-53fb-4a03-8f6a-9c9798053b0a",
   "metadata": {},
   "outputs": [],
   "source": []
  },
  {
   "cell_type": "markdown",
   "id": "ed85c2c3-4fd4-477f-ae4c-058d56fccb10",
   "metadata": {},
   "source": [
    "## Combinação de condicionais\n",
    "\n",
    "É possível combinar condicionais uma após a outra para ter uma série de instruções `if`. A cada condicional, o programa decide se deve executar o código dentro do bloco dessa condicional. Esse tipo de combinação é chamada de `combinação em série`."
   ]
  },
  {
   "cell_type": "code",
   "execution_count": null,
   "id": "3296f64e-e418-43a2-9a7f-6afa3c51c226",
   "metadata": {},
   "outputs": [],
   "source": [
    "num_a = int(input(\"Escolha um número: \"))\n",
    "if num_a > 0:\n",
    "    print(\"Seu número é positivo\")\n",
    "if num_a < 0:\n",
    "    print(\"Seu número é negativo\")\n",
    "if num_a == 0:\n",
    "    print(\"Seu número é zero\")\n",
    "print(\"Fim!\")"
   ]
  },
  {
   "cell_type": "markdown",
   "id": "bb476a34-7c95-4f1b-a446-064edeb3b77c",
   "metadata": {},
   "source": [
    "Outra forma de combinar condicionais é através das `condicionais nested`. Nesse caso, uma decisão é considerada baseada no resultado de uma condição anterior."
   ]
  },
  {
   "cell_type": "code",
   "execution_count": null,
   "id": "9095ea06-beab-45fa-854d-16e07ccf2150",
   "metadata": {},
   "outputs": [],
   "source": [
    "num_a = int(input(\"Escolha um número: \"))\n",
    "if num_a > 0:\n",
    "    if num_a < 10:\n",
    "        print(\"Seu número está entre 0 e 10\")\n"
   ]
  },
  {
   "cell_type": "markdown",
   "id": "d8108b0b-5908-44b8-94dc-98d0e790d8b4",
   "metadata": {},
   "source": [
    "## Exercício\n",
    "\n",
    "Veja a tabela de IMC abaixo:\n",
    "\n",
    "| IMC          | Situação                   |\n",
    "|--------------|----------------------------|\n",
    "| Abaixo de 17 | Muito abaixo do peso       |\n",
    "| Entre 17 e 18,49 | Abaixo do peso         |\n",
    "| Entre 18,50 e 24,99 | Peso normal         |\n",
    "| Entre 25 e 29,99 | Acima do peso          |\n",
    "| Entre 30 e 34,99 | Obesidade I            |\n",
    "| Entre 35 e 39,99 | Obesidade II (severa)  |\n",
    "| Acima de 40 | Obesidade III (mórbida)     |\n",
    "\n",
    " 1 - Crie um programa que peça a massa e a altura do usuário, calcule o IMC e imprima a situação que o usuário está.  \n"
   ]
  },
  {
   "cell_type": "code",
   "execution_count": null,
   "id": "d78ddf56-e704-4cac-87fb-2c1982ccd213",
   "metadata": {},
   "outputs": [],
   "source": []
  },
  {
   "cell_type": "markdown",
   "id": "c5f0bef1-1679-4d9b-a385-5e27873287a7",
   "metadata": {},
   "source": [
    "2 - Traduza o fluxograma abaixo e crie um jogo para advinhar um número que foi pensado.\n",
    "\n",
    "<img src=\"../fig/flowchart3.png\" style=\"margin:auto\" width=\"500px\"/>\n",
    "<br/><br/>"
   ]
  },
  {
   "cell_type": "code",
   "execution_count": null,
   "id": "118404a6-b0d2-4b31-b11b-de9e8cf370c8",
   "metadata": {
    "tags": []
   },
   "outputs": [],
   "source": [
    "from random import randint\n",
    "\n",
    "num = randint(1, 10)\n",
    "num"
   ]
  },
  {
   "cell_type": "markdown",
   "id": "87f80b8c-b4e1-4b75-b901-dc6c012ff01a",
   "metadata": {},
   "source": [
    "## Referências\n",
    "\n",
    "1. Get Programming: Learn to Code With Python, Manning Publications, Ana Bell (2018)"
   ]
  },
  {
   "cell_type": "markdown",
   "id": "8b703d9e-f94d-4067-b09a-4ca86348c524",
   "metadata": {},
   "source": [
    "<!--NAVIGATION-->\n",
    "| [Semântica Básica de Python - Operadores](aula2-2.ipynb) | [Condicionais (parte 2)](aula3-2.ipynb) >"
   ]
  }
 ],
 "metadata": {
  "kernelspec": {
   "display_name": "Python 3 (ipykernel)",
   "language": "python",
   "name": "python3"
  },
  "language_info": {
   "codemirror_mode": {
    "name": "ipython",
    "version": 3
   },
   "file_extension": ".py",
   "mimetype": "text/x-python",
   "name": "python",
   "nbconvert_exporter": "python",
   "pygments_lexer": "ipython3",
   "version": "3.9.12"
  }
 },
 "nbformat": 4,
 "nbformat_minor": 5
}
