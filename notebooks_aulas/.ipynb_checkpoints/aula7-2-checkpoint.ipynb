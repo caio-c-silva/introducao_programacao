{
 "cells": [
  {
   "cell_type": "markdown",
   "id": "2db89758-c554-4644-86ae-7929a6023cf3",
   "metadata": {},
   "source": [
    "# Aula 7-2 - Strings: Métodos\n",
    "\n",
    "[![Open In Colab](https://colab.research.google.com/assets/colab-badge.svg)](https://colab.research.google.com/github/caio-c-silva/aulas_python_2S2022/blob/main/notebooks_aulas/aula7-2.ipynb)\n"
   ]
  },
  {
   "cell_type": "markdown",
   "id": "6641000c-b8a4-4b37-a598-1b73699ee772",
   "metadata": {
    "tags": []
   },
   "source": [
    "## Operadores matemáticos usados com strings\n",
    "\n",
    "Strings podem ser concatenadas utilizando o operador `+`"
   ]
  },
  {
   "cell_type": "code",
   "execution_count": null,
   "id": "bba05629-15a2-4543-a29c-f3980928f73e",
   "metadata": {},
   "outputs": [],
   "source": [
    "a = 'água'\n",
    "b = 'gelada'\n",
    "\n",
    "print(a + b)\n",
    "\n",
    "print(a + ' ' + b)"
   ]
  },
  {
   "cell_type": "markdown",
   "id": "7adadc6f-b763-44ee-8a3c-b87e3afb6d9a",
   "metadata": {},
   "source": [
    "O operador de multiplicação `*` também pode ser usado para criar repetições da mesma string. "
   ]
  },
  {
   "cell_type": "code",
   "execution_count": null,
   "id": "eb9a4810-1cdf-4718-9ee2-a68c2e0e7180",
   "metadata": {},
   "outputs": [],
   "source": [
    "a = 'bla '\n",
    "\n",
    "print(3 * a)"
   ]
  },
  {
   "cell_type": "markdown",
   "id": "985bf2c8-6fcf-49a9-92a1-23e84b86e179",
   "metadata": {
    "tags": []
   },
   "source": [
    "## Capitalização\n",
    "\n",
    "Alguns métodos estão disponíveis para manipular a capitalização de uma string. Esses comandos afetam apenas os caracteres de letra na string. Números e caracteres especiais não são afetados:\n",
    "\n",
    "- `lower()` converte todas as letras na string para minúsculas. \n",
    "- `upper()` converte todas as letras da string em maiúsculas. \n",
    "- `swapcase()` converte as letras minúsculas presentes na string em maiúsculas e vice-versa.\n",
    "- `capitalize()` converte o primeiro caractere na string para uma letra maiúscula e faz o restante das letras minúsculas. \n",
    "- `title()` Faz a primeira letra de cada palavra em maiúscula. "
   ]
  },
  {
   "cell_type": "markdown",
   "id": "a5ae934a-7865-4e81-824b-5a01f249dcbb",
   "metadata": {},
   "source": [
    "Imprima uma descrição do que cada método acima faz e aplique o método ao poema de Mario Quintana abaixo:\n",
    "\n",
    "```\n",
    "Todos esses que aí estão\n",
    "Atravancando meu caminho,\n",
    "Eles passarão...\n",
    "Eu passarinho!\n",
    "```"
   ]
  },
  {
   "cell_type": "code",
   "execution_count": null,
   "id": "c093fd5b-80b0-4475-8aaf-5e3ef768264e",
   "metadata": {},
   "outputs": [],
   "source": []
  },
  {
   "cell_type": "markdown",
   "id": "b57a01e0-8ee7-4858-a253-088866a23031",
   "metadata": {},
   "source": [
    "## Adicionando e Removendo Espaços\n",
    "\n",
    "O método básico de remoção de espaços é o método `strip()`, que remove os espaços em branco do início e do fim da linha."
   ]
  },
  {
   "cell_type": "code",
   "execution_count": null,
   "id": "7061ba16-9a12-44aa-be7e-233515610446",
   "metadata": {},
   "outputs": [],
   "source": [
    "frase = ' Cidade de Hortolândia    '\n",
    "frase.strip()"
   ]
  },
  {
   "cell_type": "markdown",
   "id": "8d494f18-51fe-43e3-b4c5-5100a86bd0e7",
   "metadata": {},
   "source": [
    "Para remover apenas o espaço à direita ou à esquerda, use `rstrip()` ou `lstrip()` respectivamente."
   ]
  },
  {
   "cell_type": "code",
   "execution_count": null,
   "id": "e568424f-f652-4c33-94a7-45f8e3c261a9",
   "metadata": {},
   "outputs": [],
   "source": [
    "frase.lstrip()"
   ]
  },
  {
   "cell_type": "code",
   "execution_count": null,
   "id": "9fee4695-a85a-474a-9cb4-ae4766efe327",
   "metadata": {},
   "outputs": [],
   "source": [
    "frase.rstrip()"
   ]
  },
  {
   "cell_type": "markdown",
   "id": "ac853aab-6159-42a4-a40d-32c259873e79",
   "metadata": {},
   "source": [
    "O oposto desta operação, adicionar espaços ou outros caracteres, pode ser feito usando os métodos `center()`, `ljust()` e `rjust()`."
   ]
  },
  {
   "cell_type": "code",
   "execution_count": null,
   "id": "67889f8c-ea96-4e08-a65b-348f57baf19e",
   "metadata": {},
   "outputs": [],
   "source": [
    "frase = \"Cidade de Hortolândia\"\n",
    "#len(frase)\n",
    "frase.center(30)"
   ]
  },
  {
   "cell_type": "code",
   "execution_count": null,
   "id": "0712caac-7b4c-4c51-9a03-cd582cc109e2",
   "metadata": {},
   "outputs": [],
   "source": [
    "frase.ljust(30)"
   ]
  },
  {
   "cell_type": "code",
   "execution_count": null,
   "id": "300f7626-7335-4748-87ec-61a42f4daa7a",
   "metadata": {},
   "outputs": [],
   "source": [
    "frase.rjust(30)"
   ]
  },
  {
   "cell_type": "markdown",
   "id": "df6865ca-611e-4606-b094-a58edfa2a462",
   "metadata": {},
   "source": [
    "## Localizando e Substituindo Substrings"
   ]
  },
  {
   "cell_type": "markdown",
   "id": "1eeff32d-6eb8-4562-bc6e-b019df7f937e",
   "metadata": {},
   "source": [
    "Para encontrar ocorrências de um determinado caractere em uma string, os métodos find(), rfind(), index(), rindex() e replace() são os melhores métodos integrados.\n",
    "\n",
    "find() e index() são muito semelhantes, pois pesquisam a primeira ocorrência de um caractere ou substring em uma string e retornam o índice da substring:"
   ]
  },
  {
   "cell_type": "code",
   "execution_count": null,
   "id": "e8311fd2-97a9-4ac5-a023-e550a1b2de4e",
   "metadata": {},
   "outputs": [],
   "source": [
    "poema = 'Todos esses que aí estão; Atravancando meu caminho, Eles passarão...; Eu passarinho!'\n",
    "poema.find('passa')"
   ]
  },
  {
   "cell_type": "code",
   "execution_count": null,
   "id": "4c322dd6-c932-4c25-b767-5beed5ffe487",
   "metadata": {},
   "outputs": [],
   "source": [
    "poema.index('passa')"
   ]
  },
  {
   "cell_type": "code",
   "execution_count": null,
   "id": "d0ac6ab1-ceeb-4d70-a0b7-17abc7e304a2",
   "metadata": {},
   "outputs": [],
   "source": [
    "poema.find('água')"
   ]
  },
  {
   "cell_type": "code",
   "execution_count": null,
   "id": "1826678e-3ef2-428d-8a15-59f94f387040",
   "metadata": {},
   "outputs": [],
   "source": [
    "poema.index('água')"
   ]
  },
  {
   "cell_type": "markdown",
   "id": "763a9796-2253-4b5d-84b0-517f872e11bd",
   "metadata": {},
   "source": [
    "Os métodos relacionados `rfind()` e `rindex()` funcionam de forma semelhante, exceto que eles procuram a primeira ocorrência a partir do final em vez do início da string:"
   ]
  },
  {
   "cell_type": "code",
   "execution_count": null,
   "id": "d65d4ebe-770c-4d8d-80bc-f7f9f93cb694",
   "metadata": {},
   "outputs": [],
   "source": [
    "poema.rfind('passa')"
   ]
  },
  {
   "cell_type": "code",
   "execution_count": null,
   "id": "0a5dfbc9-3daa-45d2-b461-5850e4910738",
   "metadata": {},
   "outputs": [],
   "source": [
    "poema.rindex('passa')"
   ]
  },
  {
   "cell_type": "markdown",
   "id": "8c14f04b-7530-428b-96ad-ec78e10ec86a",
   "metadata": {},
   "source": [
    "Para o caso especial de verificar uma substring no início ou no final de uma string, o Python fornece os métodos `startswith()` e `endswith()`:"
   ]
  },
  {
   "cell_type": "code",
   "execution_count": null,
   "id": "4fd085b8-f8ba-4ed9-befc-4d4b7281368c",
   "metadata": {},
   "outputs": [],
   "source": [
    "poema.startswith('Todos')"
   ]
  },
  {
   "cell_type": "code",
   "execution_count": null,
   "id": "5be06204-6fe6-4455-95dc-244ae6ba800a",
   "metadata": {},
   "outputs": [],
   "source": [
    "poema.startswith('água')"
   ]
  },
  {
   "cell_type": "code",
   "execution_count": null,
   "id": "1b7d47f3-a2d5-4670-a895-115efd305a00",
   "metadata": {},
   "outputs": [],
   "source": [
    "poema.endswith('passarinho!')"
   ]
  },
  {
   "cell_type": "code",
   "execution_count": null,
   "id": "22d79f0e-2893-45b1-b36d-ea7bddbcf651",
   "metadata": {},
   "outputs": [],
   "source": [
    "poema.endswith('água')"
   ]
  },
  {
   "cell_type": "markdown",
   "id": "e2086583-bea9-42b7-b463-c47c743b6300",
   "metadata": {},
   "source": [
    "Para substituir uma determinada substring por uma nova, pode-se utilizar o método `replace()`."
   ]
  },
  {
   "cell_type": "code",
   "execution_count": null,
   "id": "2341a1c5-5870-4727-8c6a-28b90f69154f",
   "metadata": {},
   "outputs": [],
   "source": [
    "frase = 'azul é minha cor favorita'\n",
    "\n",
    "frase.replace('azul', 'amarelo')"
   ]
  },
  {
   "cell_type": "markdown",
   "id": "f94f047e-a0cb-48b7-8a2c-239bafea8e56",
   "metadata": {},
   "source": [
    "## Verificar Caracteres\n",
    "\n",
    "O método `isalpha()` retorna True se todos os caracteres forem letras do alfabeto (a-z).\n"
   ]
  },
  {
   "cell_type": "code",
   "execution_count": null,
   "id": "558af3f0-9123-4172-ac74-fae4bd3eff3b",
   "metadata": {},
   "outputs": [],
   "source": [
    "string = 'cinco'\n",
    "string.isalpha()"
   ]
  },
  {
   "cell_type": "code",
   "execution_count": null,
   "id": "0107d73a-e643-40bb-a7b5-dfb1775f1cde",
   "metadata": {},
   "outputs": [],
   "source": [
    "string = '5'\n",
    "string.isalpha()"
   ]
  },
  {
   "cell_type": "markdown",
   "id": "1086d0c8-4c56-4bc8-9533-4871a1d1cf6c",
   "metadata": {},
   "source": [
    "O método `isdigit()` retorna True se todos os caracteres forem dígitos, caso contrário, False."
   ]
  },
  {
   "cell_type": "code",
   "execution_count": null,
   "id": "f1793d29-9d30-45c0-a598-bcabd3426474",
   "metadata": {},
   "outputs": [],
   "source": [
    "string = '5'\n",
    "string.isdigit()"
   ]
  },
  {
   "cell_type": "code",
   "execution_count": null,
   "id": "59a3440b-da5d-438e-80f4-37f24b9e7a19",
   "metadata": {},
   "outputs": [],
   "source": [
    "string = 'cinco'\n",
    "string.isdigit()"
   ]
  },
  {
   "cell_type": "markdown",
   "id": "11d2d9cb-4025-4c58-945e-ac97e2b6b6c5",
   "metadata": {},
   "source": [
    "## Exercícios\n",
    "\n",
    "1. Escreva um programa para obter uma string feita dos primeiros 2 e dos últimos 2 caracteres de uma determinada string. Se o comprimento da string for menor que 2, retorne em vez da string vazia.\n",
    "\n",
    "String de exemplo: 'UNASP-HT'\n",
    "\n",
    "Resultado esperado: 'UNHT'\n",
    "\n",
    "String de exemplo: 'HT'\n",
    "\n",
    "Resultado esperado: 'HTHT'\n",
    "\n",
    "String de exemplo: 'U'\n",
    "\n",
    "Resultado Esperado: ''"
   ]
  },
  {
   "cell_type": "markdown",
   "id": "90909a28-6a86-46ac-8cb6-603e7431029f",
   "metadata": {},
   "source": [
    "2. Crie um programa para pegar somente a última página presente em uma URL. Por exemplo:\n",
    "\n",
    "URL: https://www.unasp.br/cursos/ht/graduacao/engenharia-computacao\n",
    "\n",
    "Resposta: engenharia-computacao"
   ]
  },
  {
   "cell_type": "code",
   "execution_count": null,
   "id": "ec22ca87-ca55-41fd-9602-3789fd4c39dc",
   "metadata": {},
   "outputs": [],
   "source": []
  },
  {
   "cell_type": "markdown",
   "id": "d981c545-9390-4ed9-b644-70ab25dff808",
   "metadata": {},
   "source": [
    "3. Crie um programa que conte todas as letras, dígitos e símbolos especiais de uma determinada string"
   ]
  },
  {
   "cell_type": "code",
   "execution_count": null,
   "id": "a97a0e79-e185-41fc-8ae5-67cf869f539a",
   "metadata": {},
   "outputs": [],
   "source": []
  },
  {
   "cell_type": "markdown",
   "id": "bc71ae9d-16af-4829-8f9c-6d49e8f7e313",
   "metadata": {},
   "source": [
    "## Referências\n",
    "\n",
    "1. Get Programming: Learn to Code With Python, Manning Publications, Ana Bell (2018)"
   ]
  },
  {
   "cell_type": "markdown",
   "id": "e3d4f24a-3914-4250-af44-72a1f162a314",
   "metadata": {},
   "source": [
    "<!--NAVIGATION-->\n",
    "| [Strings](aula7-1.ipynb) | [Tuples](aula8-1.ipynb) >"
   ]
  }
 ],
 "metadata": {
  "kernelspec": {
   "display_name": "Python 3 (ipykernel)",
   "language": "python",
   "name": "python3"
  },
  "language_info": {
   "codemirror_mode": {
    "name": "ipython",
    "version": 3
   },
   "file_extension": ".py",
   "mimetype": "text/x-python",
   "name": "python",
   "nbconvert_exporter": "python",
   "pygments_lexer": "ipython3",
   "version": "3.9.12"
  }
 },
 "nbformat": 4,
 "nbformat_minor": 5
}
