{
 "cells": [
  {
   "cell_type": "markdown",
   "id": "56c3b55b-14d5-4ea4-acbb-077669ab27fb",
   "metadata": {},
   "source": [
    "# Operadores pt3\n",
    "\n",
    "[![Open In Colab](https://colab.research.google.com/assets/colab-badge.svg)](https://colab.research.google.com/github/caio-c-silva/introducao_programacao/blob/main/notebooks_aulas/.ipynb_checkpoints/Operadores%20pt3-checkpoint.ipynb)\n"
   ]
  },
  {
   "cell_type": "markdown",
   "id": "1ac34076-cf65-4914-83e1-261964724c24",
   "metadata": {},
   "source": [
    "## Operadores de Identidade e Pertencimento\n",
    "\n",
    "Assim como `and`, `or` e `not`, Python também contém operadores para verificar identidade e pertencimento.\n",
    "Eles são os seguintes:\n",
    "\n",
    "| Operator      | Description                                       |\n",
    "|---------------|---------------------------------------------------|\n",
    "| ``a is b``    | True se ``a`` and ``b`` forem objetos identicos    |\n",
    "| ``a is not b``| True se ``a`` and ``b`` não forem objetos identicos |\n",
    "| ``a in b``    | True se ``a`` pertence a ``b``                |\n",
    "| ``a not in b``| True se ``a`` não pertence a ``b``            |"
   ]
  },
  {
   "cell_type": "markdown",
   "id": "84421025-6fa1-414f-8ee6-9c4b6f564bc7",
   "metadata": {},
   "source": [
    "Os operadores de identidade, \"`is`\" e \"`is not`\" verificam a *identidade do objeto*.\n",
    "A identidade do objeto é diferente da igualdade, como podemos ver aqui:"
   ]
  },
  {
   "cell_type": "code",
   "execution_count": null,
   "id": "891c340a-6aad-4134-beec-385d0044c26b",
   "metadata": {},
   "outputs": [],
   "source": [
    "a = [1, 2, 3]\n",
    "b = [1, 2, 3]"
   ]
  },
  {
   "cell_type": "code",
   "execution_count": null,
   "id": "c7cbf91b-b7bb-45d7-937b-e0dd71c81257",
   "metadata": {},
   "outputs": [],
   "source": [
    "a == b"
   ]
  },
  {
   "cell_type": "code",
   "execution_count": null,
   "id": "44731a3e-66f9-47bd-8974-79f61b74a40b",
   "metadata": {},
   "outputs": [],
   "source": [
    "a is b"
   ]
  },
  {
   "cell_type": "code",
   "execution_count": null,
   "id": "54f328a9-7d8c-4e18-ba56-0faed5c3d1fc",
   "metadata": {},
   "outputs": [],
   "source": [
    "a is not b"
   ]
  },
  {
   "cell_type": "markdown",
   "id": "3c3dc6b9-eced-4f4c-a189-f5086d701cfc",
   "metadata": {},
   "source": [
    "Essa relação é diferente para objetos imutáveis"
   ]
  },
  {
   "cell_type": "code",
   "execution_count": null,
   "id": "38ebb386-8e1a-4a4c-ba5c-cdb11175e9cd",
   "metadata": {},
   "outputs": [],
   "source": [
    "a = 5\n",
    "b = 5"
   ]
  },
  {
   "cell_type": "code",
   "execution_count": null,
   "id": "947d8661-b370-456f-a376-3216184728c0",
   "metadata": {},
   "outputs": [],
   "source": [
    "a == b"
   ]
  },
  {
   "cell_type": "code",
   "execution_count": null,
   "id": "8f17fc7b-210d-4a19-859c-36157639d783",
   "metadata": {},
   "outputs": [],
   "source": [
    "a is b"
   ]
  },
  {
   "cell_type": "code",
   "execution_count": null,
   "id": "77abd08a-af77-466f-80bb-a7e86cb46c90",
   "metadata": {
    "tags": []
   },
   "outputs": [],
   "source": [
    "a is not b"
   ]
  },
  {
   "cell_type": "markdown",
   "id": "9ec41ba1-81f4-4972-9452-f94fd791272f",
   "metadata": {},
   "source": [
    "Essa relação é diferente quando explicitamente duas variáveis apontam para o mesmo objeto"
   ]
  },
  {
   "cell_type": "code",
   "execution_count": null,
   "id": "0fbcf61f-054b-4496-bc04-fb122124937f",
   "metadata": {},
   "outputs": [],
   "source": [
    "a = [1, 2, 3]\n",
    "b = a"
   ]
  },
  {
   "cell_type": "code",
   "execution_count": null,
   "id": "88aaeab9-497f-4b08-b1ff-f1e829150d57",
   "metadata": {},
   "outputs": [],
   "source": [
    "a == b"
   ]
  },
  {
   "cell_type": "code",
   "execution_count": null,
   "id": "aa0161ab-f96e-4652-85f4-142500e493b5",
   "metadata": {
    "tags": []
   },
   "outputs": [],
   "source": [
    "a is b"
   ]
  },
  {
   "cell_type": "code",
   "execution_count": null,
   "id": "64ebc53a-3c78-4906-a5c7-cae358c50b22",
   "metadata": {
    "tags": []
   },
   "outputs": [],
   "source": [
    "a is not b"
   ]
  },
  {
   "cell_type": "markdown",
   "id": "25e25b6d-2ec4-4f92-a978-2d942ceea035",
   "metadata": {},
   "source": [
    "## Operadores de Pertencimento\n",
    "\n",
    "Os operadores de pertencimento verificam o pertencimento a objetos compostos.\n",
    "Assim, por exemplo, podemos escrever:"
   ]
  },
  {
   "cell_type": "code",
   "execution_count": null,
   "id": "05c22ffd-1006-4382-8500-0188995e0a55",
   "metadata": {},
   "outputs": [],
   "source": [
    "1 in [1, 2, 3]"
   ]
  },
  {
   "cell_type": "code",
   "execution_count": null,
   "id": "5fd06bba-9564-492a-87b6-93fe893a252a",
   "metadata": {},
   "outputs": [],
   "source": [
    "2 not in [1, 2, 3]"
   ]
  },
  {
   "cell_type": "code",
   "execution_count": null,
   "id": "83ce0bf4-a304-40a9-b802-36a3dbbdadd9",
   "metadata": {},
   "outputs": [],
   "source": [
    "'a' in 'casa'"
   ]
  },
  {
   "cell_type": "code",
   "execution_count": null,
   "id": "449230e5-b252-49c8-8941-8f3640be3837",
   "metadata": {},
   "outputs": [],
   "source": [
    "'casa' in 'minha casa minha vida'"
   ]
  }
 ],
 "metadata": {
  "kernelspec": {
   "display_name": "Python 3 (ipykernel)",
   "language": "python",
   "name": "python3"
  },
  "language_info": {
   "codemirror_mode": {
    "name": "ipython",
    "version": 3
   },
   "file_extension": ".py",
   "mimetype": "text/x-python",
   "name": "python",
   "nbconvert_exporter": "python",
   "pygments_lexer": "ipython3",
   "version": "3.11.0"
  }
 },
 "nbformat": 4,
 "nbformat_minor": 5
}
