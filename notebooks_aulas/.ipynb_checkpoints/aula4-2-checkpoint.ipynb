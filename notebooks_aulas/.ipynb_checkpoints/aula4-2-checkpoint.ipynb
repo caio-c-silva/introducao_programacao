{
 "cells": [
  {
   "cell_type": "markdown",
   "id": "2db89758-c554-4644-86ae-7929a6023cf3",
   "metadata": {},
   "source": [
    "# Aula 4-2 - Estruturas de Repetição (parte 2)\n",
    "\n",
    "[![Open In Colab](https://colab.research.google.com/assets/colab-badge.svg)](https://colab.research.google.com/github/caio-c-silva/aulas_python_2S2022/blob/main/notebooks_aulas/aula4-2.ipynb)\n"
   ]
  },
  {
   "cell_type": "markdown",
   "id": "3eaf7127-0320-4fd3-8469-2cc3fef7825e",
   "metadata": {},
   "source": [
    "## Revisão\n",
    "\n",
    "Escreva um programa que retorne o fatorial de qualquer número. O programa deve receber um número do usuário e imprimir o valor do fatorial, caso o número fornecido seja menor que 0 a seguinte mensagem deve ser retornada: \"O valor deve ser positivo\""
   ]
  },
  {
   "cell_type": "code",
   "execution_count": null,
   "id": "4db4b6a6-2e78-421c-8844-9364c8778bfa",
   "metadata": {},
   "outputs": [],
   "source": []
  },
  {
   "cell_type": "markdown",
   "id": "7cb1eeb6-c176-4fb1-a387-c8b216abbae7",
   "metadata": {},
   "source": [
    "## Saindo do Loop\n",
    "\n",
    "Imagine que você tenha um intervalo de números inteiro que vai de 1 até 500 e sua tarefa é encontrar o décimo maior número que seja ímpar e divisível por 17.\n",
    "\n",
    "Uma forma de fazer isso é listar todos os números que atendem à condição e então contar de forma manual para encontrar o décimo maior número"
   ]
  },
  {
   "cell_type": "code",
   "execution_count": null,
   "id": "3cf5f9ae-4218-4114-af4c-1a92f7c852a9",
   "metadata": {},
   "outputs": [],
   "source": [
    "%%time\n",
    "\n",
    "for numero in range(1, 1001):\n",
    "    if numero % 17 == 0 and numero % 2 != 0:\n",
    "        print(numero)"
   ]
  },
  {
   "cell_type": "markdown",
   "id": "709f47eb-50a3-45a2-85a1-f7c1ac1acca9",
   "metadata": {},
   "source": [
    "Essa forma de resolver o problema se torna inviável quando o intervalo e a posição do objeto são muito grandes. \n",
    "\n",
    "Imagine que você tenha um intervalo de números inteiro que vai de 1 até 1000000 e sua tarefa é encontrar o milésimo maior número que seja ímpar e divisível por 17. "
   ]
  },
  {
   "cell_type": "code",
   "execution_count": null,
   "id": "41ff4155-751a-4a36-85af-9e38c2d3649e",
   "metadata": {},
   "outputs": [],
   "source": [
    "%%time\n",
    "\n",
    "n = 0\n",
    "for numero in range(1, 1000001):\n",
    "    if numero % 17 == 0 and numero % 2 != 0:\n",
    "        n += 1\n",
    "        if n == 1000:\n",
    "            print(numero)"
   ]
  },
  {
   "cell_type": "markdown",
   "id": "0622fc19-f9cc-4bf9-bec1-87cff36d0a54",
   "metadata": {},
   "source": [
    "## `break`\n",
    "\n",
    "Em Python, a palavra-chave `break` possibilita sair de um loop sempre que essa palavra-chave é executada."
   ]
  },
  {
   "cell_type": "code",
   "execution_count": null,
   "id": "8c64c364-cf79-4e8b-a81b-ae84b79af467",
   "metadata": {},
   "outputs": [],
   "source": [
    "%%time\n",
    "\n",
    "n = 0\n",
    "for numero in range(1, 1000001):\n",
    "    if numero % 17 == 0 and numero % 2 != 0:\n",
    "        n += 1\n",
    "        if n == 1000:\n",
    "            print(numero)\n",
    "            break"
   ]
  },
  {
   "cell_type": "markdown",
   "id": "bce0e99e-c7e3-446b-94e0-94038e1ef036",
   "metadata": {},
   "source": [
    "## Estrutura `for-else`\n",
    "\n",
    "Eventualmente é necessário que o programa execute algo no caso do loop não ser encerrado pela palavra-chave `break`. Para casos assim, existe a estrutura `for-else`.\n",
    "\n",
    "Por exemplo, imagine que você queira encontrar o menor número que seja divisível por 11, e diferente deste, dentro de um intervalo de números inteiros. Caso o número seja encontrado, o programa deve imprimir o valor do número. Porém, caso nenhum número seja encontrado, o programa deve imprimir a mensagem \"nenhum número foi encontrado\". "
   ]
  },
  {
   "cell_type": "code",
   "execution_count": null,
   "id": "66a81574-f815-45ee-9039-a5da499471d2",
   "metadata": {},
   "outputs": [],
   "source": [
    "intervalo = 30\n",
    "for num in range(1, intervalo+1):\n",
    "    if num % 11 == 0 and num != 11:\n",
    "        print(num)\n",
    "        break\n",
    "else:\n",
    "    print('nenhum número foi encontrado')"
   ]
  },
  {
   "cell_type": "markdown",
   "id": "1d66762a-d5c9-4440-a974-d9c3dae9a7b3",
   "metadata": {},
   "source": [
    "## Exercício\n",
    "\n",
    "Escreva um programa que pede para o usuário acertar o nome de uma fruta em 10 tentativas. A cada interação, o programa deve  imprimir o número de tentativas e pedir para que o usuário escolha uma fruta. Caso o usuário acerte a fruta, o programa deve imprimir \"Parabéns, você acertou!\". Caso o usuário escreva \"desisto\", o programa deve imprimir \"ok, obrigado pela participação\". No caso de todas as tentativas se esgotarem, o programa deve imprimir \"Suas tentativas acabaram e você não acertou\"."
   ]
  },
  {
   "cell_type": "code",
   "execution_count": null,
   "id": "b2e7bd00-b440-42ed-8bd2-1d6af34528ad",
   "metadata": {},
   "outputs": [],
   "source": []
  },
  {
   "cell_type": "markdown",
   "id": "f449ff64-34bb-4f62-acac-6c25188dc4d2",
   "metadata": {},
   "source": [
    "## Nested Loops\n",
    "\n",
    "Um nested loop é um loop dentro do corpo de um loop externo. No nested loop, o número de iterações será igual ao número de iterações no loop externo multiplicado pelas iterações no loop interno.\n",
    "\n",
    "Pos exemplo, um programa que gera todas as coordenadas de um plano com dimensões 4 por 4:"
   ]
  },
  {
   "cell_type": "code",
   "execution_count": null,
   "id": "110e030c-dbea-48a1-9f4f-ce14c88ade6e",
   "metadata": {},
   "outputs": [],
   "source": [
    "for x in range(5):\n",
    "    for y in range(5):\n",
    "        print(f'({x}, {y})')"
   ]
  },
  {
   "cell_type": "code",
   "execution_count": null,
   "id": "e71b7542-6a02-4344-8137-9faaea8ef907",
   "metadata": {},
   "outputs": [],
   "source": [
    "linhas = 4\n",
    "k = 2 * linhas - 2\n",
    "for i in range(linhas, -1, -1):\n",
    "    for j in range(k, 0, -1):\n",
    "        print(end=\" \")\n",
    "    k = k + 1\n",
    "    for j in range(0, i + 1):\n",
    "        print(\"*\", end=\" \")\n",
    "    print(\"\")"
   ]
  },
  {
   "cell_type": "markdown",
   "id": "b15d1f6f-fad3-4a2b-bca8-b1b4c91958b1",
   "metadata": {},
   "source": [
    "## Exercício\n",
    "\n",
    "1 - Crie um programa que imprima as tabuadas no seguinte formato:\n",
    "\n",
    "```\n",
    "\n",
    "1 * 1 =  1\n",
    "1 * 2 =  2\n",
    "1 * 3 =  3\n",
    "1 * 4 =  4\n",
    "1 * 5 =  5\n",
    "1 * 6 =  6\n",
    "1 * 7 =  7\n",
    "1 * 8 =  8\n",
    "1 * 9 =  9\n",
    "1 * 10 =  10\n",
    "\n",
    "2 * 1 =  2\n",
    "2 * 2 =  4\n",
    "2 * 3 =  6\n",
    "2 * 4 =  8\n",
    "2 * 5 =  10\n",
    "2 * 6 =  12\n",
    "2 * 7 =  14\n",
    "2 * 8 =  16\n",
    "2 * 9 =  18\n",
    "2 * 10 =  20\n",
    "\n",
    ".\n",
    ".\n",
    ".\n",
    "```\n",
    "\n",
    "até a tabuada do 9"
   ]
  },
  {
   "cell_type": "markdown",
   "id": "bc71ae9d-16af-4829-8f9c-6d49e8f7e313",
   "metadata": {},
   "source": [
    "## Referências\n",
    "\n",
    "1. Get Programming: Learn to Code With Python, Manning Publications, Ana Bell (2018)"
   ]
  },
  {
   "cell_type": "markdown",
   "id": "e3d4f24a-3914-4250-af44-72a1f162a314",
   "metadata": {},
   "source": [
    "<!--NAVIGATION-->\n",
    "| [Estruturas de Repetição (parte 2)](aula4-1.ipynb) | [Estruturas de Repetição (parte 3)](aula5-1.ipynb) >"
   ]
  }
 ],
 "metadata": {
  "kernelspec": {
   "display_name": "Python 3 (ipykernel)",
   "language": "python",
   "name": "python3"
  },
  "language_info": {
   "codemirror_mode": {
    "name": "ipython",
    "version": 3
   },
   "file_extension": ".py",
   "mimetype": "text/x-python",
   "name": "python",
   "nbconvert_exporter": "python",
   "pygments_lexer": "ipython3",
   "version": "3.9.12"
  }
 },
 "nbformat": 4,
 "nbformat_minor": 5
}
