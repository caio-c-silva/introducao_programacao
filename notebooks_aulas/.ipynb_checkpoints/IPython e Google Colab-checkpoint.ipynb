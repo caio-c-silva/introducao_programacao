{
 "cells": [
  {
   "cell_type": "markdown",
   "id": "60cddbe5-8bb4-427d-8e4b-04f0ed799536",
   "metadata": {},
   "source": [
    "# Aula 0 - IPython e Google Colab\n",
    "\n",
    "[![Open In Colab](https://colab.research.google.com/assets/colab-badge.svg)](https://colab.research.google.com/github/caio-c-silva/aulas_python_2S2022/blob/main/aula0.ipynb)"
   ]
  },
  {
   "cell_type": "markdown",
   "id": "ad09a182-a8b9-48db-84e7-f2cf47ee0c06",
   "metadata": {},
   "source": [
    "## IPython\n",
    "\n",
    "[IPython](http://ipython.org/)  (abreviação de \"Interactive Python\") foi desenvolvido em 2001 por Fernando Perez como um interpretador aprimorado de Python. Além disso, IPython está diretamente conectado ao projeto [Jupyter](http://jupyter.org), que provê um caderno (Notebook) usado para desenvolvimento, colaboração, compartilhamento e até mesmo publicação de resultados de ciência de dados. IPython é uma ferramenta importante, e popular, para usar Python de forma eficiente e interativa.\n",
    "\n",
    "## Google Colab\n",
    "\n",
    "O [Google Colaboratory](https://colab.research.google.com/), popularmente conhecido como Colab, é um serviço de nuvem gratuito hospedado pelo Google para incentivar a pesquisa em áreas como ciência de dados, aprendizado de máquina e inteligência artificial.\n",
    "\n",
    "O Colab permite escrever e executar Python no navegador e conta com o seguinte: \n",
    "- Nenhuma configuração necessária\n",
    "- Acesso gratuito a GPUs\n",
    "- Compartilhamento fácil"
   ]
  },
  {
   "cell_type": "markdown",
   "id": "b6a816ef-5eed-416a-aca1-ab8bc9a87f55",
   "metadata": {},
   "source": [
    "## Atalhos Úteis\n",
    "\n",
    "| Atalho                            | Ação                                     |\n",
    "|-----------------------------------|--------------------------------------------|\n",
    "| ``Esc``                        | Sair da célula   |\n",
    "| ``enter``                        | Entrar na Célula         |\n",
    "| ``Esc + s``  | Salvar Notebook             |\n",
    "| ``Esc + a (acima), Esc + b (abaixo)``  | Criar nova célula          |\n",
    "|``Ctrl + enter`` | Rodar a célula |\n",
    "|``Shift + enter`` | Rodar a célula e criar nova célula abaixo |\n",
    "|``Esc + c`` | Copiar célula |\n",
    "|``Esc + v`` | Colar célula |\n",
    "|``Esc + d + d`` | Excluir célula |\n",
    "|``Shift + j ou Shift + seta para cima`` | Selecionar células acima |\n",
    "|``Shift + k ou Shift + seta para baixo`` | Selecionar células abaixo |\n",
    "|``Shift + M`` | Mesclar células |\n",
    "|``?`` | Quando colocado ao lado de uma função traz informações referentes à função|\n"
   ]
  }
 ],
 "metadata": {
  "kernelspec": {
   "display_name": "Python 3 (ipykernel)",
   "language": "python",
   "name": "python3"
  },
  "language_info": {
   "codemirror_mode": {
    "name": "ipython",
    "version": 3
   },
   "file_extension": ".py",
   "mimetype": "text/x-python",
   "name": "python",
   "nbconvert_exporter": "python",
   "pygments_lexer": "ipython3",
   "version": "3.9.12"
  }
 },
 "nbformat": 4,
 "nbformat_minor": 5
}
