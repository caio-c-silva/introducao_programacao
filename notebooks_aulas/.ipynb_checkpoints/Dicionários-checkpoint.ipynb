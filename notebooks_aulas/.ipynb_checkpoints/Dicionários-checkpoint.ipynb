{
 "cells": [
  {
   "cell_type": "markdown",
   "id": "2db89758-c554-4644-86ae-7929a6023cf3",
   "metadata": {
    "tags": []
   },
   "source": [
    "# Aula 10-1 - Dicionários\n",
    "\n",
    "[![Open In Colab](https://colab.research.google.com/assets/colab-badge.svg)](https://colab.research.google.com/github/caio-c-silva/aulas_python_2S2022/blob/main/notebooks_aulas/aula10-1.ipynb)\n"
   ]
  },
  {
   "cell_type": "markdown",
   "id": "ad28aedf-365a-4812-a9ab-f2279eb80e71",
   "metadata": {},
   "source": [
    "# Mapeamento entre Objetos\n",
    "\n",
    "Uma lista pode ser entendida como uma estrutura que mapeia um inteiro (índice 0, 1, 2, 3 …) para um objeto. Um dicionário é uma estrutura de dados que pode mapear qualquer objeto, não apenas um inteiro, para qualquer outro objeto; indexar usando qualquer objeto é mais útil em situações em que você tem pares de dados. Assim como as listas, os dicionários são mutáveis para que, quando você fizer uma alteração em um objeto de dicionário, o próprio objeto seja alterado sem ter que fazer uma cópia dele.\n",
    "\n",
    "<img src=\"../fig/dicionario.png\" style=\"margin:auto\"/>\n",
    "<br/><br/>"
   ]
  },
  {
   "cell_type": "markdown",
   "id": "55d1a005-8151-4bff-96e9-31c4d62b867e",
   "metadata": {},
   "source": [
    "Um dicionário mapeia um objeto para outro; também é possível dizer que um objeto é procurado usando outro objeto. Em um dicionário de palavras tradicional, uma palavra é procurada para encontrar seu significado. Em Python, o item procurado (no caso de um dicionário tradicional, a palavra) é chamado de `chave` (key), e o que a pesquisa de item retorna (em um dicionário tradicional, o significado) é chamado de `valor` (value). Um dicionário armazena entradas e cada entrada é um par chave-valor. "
   ]
  },
  {
   "cell_type": "markdown",
   "id": "841ff163-54e2-424f-b434-f37c613dd612",
   "metadata": {},
   "source": [
    "Um dicionário vazio pode ser criado utilizando chaves abertas"
   ]
  },
  {
   "cell_type": "code",
   "execution_count": null,
   "id": "f9605741-5e50-41ae-88f3-91e08c065f18",
   "metadata": {},
   "outputs": [],
   "source": [
    "estoque = {}"
   ]
  },
  {
   "cell_type": "markdown",
   "id": "f9534233-750b-4776-8329-916abb629191",
   "metadata": {},
   "source": [
    "Este comando cria um dicionário vazio sem entradas e vincula o objeto de dicionário a uma variável chamada `estoque`."
   ]
  },
  {
   "cell_type": "markdown",
   "id": "a912a06e-8589-46f0-8bc5-61ef06176d6c",
   "metadata": {},
   "source": [
    "É possível criar um dicionário com itens. Na lista de estoque, é possível mapear um item de supermercado para sua quantidade. Em outras palavras, as chaves para o estoque serão strings representando os itens e os valores para o estoque serão inteiros representando a quantidade:"
   ]
  },
  {
   "cell_type": "code",
   "execution_count": null,
   "id": "56ba4a55-93bb-429f-9228-6202f5bcc1df",
   "metadata": {},
   "outputs": [],
   "source": [
    "estoque = {\"leite\": 2, \"ovo\": 0, \"pão\": 8}\n",
    "estoque"
   ]
  },
  {
   "cell_type": "markdown",
   "id": "ce6c8a57-e297-4a72-8db4-618b0a4f82bd",
   "metadata": {},
   "source": [
    "Esta linha cria um dicionário com três itens. Cada item em um dicionário é separado por uma vírgula. As chaves e os valores de um item são separados por dois pontos. A chave está à esquerda dos dois pontos e o valor dessa chave está à direita dos dois pontos."
   ]
  },
  {
   "cell_type": "markdown",
   "id": "7394b00c-775b-424a-a888-da3b2fa19777",
   "metadata": {},
   "source": [
    "## Adicionando pares de chave-valor a um dicionário"
   ]
  },
  {
   "cell_type": "markdown",
   "id": "55714549-4e89-4852-b6dd-67a0aaa371fc",
   "metadata": {},
   "source": [
    "Para adicionar um novo par de chave-valor, usa-se colchetes, como nas listas:"
   ]
  },
  {
   "cell_type": "code",
   "execution_count": null,
   "id": "721221cc-38bd-4e5b-8ad7-d68e11e6f25c",
   "metadata": {},
   "outputs": [],
   "source": [
    "estoque['farinha'] = 4\n",
    "estoque"
   ]
  },
  {
   "cell_type": "markdown",
   "id": "85f18533-ab3e-4cb1-ac10-1957da47acac",
   "metadata": {},
   "source": [
    "Se você tentar adicionar à mesma chave novamente, o valor anterior associado a essa chave será substituído."
   ]
  },
  {
   "cell_type": "code",
   "execution_count": null,
   "id": "bc05fe1a-a885-4afb-b580-8f7fc762f18a",
   "metadata": {},
   "outputs": [],
   "source": [
    "estoque['farinha'] = 6\n",
    "estoque"
   ]
  },
  {
   "cell_type": "markdown",
   "id": "4d9ae6fd-b23a-49c6-aaa8-22869cf40e9f",
   "metadata": {},
   "source": [
    "Dessa forma, todas as chaves em um dicionário são únicas."
   ]
  },
  {
   "cell_type": "markdown",
   "id": "169d48f9-d6ba-4ed1-949c-06b29242e066",
   "metadata": {
    "tags": []
   },
   "source": [
    "## Acessando chaves e valores de um dicionário\n",
    "\n",
    "Os métodos `keys()` e `values()` podem ser usados para acessar os objetos armazenados nas chaves e nos valores, respectivamente, de um dicionário. "
   ]
  },
  {
   "cell_type": "code",
   "execution_count": null,
   "id": "9d1ef047-c08f-4c40-ba13-ff71e0776131",
   "metadata": {},
   "outputs": [],
   "source": [
    "estoque.keys()"
   ]
  },
  {
   "cell_type": "code",
   "execution_count": null,
   "id": "867af7cd-9bbf-4b6e-a312-b1cbf8d4dc56",
   "metadata": {},
   "outputs": [],
   "source": [
    "estoque.values()"
   ]
  },
  {
   "cell_type": "markdown",
   "id": "74a7beb9-1562-4c4d-a600-4045b7bb87a1",
   "metadata": {},
   "source": [
    "## Operador de Pertencimento\n",
    "\n",
    "O operador de pertencimento `in` irá avaliar se um objeto faz parte das chaves de um dicionário. "
   ]
  },
  {
   "cell_type": "code",
   "execution_count": null,
   "id": "53848067-4640-418a-ace4-1f9322a36259",
   "metadata": {},
   "outputs": [],
   "source": [
    "'farinha' in estoque"
   ]
  },
  {
   "cell_type": "code",
   "execution_count": null,
   "id": "a9366b40-6aba-4a51-a68d-b80adc8cca3e",
   "metadata": {},
   "outputs": [],
   "source": [
    "'uva' in estoque"
   ]
  },
  {
   "cell_type": "markdown",
   "id": "7bbdd755-b6fe-4867-b08b-4a8618367589",
   "metadata": {},
   "source": [
    "## for em um dicionário\n",
    "\n",
    "É possível iterar sobre um dicionário utilizando a seguinte estrutura"
   ]
  },
  {
   "cell_type": "code",
   "execution_count": null,
   "id": "f7e3b330-7698-4e02-a87f-0f55b01a5604",
   "metadata": {},
   "outputs": [],
   "source": [
    "for item in estoque:\n",
    "    print(f'A quantidade de {item} é {estoque[item]}')"
   ]
  },
  {
   "cell_type": "markdown",
   "id": "cb460c77-b3ed-4d00-bf02-9a9aa65f0305",
   "metadata": {},
   "source": [
    "## Aplicação: Contador de Palavras\n",
    "\n",
    "Uma aplicação muito útil de um dicionário é usar este para armazenar todas as palavras que aparecem em um texto (chaves) a quantidades de vezes que essa palavra aparece no texto (valores)."
   ]
  },
  {
   "cell_type": "code",
   "execution_count": null,
   "id": "33a1a7f9-d633-4aca-82ee-c333d21bd1cd",
   "metadata": {},
   "outputs": [],
   "source": [
    "poema = 'Vozes veladas, veludosas vozes, Volúpias dos violões, vozes veladas, Vagam nos velhos vórtices velozes Dos ventos, vivas, vãs, vulcanizadas.'\n",
    "\n",
    "# Pré-processamento do Texto\n",
    "\n",
    "poema = poema.lower()\n",
    "poema = poema.replace(',', '')\n",
    "poema = poema.replace('.', '')\n",
    "\n",
    "palavras = poema.split(' ')\n",
    "\n",
    "palavras"
   ]
  },
  {
   "cell_type": "code",
   "execution_count": null,
   "id": "9ff6b0bf-8254-4842-9684-9178046d8c17",
   "metadata": {},
   "outputs": [],
   "source": [
    "contador_de_palavras = {}\n",
    "\n",
    "for palavra in palavras:\n",
    "    \n",
    "    if palavra in contador_de_palavras:\n",
    "        contador_de_palavras[palavra] += 1\n",
    "    else:\n",
    "        contador_de_palavras[palavra] = 1\n",
    "        \n",
    "\n",
    "contador_de_palavras   "
   ]
  },
  {
   "cell_type": "markdown",
   "id": "b202d6d2-7270-4ce0-a9dc-9e173b156c2c",
   "metadata": {},
   "source": [
    "## Exercícios"
   ]
  },
  {
   "cell_type": "markdown",
   "id": "456e1725-37d9-4d22-a813-58dca50eac01",
   "metadata": {},
   "source": [
    "A tabela apresenta os 10 artistas com o maior número de reproduções no Spotify:\n",
    "\n",
    "| Artista                            | Reproduções (bilhões)                                     |\n",
    "|-----------------------------------|--------------------------------------------|\n",
    "| ``Drake``                        | 50.9   |\n",
    "| ``Bad Bunny ``                        | 45.8         |\n",
    "| ``Ed Sheeran``  | 38.5   |\n",
    "| ``The Weeknd``  | 35.5          |\n",
    "|``Taylor Swift`` | 33.2 |\n",
    "|``Justin Bieber `` | 32.9 |\n",
    "|``Ariana Grande`` | 32.7 |\n",
    "|``Eminem`` | 31.0 |\n",
    "|``Post Malone`` | 30.2 |\n",
    "|``BTS`` | 30.0 |\n",
    "\n",
    "\n",
    "Crie um dicionário contendo as informações da tabela\n",
    "\n",
    "\n"
   ]
  },
  {
   "cell_type": "code",
   "execution_count": null,
   "id": "93b7cb99-ca62-41f7-b826-5d7914a10348",
   "metadata": {},
   "outputs": [],
   "source": []
  },
  {
   "cell_type": "markdown",
   "id": "5417aa8b-d733-446a-a763-ad5ade7d44e9",
   "metadata": {},
   "source": [
    "Qual o número total de execuções, contando todos os 10 artistas?"
   ]
  },
  {
   "cell_type": "code",
   "execution_count": null,
   "id": "bb3e4698-3a1f-4bbf-be56-f5cb10efa8ca",
   "metadata": {},
   "outputs": [],
   "source": []
  },
  {
   "cell_type": "markdown",
   "id": "6512d17e-93a3-4dcf-8d2c-6aab1f65af5b",
   "metadata": {},
   "source": [
    "Selecione em uma lista apenas os com mais de 40 bilhões de execuções."
   ]
  },
  {
   "cell_type": "code",
   "execution_count": null,
   "id": "7e95086c-8992-4570-b0d7-f95cbc34a02a",
   "metadata": {},
   "outputs": [],
   "source": []
  },
  {
   "cell_type": "markdown",
   "id": "31af9270-e643-4447-8400-9c22990139f0",
   "metadata": {},
   "source": [
    "Imagine que o número de execuções de cada artista tenha crescido em 5 bilhões. Atualize o dicionário."
   ]
  },
  {
   "cell_type": "code",
   "execution_count": null,
   "id": "e5cda9ad-cc11-4406-a2b8-d6501a776869",
   "metadata": {},
   "outputs": [],
   "source": []
  },
  {
   "cell_type": "markdown",
   "id": "a11b83a8-8d54-43e2-b815-a82917ea92db",
   "metadata": {},
   "source": [
    "Crie um programa que receba um conjunto não vazio de números inteiros distintos e um número representando uma soma (alvo). Caso o cojunto contenha 2 números que somados resultam no alvo, o programa deve retornar uma tuple contendo os dois números em qualquer ordem. No caso de não existir dois valores que somados resultem no alvo, o programa deve retornar o valor valor booleano False.\n",
    "\n",
    "Tente resolver de uma forma diferente das que foram apresentadas nas aulas passada, utilizando dicionário.\n",
    "\n",
    "\n",
    "Exemplos:\n",
    "\n",
    "``` python\n",
    "conjunto = [3, 5, -4, 8, 11, -1, 6]\n",
    "alvo = 10\n",
    "```\n",
    "\n",
    "O resultado deve ser:\n",
    "\n",
    "``` python\n",
    "[-1, 11]\n",
    "```"
   ]
  },
  {
   "cell_type": "code",
   "execution_count": null,
   "id": "06869f97-9125-4e53-8b24-32dade29c9f1",
   "metadata": {},
   "outputs": [],
   "source": []
  },
  {
   "cell_type": "markdown",
   "id": "bc71ae9d-16af-4829-8f9c-6d49e8f7e313",
   "metadata": {},
   "source": [
    "## Referências\n",
    "\n",
    "1. Get Programming: Learn to Code With Python, Manning Publications, Ana Bell (2018)"
   ]
  },
  {
   "cell_type": "markdown",
   "id": "e3d4f24a-3914-4250-af44-72a1f162a314",
   "metadata": {},
   "source": [
    "<!--NAVIGATION-->\n",
    "| [listas](aula8-2.ipynb) | [Dicionários](aula10-1.ipynb) >"
   ]
  }
 ],
 "metadata": {
  "kernelspec": {
   "display_name": "Python 3 (ipykernel)",
   "language": "python",
   "name": "python3"
  },
  "language_info": {
   "codemirror_mode": {
    "name": "ipython",
    "version": 3
   },
   "file_extension": ".py",
   "mimetype": "text/x-python",
   "name": "python",
   "nbconvert_exporter": "python",
   "pygments_lexer": "ipython3",
   "version": "3.9.12"
  }
 },
 "nbformat": 4,
 "nbformat_minor": 5
}
