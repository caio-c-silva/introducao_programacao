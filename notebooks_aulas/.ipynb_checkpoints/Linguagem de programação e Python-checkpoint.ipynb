{
 "cells": [
  {
   "cell_type": "markdown",
   "id": "09caf350-f5ad-48ff-8ebf-15c88e020a9f",
   "metadata": {},
   "source": [
    "# Linguagem de programação e Python\n",
    "[![Open In Colab](https://colab.research.google.com/assets/colab-badge.svg)](https://colab.research.google.com/github/caio-c-silva/aulas_python_2S2022/blob/main/notebooks_aulas/aula1-1.ipynb)\n",
    "\n",
    "## Linguagem de Programação\n",
    "\n",
    "Um programa de computador nada mais é do que uma sequência de instruções que que são passadas ao computador para que seja executada. O grande desafio é usar uma linguagem que seja compreendida pelo computador. Apesar dos recentes avanços (ex. assistentes virtuais como Siri (Apple), Google Now (Android), e Cortana (Microsoft), fazer o computador compreender linguagem humana ainda é um problema não solucionado.\n",
    "\n",
    "Ainda que fosse possível se comunicar com o computador em linguagem humana, tal linguagem não é totalmente adequada para a descrição de atividades complexas devido a presença de ambiguidades e imprecisões.\n",
    "\n",
    "> **Eu vi o homem no parque com o telescópio**\n",
    "\n",
    "Quem está usando o telescópio? Quem está no parque?\n",
    "\n",
    "Para resolver esse problema, cientistas da computação desenvolvem notações que visam expressar instruções de forma exata e não ambígua. Essas notações são chamadas de **_linguagem de programação_**. Toda estrutura em uma linguagem de programação tem uma forma precisa (sintaxe) e um significado preciso (semântica).\n",
    "\n",
    "Python é uma dessas linguagens, assim como C++, Java, Javascript, Ruby, Perl, Scheme, BASIC etc. Apesar das diversas diferenças entre essas linguagens, todas possuem sintaxes e semânticas bem definidas e inequívocas. Todas essas linguagens são consideradas linguagens de **_alto nível_**, ou seja, apesar de serem precisas elas foram criadas para ser compreendidas por seres humanos. O hardware de um computador pode entender apenas linguagens de **_baixo nível_** conhecidas como **_linguagem de máquina_**.\n",
    "\n",
    "Para somar dois números as instruções passadas para o computador em linguagem de baixo nível seria algo do tipo:\n",
    "\n",
    "- carregue o número do local de memória 2001 para a CPU\n",
    "- carregue o número do local de memória 2002 para a CPU\n",
    "- some os dois números na CPU\n",
    "- guarde o resultado no local de memória 2003\n",
    "\n",
    "Na realidade essas instruções são ainda mais complicadas pois tanto as instruções como os números são representados em números binários."
   ]
  },
  {
   "cell_type": "code",
   "execution_count": 1,
   "id": "163e3e0c-93d6-4500-bf11-33927484bb3b",
   "metadata": {},
   "outputs": [
    {
     "name": "stdout",
     "output_type": "stream",
     "text": [
      "11111010001\n"
     ]
    }
   ],
   "source": [
    "# Convertendo números decimais para binário\n",
    "\n",
    "dec_num = 2001\n",
    "print(bin(dec_num)[2:])"
   ]
  },
  {
   "cell_type": "markdown",
   "id": "579edf03-7abe-4ea7-be17-ab5cf4f82f5f",
   "metadata": {},
   "source": [
    "Existem duas formas de traduzir a linguagem de alto nível para a linguagem de máquina: a implementação pode ser **_compilada_** ou **_interpretada_**. Programas implementados através de um compilador costumam ter um tempo de execução menor, porém possuem baixa portabilidade. Por outro lado, programas implementados através de um intérprete possuem alta portabilidade e são mais fáceis de depurar (_debug_), porém apresentam um tempo de execução maior.\n",
    "\n",
    "Linguagens que geralmente são implementadas por compilação: \n",
    "\n",
    "- C\n",
    "- C++\n",
    "- Haskell\n",
    "- Rust\n",
    "\n",
    "\n",
    "Linguagens que geralmente são implementadas por um intérprete:\n",
    "\n",
    "- PHP\n",
    "- Ruby\n",
    "- Python\n",
    "- JavaScript\n"
   ]
  },
  {
   "cell_type": "markdown",
   "id": "b4308a53-ab70-4a2d-89a6-6d54f126d4a0",
   "metadata": {},
   "source": [
    "## Python\n",
    "\n",
    "A linguagem Python foi desenvolvida no final da década de 80 por Guido van Rossum no Centrum Wiskunde & Informatica (CWI), Holanda. van Rossum batizou a linguagem em homenagem ao programa da BBC \"Monty Python's Flying Circus\". \n",
    "\n",
    "<img src=\"../fig/monty_python_cast.jpg\" alt=\"fishy\" class=\"bg-primary mb-1\" width=\"400px\">\n",
    "\n",
    "Elenco do grupo de comédia Monty Python\n",
    "\n",
    "\n",
    "As principais características da linguagem são:\n",
    "\n",
    "- Simplicidade\n",
    "- Gratuita e _Open Source_\n",
    "- Linguagem de alto nível\n",
    "- Alta portabilidade\n",
    "- Orientada ao Objeto \n",
    "- Extensivo conjunto de bibliotecas"
   ]
  },
  {
   "cell_type": "markdown",
   "id": "9ffd5be9-c8e4-4e1e-b91e-1fba5bc1b6aa",
   "metadata": {},
   "source": [
    "## Primeira Linha de Código em Python\n",
    "\n",
    "Na célula abaixo escreva a seguinte linha de código: \n",
    "\n",
    "``` Python\n",
    "print('Hello, World!')\n",
    "```\n",
    "\n",
    "Em seguida rode a célula (Ctrl + enter)"
   ]
  },
  {
   "cell_type": "code",
   "execution_count": null,
   "id": "8169ce00-d544-42ed-9922-3b38c2b1d908",
   "metadata": {},
   "outputs": [],
   "source": []
  },
  {
   "cell_type": "markdown",
   "id": "eacce318-d313-4a95-8565-7ab37537eb07",
   "metadata": {
    "tags": []
   },
   "source": [
    "### Parabéns!\n",
    "\n",
    "Você está pronto para aprender um pouco mais sobre a sintaxe da linguagem Python"
   ]
  },
  {
   "cell_type": "markdown",
   "id": "80189f46-9bc8-475a-8c58-476ef683f3a9",
   "metadata": {},
   "source": [
    "## Referências\n",
    "\n",
    "1. Python Programming: An Introduction to Computer Science (Third Edition), Franklin, Beedle & Associates, John M. Zelle (2016)\n",
    "2. Introduction to Computation and Programming Using Python (Second Edition), The MIT Press, John V. Guttag (2016)\n",
    "3. [A Byte of Python](https://python.swaroopch.com/)"
   ]
  },
  {
   "cell_type": "markdown",
   "id": "8149628a-dd2c-4819-9aba-3729e613853b",
   "metadata": {},
   "source": [
    "<!--NAVIGATION-->\n",
    "| [IPython e Google Colab](aula0.ipynb) | [Breve Introdução à Sintaxe Python](aula1-2.ipynb) >"
   ]
  }
 ],
 "metadata": {
  "kernelspec": {
   "display_name": "Python 3 (ipykernel)",
   "language": "python",
   "name": "python3"
  },
  "language_info": {
   "codemirror_mode": {
    "name": "ipython",
    "version": 3
   },
   "file_extension": ".py",
   "mimetype": "text/x-python",
   "name": "python",
   "nbconvert_exporter": "python",
   "pygments_lexer": "ipython3",
   "version": "3.11.0"
  }
 },
 "nbformat": 4,
 "nbformat_minor": 5
}
