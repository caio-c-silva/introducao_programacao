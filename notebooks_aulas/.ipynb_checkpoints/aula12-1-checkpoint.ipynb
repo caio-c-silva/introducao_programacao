{
 "cells": [
  {
   "cell_type": "markdown",
   "id": "2db89758-c554-4644-86ae-7929a6023cf3",
   "metadata": {
    "tags": []
   },
   "source": [
    "# Aula 12-1 - Função Recursiva\n",
    "\n",
    "[![Open In Colab](https://colab.research.google.com/assets/colab-badge.svg)](https://colab.research.google.com/github/caio-c-silva/aulas_python_2S2022/blob/main/notebooks_aulas/aula12-1.ipynb)\n"
   ]
  },
  {
   "cell_type": "markdown",
   "id": "ad28aedf-365a-4812-a9ab-f2279eb80e71",
   "metadata": {},
   "source": [
    "# Matryoshka\n",
    "\n",
    "<img src=\"../fig/matryoshka.jpg\" alt=\"fishy\" class=\"bg-primary mb-1\" width=\"400px\">"
   ]
  },
  {
   "cell_type": "markdown",
   "id": "c7314271-2a1a-4824-a044-5809e66a894d",
   "metadata": {},
   "source": [
    "## Estrutura da Função Recursiva\n",
    "\n",
    "``` Python\n",
    "def func_recursiva(n):\n",
    "    .\n",
    "    .\n",
    "    .\n",
    "    return func_recursiva(n-1)\n",
    "```"
   ]
  },
  {
   "cell_type": "markdown",
   "id": "0736c9e3-0cd8-4fb2-8168-ccf18cdeaf11",
   "metadata": {},
   "source": [
    "## Soma de n Números - Função Iterativa"
   ]
  },
  {
   "cell_type": "code",
   "execution_count": null,
   "id": "68685166-8deb-4fbe-a2ad-fbc492aed716",
   "metadata": {},
   "outputs": [],
   "source": [
    "def soma_n_iterativa(n):\n",
    "    soma = 0\n",
    "    for i in range(1, n+1):\n",
    "        soma += i\n",
    "    return soma"
   ]
  },
  {
   "cell_type": "code",
   "execution_count": null,
   "id": "0bc89b4d-f0f3-4523-9072-65877b876b03",
   "metadata": {},
   "outputs": [],
   "source": [
    "#%%time\n",
    "soma_n_iterativa(5)"
   ]
  },
  {
   "cell_type": "markdown",
   "id": "93e00952-5bfa-40f5-b540-f844ba1e6b57",
   "metadata": {},
   "source": [
    "## Soma de n Números - Função Recursiva"
   ]
  },
  {
   "cell_type": "code",
   "execution_count": null,
   "id": "f0212e49-301a-4d1c-ac39-2d53fef393ba",
   "metadata": {},
   "outputs": [],
   "source": [
    "def soma_n_recursiva(n):\n",
    "    if n == 1:\n",
    "        return 1\n",
    "    else:\n",
    "        return n + soma_n_recursiva(n-1)"
   ]
  },
  {
   "cell_type": "code",
   "execution_count": null,
   "id": "511d227c-8b3c-4583-a2ee-c48c54e5e1ea",
   "metadata": {},
   "outputs": [],
   "source": [
    "#%%time\n",
    "soma_n_recursiva(5)"
   ]
  }
 ],
 "metadata": {
  "kernelspec": {
   "display_name": "Python 3 (ipykernel)",
   "language": "python",
   "name": "python3"
  },
  "language_info": {
   "codemirror_mode": {
    "name": "ipython",
    "version": 3
   },
   "file_extension": ".py",
   "mimetype": "text/x-python",
   "name": "python",
   "nbconvert_exporter": "python",
   "pygments_lexer": "ipython3",
   "version": "3.9.12"
  }
 },
 "nbformat": 4,
 "nbformat_minor": 5
}
