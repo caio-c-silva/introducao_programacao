{
 "cells": [
  {
   "cell_type": "markdown",
   "id": "2db89758-c554-4644-86ae-7929a6023cf3",
   "metadata": {},
   "source": [
    "# Aula 7-1 - Strings\n",
    "\n",
    "[![Open In Colab](https://colab.research.google.com/assets/colab-badge.svg)](https://colab.research.google.com/github/caio-c-silva/aulas_python_2S2022/blob/main/notebooks_aulas/aula7-1.ipynb)\n"
   ]
  },
  {
   "cell_type": "markdown",
   "id": "985bf2c8-6fcf-49a9-92a1-23e84b86e179",
   "metadata": {
    "tags": []
   },
   "source": [
    "## Strings\n",
    "\n",
    "Uma string é uma sequência de caracteres. Todos os caracteres que pertecem a uma determinada string estão contidos entre aspas (simples ou dupla).\n",
    "\n",
    "A sequência de caracteres pode conter números, letras maiúsculas e minúsculas, espaços, caracteres especiais representando uma nova linha e símbolos em qualquer ordem."
   ]
  },
  {
   "cell_type": "markdown",
   "id": "a75cfe53-87ee-4ea0-a826-67dd567b0b4a",
   "metadata": {
    "tags": []
   },
   "source": [
    "## Indexação\n",
    "\n",
    "Como as strings são compostas por uma sequência de caracteres, você pode determinar o valor de um caractere em uma determinada posição na string. Chamado de indexação em uma string, esta é a operação mais básica que você pode fazer com um objeto string.\n",
    "\n",
    "Em ciência da computação, você começa a contar pelo número 0. A figura abaixo mostra um objeto string cujo valor é \"Aula de Python\". Cada caractere está localizado em um índice. O primeiro caractere em uma string está sempre no índice 0. Para a string \"Aula de Python\", o último caractere está no índice 13.\n",
    "\n",
    "Também é possível fazer a contagem reversa. O último caractere em qualquer string está sempre no índice -1 quando contado de forma reversa. Para a string \"Aula de Python\", o primeiro caractere, A, está no índice -14. Observe que o espaço também é um caractere.\n",
    "\n",
    "\n",
    "<img src=\"../fig/strings.png\" style=\"margin:auto\"/>\n",
    "<br/><br/>\n",
    "\n",
    "A forma de acessar cada componente de uma string é através da seguinte sintáxe:\n",
    "\n",
    "``` python\n",
    "string[índice]\n",
    "```\n",
    "\n"
   ]
  },
  {
   "cell_type": "code",
   "execution_count": null,
   "id": "534ea6d3-0c99-4998-a78f-c621697b18c9",
   "metadata": {},
   "outputs": [],
   "source": [
    "string = 'Aula de Python'\n",
    "\n",
    "print(string[0]) # retorna o caractere que está na posição com o índice igual a 0 \n",
    "print(string[5])\n",
    "print(string[8])\n",
    "print(string[-1])\n",
    "print(string[-8])"
   ]
  },
  {
   "cell_type": "markdown",
   "id": "8aa0470a-f32e-4e2e-895c-5aaaf07fdb91",
   "metadata": {},
   "source": [
    "## Slicing\n",
    "\n",
    "Até o momento, sabemos como obter o caractere localizado em um determinado índice na string. Mas às vezes queremos saber o valor de um grupo de caracteres, começando por um índice e terminando com outro. Digamos que você seja um professor e tenha informações sobre todos os alunos do seu curso no formato “##### PrimeiroNome ÚltimoNome”. Você só está interessado nos nomes e percebe que os seis primeiros caracteres são sempre os mesmos: cinco dígitos e depois um espaço. Você pode extrair os dados que deseja olhando para a parte da string que começa no sétimo caractere até o final da string.\n",
    "\n",
    "Extrair dados dessa maneira é chamado de obter uma substring da string. Os colchetes podem ser usados de maneira mais sofisticada. Você pode usá-los para cortar (slicing) a string entre dois índices e obter uma substring, de acordo com certas regras. Para cortar uma string, você pode colocar até três inteiros, separados por dois pontos, entre colchetes:\n",
    "\n",
    "``` python\n",
    "[start_index : stop_index : step]\n",
    "```\n",
    "\n",
    " - `start_index` representa o índice do primeiro caractere a ser usado.\n",
    " - `stop_index` representa o índice até o qual você leva os caracteres, mas não incluindo aquele que está na posição indicada pelo `stop_index`.\n",
    " - `step` representa quantos caracteres pular (por exemplo, considerar cada segundo caractere ou a cada quatro caracteres). Um `step` positivo significa que você está indo da esquerda para a direita através da string e vice-versa para um passo negativo. Não é necessário fornecer explicitamente o valor do `step`. Se omitido, o `step` é 1, o que significa que você considera cada caractere."
   ]
  },
  {
   "cell_type": "code",
   "execution_count": null,
   "id": "0f0eb15a-1b04-4366-8346-fb83f512a93c",
   "metadata": {},
   "outputs": [],
   "source": [
    "print(string[2 : 7 : 1])\n",
    "print(string[2 : 11 : 3])\n",
    "print(string[-2 : -11 : -3])"
   ]
  },
  {
   "cell_type": "markdown",
   "id": "78af8857-ebeb-4792-8eba-76a9f190ac81",
   "metadata": {},
   "source": [
    "<img src=\"../fig/strings2.png\" style=\"margin:auto\"/>\n",
    "<br/><br/>"
   ]
  },
  {
   "cell_type": "markdown",
   "id": "6b8e53f7-5dee-4f73-99a5-6edcb8a8f1db",
   "metadata": {},
   "source": [
    "## Estrutura `for`\n",
    "\n",
    "Como strings são objetos iteráveis, estes podem ser usados para criar um laço de repetição através da estrutura `for`. "
   ]
  },
  {
   "cell_type": "code",
   "execution_count": null,
   "id": "9f59c70e-0879-44c5-b36c-e0cea9beafaa",
   "metadata": {},
   "outputs": [],
   "source": [
    "for letra in string:\n",
    "    print(letra)"
   ]
  },
  {
   "cell_type": "markdown",
   "id": "621bda37-326d-4720-bc60-b09c543a1fa1",
   "metadata": {},
   "source": [
    "Da mesma forma, substrings também podem ser utilizadas na estrutura `for`."
   ]
  },
  {
   "cell_type": "code",
   "execution_count": null,
   "id": "e2096a73-d9d5-49c8-baa2-ff4ebd91ff7a",
   "metadata": {},
   "outputs": [],
   "source": [
    "for letra in string[2 : 7 : 1]:\n",
    "    print(letra)"
   ]
  },
  {
   "cell_type": "markdown",
   "id": "398fbd1e-5808-4516-94c6-a03d7ba13bf9",
   "metadata": {},
   "source": [
    "## Operador de pertencimento\n",
    "\n",
    "Através do operador de pertencimento `in` é possível verificar se uma substring está contida em uma string."
   ]
  },
  {
   "cell_type": "code",
   "execution_count": null,
   "id": "7479aca0-ff81-4d02-b6c4-3013b0f49374",
   "metadata": {},
   "outputs": [],
   "source": [
    "'rei' in 'Charles Terceiro é o novo rei da Inglaterra'"
   ]
  },
  {
   "cell_type": "markdown",
   "id": "a13353b1-8725-4d35-9fa2-a425b8ae4b5a",
   "metadata": {
    "tags": []
   },
   "source": [
    "## len()\n",
    "\n",
    "Suponha que você esteja lendo redações de alunos e impôs um limite de 2.000 caracteres. Como você pode determinar o número de caracteres que um aluno usou? Você pode configurar a redação dentro de uma string e usar a função `len()` para obter o número de caracteres na string. Isso inclui todos os caracteres entre aspas, incluindo espaços e símbolos. A função `len()` aplicada a uma string vazia retorna o valor 0."
   ]
  },
  {
   "cell_type": "code",
   "execution_count": null,
   "id": "0f3980a8-1413-4cb4-931b-65957e532db1",
   "metadata": {},
   "outputs": [],
   "source": [
    "print(len(''))\n",
    "print(len('batata'))\n",
    "print(len('um prato de trigo para dois tigres tristes'))"
   ]
  },
  {
   "cell_type": "markdown",
   "id": "11d2d9cb-4025-4c58-945e-ac97e2b6b6c5",
   "metadata": {},
   "source": [
    "## Exercícios\n",
    "\n",
    "Considere o seguinte trecho do poema de Luís de Camões: \n",
    "\n",
    "> Amor é fogo que arde sem se ver;\n",
    "É ferida que dói e não se sente;\n",
    "É um contentamento descontente;\n",
    "É dor que desatina sem doer;\n",
    "\n",
    "1. Imprima a quantidade de caracteres\n",
    "2. Imprima todos os caracteres que estão localizados em posições com o índice par\n",
    "3. Imprima todos os caracteres que estão localizados em posições com o índice ímpar\n",
    "4. Imprima a substring 'É ferida que dói e não se sente'\n",
    "5. Crie um programa para contar o número de vezes que a letra 's' está aparece\n",
    "7. Crie um programa para contar o número de palavras que terminam com a letra r\n",
    "\n"
   ]
  },
  {
   "cell_type": "code",
   "execution_count": null,
   "id": "ec22ca87-ca55-41fd-9602-3789fd4c39dc",
   "metadata": {},
   "outputs": [],
   "source": []
  },
  {
   "cell_type": "markdown",
   "id": "d981c545-9390-4ed9-b644-70ab25dff808",
   "metadata": {},
   "source": [
    "7. Crie um programa que peça ao usuário para criar uma senha. A senha deve ter entre 6 e 12 caracteres, conter ao menos uma vogal, conter ao menos um dígito numérico e ao menos um símbolo (@#$%&). Caso a senha criada seja inválida, o programa deve informar o usuário o que é necessário para validar a senha."
   ]
  },
  {
   "cell_type": "code",
   "execution_count": null,
   "id": "a97a0e79-e185-41fc-8ae5-67cf869f539a",
   "metadata": {},
   "outputs": [],
   "source": []
  },
  {
   "cell_type": "markdown",
   "id": "bc71ae9d-16af-4829-8f9c-6d49e8f7e313",
   "metadata": {},
   "source": [
    "## Referências\n",
    "\n",
    "1. Get Programming: Learn to Code With Python, Manning Publications, Ana Bell (2018)"
   ]
  },
  {
   "cell_type": "markdown",
   "id": "e3d4f24a-3914-4250-af44-72a1f162a314",
   "metadata": {},
   "source": [
    "<!--NAVIGATION-->\n",
    "| [Estruturas de Repetição (parte 3)](aula6-1.ipynb) | [Funções Úteis para Strings](aula7-2.ipynb) >"
   ]
  }
 ],
 "metadata": {
  "kernelspec": {
   "display_name": "Python 3 (ipykernel)",
   "language": "python",
   "name": "python3"
  },
  "language_info": {
   "codemirror_mode": {
    "name": "ipython",
    "version": 3
   },
   "file_extension": ".py",
   "mimetype": "text/x-python",
   "name": "python",
   "nbconvert_exporter": "python",
   "pygments_lexer": "ipython3",
   "version": "3.9.12"
  }
 },
 "nbformat": 4,
 "nbformat_minor": 5
}
