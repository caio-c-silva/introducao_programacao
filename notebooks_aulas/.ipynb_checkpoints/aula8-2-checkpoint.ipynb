{
 "cells": [
  {
   "cell_type": "markdown",
   "id": "2db89758-c554-4644-86ae-7929a6023cf3",
   "metadata": {
    "tags": []
   },
   "source": [
    "# Aula 8-2 - Listas\n",
    "\n",
    "[![Open In Colab](https://colab.research.google.com/assets/colab-badge.svg)](https://colab.research.google.com/github/caio-c-silva/aulas_python_2S2022/blob/main/notebooks_aulas/aula8-2.ipynb)\n"
   ]
  },
  {
   "cell_type": "markdown",
   "id": "ca0c26f8-03ca-48c3-860d-7ed3453f1b22",
   "metadata": {},
   "source": [
    "## Objetos Mutáveis e Imutáveis\n",
    "\n",
    "Todos os objetos em Python que vimos até o momento (Booleanos, inteiros, floats, strings e tuples) são imutáveis. Depois de criar o objeto e atribuir um valor a ele, você não poderá modificar esse valor.\n",
    "\n",
    "> Um objeto imutável é um objeto cujo valor não pode mudar"
   ]
  },
  {
   "cell_type": "code",
   "execution_count": null,
   "id": "8482c1ea-b9de-4b9e-9939-058240eaa057",
   "metadata": {},
   "outputs": [],
   "source": [
    "a = 1\n",
    "id(a)"
   ]
  },
  {
   "cell_type": "code",
   "execution_count": null,
   "id": "ed2c51d1-5a8c-4063-ab15-32cfe4f67fa1",
   "metadata": {},
   "outputs": [],
   "source": [
    "a = 2\n",
    "id(a)"
   ]
  },
  {
   "cell_type": "markdown",
   "id": "6785c395-f01b-41df-862c-1c5ce85927f4",
   "metadata": {},
   "source": [
    "Se objetos imutáveis são objetos cujo valor não pode mudar depois de criados, um objeto mutável é um objeto cujo valor pode mudar depois de criado. Objetos mutáveis geralmente são objetos que podem armazenar uma coleção de dados. Listas (tipo Python list) e dicionários (Python type dict) são exemplos de objetos mutáveis."
   ]
  },
  {
   "cell_type": "code",
   "execution_count": null,
   "id": "9aa56dd5-42cc-45f4-a972-0cd601bd0fe9",
   "metadata": {},
   "outputs": [],
   "source": [
    "l = [1, 2, 3]\n",
    "id(l)"
   ]
  },
  {
   "cell_type": "code",
   "execution_count": null,
   "id": "28043695-06a8-4eb6-ad43-bf543e5addf5",
   "metadata": {},
   "outputs": [],
   "source": [
    "l[0] = 0\n",
    "l"
   ]
  },
  {
   "cell_type": "code",
   "execution_count": null,
   "id": "db3af0f0-e045-4604-bb29-d78d6ce52420",
   "metadata": {},
   "outputs": [],
   "source": [
    "id(l)"
   ]
  },
  {
   "cell_type": "markdown",
   "id": "6641000c-b8a4-4b37-a598-1b73699ee772",
   "metadata": {
    "tags": []
   },
   "source": [
    "## Sequência (Mutável) de Qualquer Objeto\n",
    "\n",
    "Em Python, listas são usadas para representar uma coleção mutável de qualquer objeto. Assim como tuples são indicadas pela presença de parenteses e de vírugula para indicar a separação dos objetos, listas são indicadas pela presença de colchetes e vírgulas."
   ]
  },
  {
   "cell_type": "code",
   "execution_count": null,
   "id": "bba05629-15a2-4543-a29c-f3980928f73e",
   "metadata": {},
   "outputs": [],
   "source": [
    "a = []\n",
    "b = [1, 2, 3]\n",
    "c = ['a', 'b', 'c']\n",
    "d = [1, 'Casa', False]\n",
    "e = [5, [7, 8]]\n",
    "f = [10]"
   ]
  },
  {
   "cell_type": "code",
   "execution_count": null,
   "id": "388825d6-9784-456c-adfc-83f29cec929f",
   "metadata": {},
   "outputs": [],
   "source": [
    "type(d)"
   ]
  },
  {
   "cell_type": "markdown",
   "id": "56efeade-44a9-41cc-8157-fb98bd1ed3d4",
   "metadata": {},
   "source": [
    "## Indexação\n",
    "\n",
    "Os objetos contidos em uma lista também são indexados.\n",
    "\n",
    "<img src=\"../fig/tuples.png\" style=\"margin:auto\"/>\n",
    "<br/><br/>"
   ]
  },
  {
   "cell_type": "code",
   "execution_count": null,
   "id": "6f134aed-9ddb-4189-bcb8-c8af9bd6e563",
   "metadata": {},
   "outputs": [],
   "source": [
    "l = [1, 'casa', 3.45, True, (10, 70)]\n",
    "l[0]"
   ]
  },
  {
   "cell_type": "markdown",
   "id": "7adadc6f-b763-44ee-8a3c-b87e3afb6d9a",
   "metadata": {},
   "source": [
    "Note que, no exemplo acima, o elmento contido no índice 4 também e uma lista e, portanto, seus elementos também podem ser acessados de através de uma dupla indexação."
   ]
  },
  {
   "cell_type": "code",
   "execution_count": null,
   "id": "eb9a4810-1cdf-4718-9ee2-a68c2e0e7180",
   "metadata": {},
   "outputs": [],
   "source": [
    "l[4][1]"
   ]
  },
  {
   "cell_type": "markdown",
   "id": "985bf2c8-6fcf-49a9-92a1-23e84b86e179",
   "metadata": {
    "tags": []
   },
   "source": [
    "## Slicing\n",
    "\n",
    "As mesmas regras de slicing (fatiamento) usadas com strings e tuples também valem para listas. É possível selecionar uma sublista utilizando a seguinte sintáxe:\n",
    "\n",
    "``` python\n",
    "[start_index : stop_index : step]\n",
    "```"
   ]
  },
  {
   "cell_type": "code",
   "execution_count": null,
   "id": "c093fd5b-80b0-4475-8aaf-5e3ef768264e",
   "metadata": {},
   "outputs": [],
   "source": [
    "l[0 : 4 : 2]"
   ]
  },
  {
   "cell_type": "markdown",
   "id": "b57a01e0-8ee7-4858-a253-088866a23031",
   "metadata": {},
   "source": [
    "## Estrutura `for`\n",
    "\n",
    "Como listas são objetos iteráveis, estes podem ser usados para criar um laço de repetição através da estrutura `for`. "
   ]
  },
  {
   "cell_type": "code",
   "execution_count": null,
   "id": "7061ba16-9a12-44aa-be7e-233515610446",
   "metadata": {},
   "outputs": [],
   "source": [
    "for elemento in l:\n",
    "    print(elemento)"
   ]
  },
  {
   "cell_type": "markdown",
   "id": "4140a6fd-4ddf-40b3-a70c-dfd4f72aaf7a",
   "metadata": {},
   "source": [
    "## Operador de pertencimento\n",
    "\n",
    "Através do operador de pertencimento `in` é possível verificar se um objeto está contido na lista."
   ]
  },
  {
   "cell_type": "code",
   "execution_count": null,
   "id": "a97a0e79-e185-41fc-8ae5-67cf869f539a",
   "metadata": {},
   "outputs": [],
   "source": [
    "1 in l "
   ]
  },
  {
   "cell_type": "markdown",
   "id": "6d343d7f-1600-43ba-895b-dda9812f13b9",
   "metadata": {},
   "source": [
    "## len()\n",
    "\n",
    "A função `len()` é usada para determinar a quantidade de elementos contidos em uma lista. Quando aplicada a uma lista vazia retorna o valor 0."
   ]
  },
  {
   "cell_type": "code",
   "execution_count": null,
   "id": "7336e704-4b62-4770-af4d-9da7b78fde35",
   "metadata": {},
   "outputs": [],
   "source": [
    "len(l)"
   ]
  },
  {
   "cell_type": "markdown",
   "id": "c527d4f6-bc87-422f-a019-6c7998137844",
   "metadata": {},
   "source": [
    "## Objeto Mutável\n",
    "\n",
    "Listas são ojetos mutáveis e, portanto, é possível alterar o valor de um único elemento contido em uma lista e manter o mesmo objeto."
   ]
  },
  {
   "cell_type": "code",
   "execution_count": null,
   "id": "a30f1269-2684-47d6-804b-fb7b999103fd",
   "metadata": {},
   "outputs": [],
   "source": [
    "l[0] = 3\n",
    "print(l)"
   ]
  },
  {
   "cell_type": "markdown",
   "id": "bd7f6322-461a-46f9-8335-1f960f550ae8",
   "metadata": {},
   "source": [
    "## Métodos Úteis Aplicados a Listas\n",
    "\n",
    "Assim como no caso das strings, listas possuem uma variedade de métodos que são amplamente utilizados\n",
    "\n",
    "### Contar Elementos\n",
    "\n",
    "O método `.count(x)` conta a quantidade de vezes que o elemento `x` aparece na lista."
   ]
  },
  {
   "cell_type": "code",
   "execution_count": null,
   "id": "9a53d9ad-bfe4-4271-8b03-6d6f4734405a",
   "metadata": {},
   "outputs": [],
   "source": [
    "L = [1, 2, 2, 3, 2, 5, 6, 5, 1]\n",
    "L.count(2)"
   ]
  },
  {
   "cell_type": "markdown",
   "id": "83842041-9b07-43cf-aaf3-8a2e29d355c4",
   "metadata": {
    "tags": []
   },
   "source": [
    "### Encontrar o Índice de Determinado Elemnto\n",
    "\n",
    "O método `.index(x)` retorna o valor do índice da posição em que o elemento `x` está posicionado na lista. Em caso de mais de uma ocorrência de `x`, método `.index(x)` retorna o valor da posição com o menor índice."
   ]
  },
  {
   "cell_type": "code",
   "execution_count": null,
   "id": "439d560c-030b-46fe-b426-f921d5a6e511",
   "metadata": {},
   "outputs": [],
   "source": [
    "L.index(2)"
   ]
  },
  {
   "cell_type": "code",
   "execution_count": null,
   "id": "fc5d3fb4-f9a0-4ff5-b2c6-77816f0e670a",
   "metadata": {},
   "outputs": [],
   "source": []
  },
  {
   "cell_type": "markdown",
   "id": "9337551a-b04f-4d60-88db-efb1598e344c",
   "metadata": {},
   "source": [
    "### Adicionar Novos Elementos ao Final da Lista\n",
    "\n",
    "Para adcionar novos elementos ao final de uma lista podemos utilizar o método `.append(x)`. Nesse caso, o objeto `x` será adicionado ao final da lista."
   ]
  },
  {
   "cell_type": "code",
   "execution_count": null,
   "id": "d10b18fc-3269-458e-9639-e15f381a4502",
   "metadata": {},
   "outputs": [],
   "source": [
    "L.append('abc')\n",
    "L"
   ]
  },
  {
   "cell_type": "markdown",
   "id": "15429ceb-9d1d-4bef-b87c-55be0b29f81b",
   "metadata": {},
   "source": [
    "### Remover Elementos do Final da Lista\n",
    "\n",
    "Para remover elementos do final de uma lista podemos utilizar o método `.pop(x)`. Nesse caso, o objeto `x` será removido do final da lista."
   ]
  },
  {
   "cell_type": "code",
   "execution_count": null,
   "id": "455fa9e7-04f2-4dc6-93bd-34141576fb95",
   "metadata": {},
   "outputs": [],
   "source": [
    "L.pop()\n",
    "L"
   ]
  },
  {
   "cell_type": "markdown",
   "id": "9a5f0817-fd56-4335-81f5-8bfb18d1a572",
   "metadata": {},
   "source": [
    "## Ordenar os Elementos de uma Lista\n",
    "\n",
    "A função `sorted()` é utilizada para ordenar os elementos de uma lista em ordem crescente "
   ]
  },
  {
   "cell_type": "code",
   "execution_count": null,
   "id": "3130e7b8-3600-4f82-86a4-49d7eb41bebf",
   "metadata": {},
   "outputs": [],
   "source": [
    "l_desordenada = [3, 5, 10, 15, -2, 0]\n",
    "l_ordenada = sorted(l_desordenada)\n",
    "l_ordenada"
   ]
  },
  {
   "cell_type": "markdown",
   "id": "b19ea273-4136-4554-80b1-0107e8cf8d2e",
   "metadata": {},
   "source": [
    "## Exercícios\n",
    "\n",
    "Crie um programa que receba uma lista de números e gere uma nova lista com o quadrado de cada número presente na lista."
   ]
  },
  {
   "cell_type": "code",
   "execution_count": null,
   "id": "167dcc06-1dec-4289-a4e5-5f5beeabd1c3",
   "metadata": {},
   "outputs": [],
   "source": []
  },
  {
   "cell_type": "markdown",
   "id": "ad28aedf-365a-4812-a9ab-f2279eb80e71",
   "metadata": {},
   "source": [
    "Crie um programa que verifica se uma sequência é uma subsequência válida de elementos contidos em uma lista.\n",
    "\n",
    "> Uma subsequência de uma lista é um conjunto de elementos que não são necessarimanete adjacentes mas aparecem na mesma ordem que aparecem na lista.\n",
    "\n",
    "Exemplo:\n",
    "\n",
    "\n",
    "``` python\n",
    "lista = [5, 1, 22, 25, 6, -1, 8, 10]\n",
    "sequencia = [1, 6, -1, 10]\n",
    "```\n",
    "\n",
    "Resultado:\n",
    "\n",
    "``` python\n",
    "True\n",
    "```"
   ]
  },
  {
   "cell_type": "code",
   "execution_count": null,
   "id": "96692969-c61a-45f6-9604-327d5cbfc037",
   "metadata": {},
   "outputs": [],
   "source": []
  },
  {
   "cell_type": "markdown",
   "id": "55d1a005-8151-4bff-96e9-31c4d62b867e",
   "metadata": {},
   "source": [
    "Crie um programa que receba um conjunto não vazio de números inteiros distintos e um número representando uma soma (alvo). Caso o cojunto contenha 2 números que somados resultam no alvo, o programa deve retornar uma tuple contendo os dois números em qualquer ordem. No caso de não existir dois valores que somados resultem no alvo, o programa deve retornar o valor valor booleano False.\n",
    "\n",
    "Tente resolver de uma forma diferente das que foram apresentadas na aula passada. (Dica: utilize a função `sorted()` para ordenar o conjunto inicial)\n",
    "\n",
    "\n",
    "Exemplos:\n",
    "\n",
    "``` python\n",
    "conjunto = [3, 5, -4, 8, 11, -1, 6]\n",
    "alvo = 10\n",
    "```\n",
    "\n",
    "O resultado deve ser:\n",
    "\n",
    "``` python\n",
    "[-1, 11]\n",
    "```"
   ]
  },
  {
   "cell_type": "code",
   "execution_count": null,
   "id": "f9605741-5e50-41ae-88f3-91e08c065f18",
   "metadata": {},
   "outputs": [],
   "source": []
  },
  {
   "cell_type": "markdown",
   "id": "bc71ae9d-16af-4829-8f9c-6d49e8f7e313",
   "metadata": {},
   "source": [
    "## Referências\n",
    "\n",
    "1. Get Programming: Learn to Code With Python, Manning Publications, Ana Bell (2018)"
   ]
  },
  {
   "cell_type": "markdown",
   "id": "e3d4f24a-3914-4250-af44-72a1f162a314",
   "metadata": {},
   "source": [
    "<!--NAVIGATION-->\n",
    "| [Tuples](aula8-1.ipynb) | [Listas: Métodos](aula9-1.ipynb) >"
   ]
  }
 ],
 "metadata": {
  "kernelspec": {
   "display_name": "Python 3 (ipykernel)",
   "language": "python",
   "name": "python3"
  },
  "language_info": {
   "codemirror_mode": {
    "name": "ipython",
    "version": 3
   },
   "file_extension": ".py",
   "mimetype": "text/x-python",
   "name": "python",
   "nbconvert_exporter": "python",
   "pygments_lexer": "ipython3",
   "version": "3.9.12"
  }
 },
 "nbformat": 4,
 "nbformat_minor": 5
}
