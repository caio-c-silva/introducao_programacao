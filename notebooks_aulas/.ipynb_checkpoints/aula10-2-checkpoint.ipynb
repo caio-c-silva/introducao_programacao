{
 "cells": [
  {
   "cell_type": "markdown",
   "id": "2db89758-c554-4644-86ae-7929a6023cf3",
   "metadata": {
    "tags": []
   },
   "source": [
    "# Aula 10-1 - Funções\n",
    "\n",
    "[![Open In Colab](https://colab.research.google.com/assets/colab-badge.svg)](https://colab.research.google.com/github/caio-c-silva/aulas_python_2S2022/blob/main/notebooks_aulas/aula10-2.ipynb)\n"
   ]
  },
  {
   "cell_type": "markdown",
   "id": "ad28aedf-365a-4812-a9ab-f2279eb80e71",
   "metadata": {},
   "source": [
    "# Definindo e usando funções\n",
    "\n",
    "Até agora, nossos scripts têm sido blocos de código simples e de uso único. Uma maneira de organizar nosso código Python e torná-lo mais legível e reutilizável é fatorar partes úteis em funções reutilizáveis.\n",
    "\n",
    "## Funções\n",
    "\n",
    "Funções são grupos de código que têm um nome e podem ser chamados usando parênteses. Já vimos funções antes. Por exemplo, `print()` em Python é uma função:"
   ]
  },
  {
   "cell_type": "code",
   "execution_count": null,
   "id": "68685166-8deb-4fbe-a2ad-fbc492aed716",
   "metadata": {},
   "outputs": [],
   "source": [
    "print('abc')"
   ]
  },
  {
   "cell_type": "markdown",
   "id": "55d1a005-8151-4bff-96e9-31c4d62b867e",
   "metadata": {},
   "source": [
    "Aqui `print` é o __nome__ da função e `'abc'` é chamado de __argumento__ da função."
   ]
  },
  {
   "cell_type": "markdown",
   "id": "841ff163-54e2-424f-b434-f37c613dd612",
   "metadata": {},
   "source": [
    "## Definindo Funções\n",
    "\n",
    "As funções se tornam ainda mais úteis quando começamos a definir nossa própria funcionalidade de organização para ser usada em vários lugares. Em Python, as funções são definidas com a instrução `def`. Por exemplo, podemos encapsular um código que calcula a raiz quadrada de qualquer número da seguinte forma:"
   ]
  },
  {
   "cell_type": "code",
   "execution_count": null,
   "id": "f9605741-5e50-41ae-88f3-91e08c065f18",
   "metadata": {},
   "outputs": [],
   "source": [
    "def raiz_quadrada(x): # Define o nome da função e seus argumentos\n",
    "    \n",
    "    ''' \n",
    "    Função para calcular a raiz quadrada de um número\n",
    "    argumento x: qualquer número real\n",
    "    retorno: raiz quadrada do argumento\n",
    "    '''\n",
    "    resultado = x**0.5\n",
    "    \n",
    "    return resultado"
   ]
  },
  {
   "cell_type": "code",
   "execution_count": null,
   "id": "7f79a1df-113e-4ac6-b0c0-714910548d6e",
   "metadata": {},
   "outputs": [],
   "source": [
    "raiz_quadrada(9)"
   ]
  },
  {
   "cell_type": "markdown",
   "id": "a912a06e-8589-46f0-8bc5-61ef06176d6c",
   "metadata": {},
   "source": [
    "## Valores de argumento padrão\n",
    "\n",
    "Muitas vezes, ao definir uma função, há certos valores que queremos que a função use na maioria das vezes, mas também gostaríamos de dar ao usuário alguma flexibilidade. Nesse caso, podemos usar valores padrão para argumentos."
   ]
  },
  {
   "cell_type": "code",
   "execution_count": null,
   "id": "56ba4a55-93bb-429f-9228-6202f5bcc1df",
   "metadata": {},
   "outputs": [],
   "source": [
    "def funcao_oi(nome, pergunta = 'Tudo bem com você?' ):\n",
    "    \n",
    "    texto = f'Olá {nome}, {pergunta}'\n",
    "    \n",
    "    return texto    "
   ]
  },
  {
   "cell_type": "code",
   "execution_count": null,
   "id": "bafe81ee-224d-43f8-8314-687800253e6e",
   "metadata": {},
   "outputs": [],
   "source": [
    "funcao_oi('João')"
   ]
  },
  {
   "cell_type": "code",
   "execution_count": null,
   "id": "a9acc99b-fd1c-417e-a27a-d3493a566247",
   "metadata": {},
   "outputs": [],
   "source": [
    "funcao_oi('João', 'Que horas são?')"
   ]
  },
  {
   "cell_type": "markdown",
   "id": "b202d6d2-7270-4ce0-a9dc-9e173b156c2c",
   "metadata": {},
   "source": [
    "## Exercícios"
   ]
  },
  {
   "cell_type": "markdown",
   "id": "a11b83a8-8d54-43e2-b815-a82917ea92db",
   "metadata": {},
   "source": [
    "A sequência de Fibonacci é uma sequência de números inteiros, começando normalmente por 0 e 1, na qual cada termo subsequente corresponde à soma dos dois anteriores.\n",
    "\n",
    "> 0, 1, 1, 2, 3, 5, 8, 13, 21, 34, 55 ...\n",
    "\n",
    "Crie uma função que recebe um número n inteiro e positivo e retorna uma lista contendo os n termos da sequência de Fibonacci."
   ]
  },
  {
   "cell_type": "code",
   "execution_count": null,
   "id": "c483a450-4544-421c-9766-387f07789a7b",
   "metadata": {},
   "outputs": [],
   "source": []
  },
  {
   "cell_type": "markdown",
   "id": "f7acc676-d421-460d-bdbb-2cb05c9fa3ec",
   "metadata": {},
   "source": [
    "Crie uma função que recebe uma lista não vazia de números inteiros ordenados de forma crescente e retorna uma lista do mesmo tamanho com o quadrado de cada número da lista de entrada e que também esteja em ordem crescente. "
   ]
  },
  {
   "cell_type": "code",
   "execution_count": null,
   "id": "848e369d-1e8f-49e8-98e4-89c2d8ff5e1b",
   "metadata": {},
   "outputs": [],
   "source": []
  },
  {
   "cell_type": "markdown",
   "id": "bc71ae9d-16af-4829-8f9c-6d49e8f7e313",
   "metadata": {},
   "source": [
    "## Referências\n",
    "\n",
    "1. Get Programming: Learn to Code With Python, Manning Publications, Ana Bell (2018)"
   ]
  },
  {
   "cell_type": "markdown",
   "id": "e3d4f24a-3914-4250-af44-72a1f162a314",
   "metadata": {},
   "source": [
    "<!--NAVIGATION-->\n",
    "| [Dicionários](aula10-1.ipynb) | [Algoritmos de Busca](aula11-1.ipynb) >"
   ]
  }
 ],
 "metadata": {
  "kernelspec": {
   "display_name": "Python 3 (ipykernel)",
   "language": "python",
   "name": "python3"
  },
  "language_info": {
   "codemirror_mode": {
    "name": "ipython",
    "version": 3
   },
   "file_extension": ".py",
   "mimetype": "text/x-python",
   "name": "python",
   "nbconvert_exporter": "python",
   "pygments_lexer": "ipython3",
   "version": "3.9.12"
  }
 },
 "nbformat": 4,
 "nbformat_minor": 5
}
