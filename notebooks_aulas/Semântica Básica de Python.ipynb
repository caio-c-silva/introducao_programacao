{
 "cells": [
  {
   "cell_type": "markdown",
   "id": "09caf350-f5ad-48ff-8ebf-15c88e020a9f",
   "metadata": {
    "tags": []
   },
   "source": [
    "# Semântica Básica de Python\n",
    "\n",
    "[![Open In Colab](https://colab.research.google.com/assets/colab-badge.svg)](https://colab.research.google.com/github/caio-c-silva/introducao_programacao/blob/main/notebooks_aulas/.ipynb_checkpoints/Sem%C3%A2ntica%20B%C3%A1sica%20de%20Python-checkpoint.ipynb)\n",
    "\n"
   ]
  },
  {
   "cell_type": "markdown",
   "id": "75dd4f53-73e5-4b98-81e0-f5c9171eb6c3",
   "metadata": {},
   "source": [
    "## Atribuições de variáveis\n",
    "\n",
    "Atribuir variáveis em Python é muito simples. Basta escrever o nome da variável ao lado esquerdo do sinal (`=`) e atribuir seu valor do lado direito.\n",
    "\n",
    "```python\n",
    "# Atribuir 4 à variável x\n",
    "x = 4\n",
    "```\n",
    "\n",
    "Isso pode parecer simples, mas é necessário entender a maneira como o Python funciona.\n",
    "\n",
    "Em muitas linguagens de programação, as variáveis são consideradas como contêineres ou buckets nos quais você coloca dados.\n",
    "Por exemplo, em C:\n",
    "\n",
    "```C\n",
    "// código C\n",
    "int x = 4;\n",
    "```\n",
    "\n",
    "Essencialmente, define-se um \"espaço de memória\" chamado ``x`` e coloca-se o valor ``4`` nele.\n",
    "\n",
    "Já em Python, define-se um *ponteiro* chamado ``x`` que aponta para algum outro bucket contendo o valor ``4``. Dessa forma, as variáveis em Python apenas apontam para vários objetos e não há a necessidade de \"declarar\" a variável, ou mesmo exigir que a variável sempre aponte para informações do mesmo tipo.\n",
    "\n",
    "Por isso a linguagem Python é caracterizada como uma linguagem de *digitação dinâmca*: nomes de variáveis podem apontar para objetos de qualquer tipo.\n",
    "\n",
    "Assim, é possível escrever o seguinte código:"
   ]
  },
  {
   "cell_type": "code",
   "execution_count": null,
   "id": "6fa691f1-d41c-45d0-b6f0-f86454aa4d99",
   "metadata": {},
   "outputs": [],
   "source": [
    "x = 1         # x é um inteiro\n",
    "x = 'hello'   # agora x é uma string\n",
    "x = [1, 2, 3] # agora é uma lista"
   ]
  },
  {
   "cell_type": "markdown",
   "id": "a8badba9-2b74-49f4-af47-65ab64ac3827",
   "metadata": {},
   "source": [
    "Se tivermos dois nomes de variáveis apontando para o mesmo objeto *mutável*, alterar um também alterará o outro!\n",
    "Por exemplo, vamos criar e modificar uma lista:"
   ]
  },
  {
   "cell_type": "code",
   "execution_count": null,
   "id": "6151df8e-0a00-4caa-b0f2-7cbdab0a0e17",
   "metadata": {},
   "outputs": [],
   "source": [
    "x = [1, 2, 3]\n",
    "y = x"
   ]
  },
  {
   "cell_type": "code",
   "execution_count": null,
   "id": "8ae98cc4-1185-4e58-84c0-c0a28f6436a3",
   "metadata": {},
   "outputs": [],
   "source": [
    "x.append(4) # adiciona 4 à lista apontada por x\n",
    "print(y) # a lista apontada por y é modificada também"
   ]
  },
  {
   "cell_type": "markdown",
   "id": "5c7b61cb-5a16-469b-a479-c2d461ac99e2",
   "metadata": {},
   "source": [
    "Observe também que se usarmos `=` para atribuir outro valor a x, isso não afetará o valor de y. A atribuição é simplesmente uma mudança de qual objeto a variável aponta:"
   ]
  },
  {
   "cell_type": "code",
   "execution_count": null,
   "id": "70ae59f0-ce38-4e83-b952-c6bfbd9ab356",
   "metadata": {},
   "outputs": [],
   "source": [
    "x = 'alguma outra coisa'\n",
    "print(y)  # y não é alterada"
   ]
  },
  {
   "cell_type": "markdown",
   "id": "3213fdd9-9ca6-424f-9ff3-8cf1c3e6174b",
   "metadata": {},
   "source": [
    "Números, strings e outros *tipos simples* são imutáveis: não é possível alterar seu valor – só é possível alterar os valores para quais as variáveis apontam.\n",
    "Por exemplo:"
   ]
  },
  {
   "cell_type": "code",
   "execution_count": null,
   "id": "a4b7218b-f3ba-4057-91f1-cfb831008f8b",
   "metadata": {},
   "outputs": [],
   "source": [
    "x = 10\n",
    "y = x\n",
    "x += 5  # adiciona 5 ao valor de x e atribui o valor à x\n",
    "print(\"x =\", x)\n",
    "print(\"y =\", y)"
   ]
  },
  {
   "cell_type": "markdown",
   "id": "f311806b-9a35-4a38-bb3c-637ef2ed8e08",
   "metadata": {},
   "source": [
    "## Tudo é um Objeto\n",
    "\n",
    "Python é uma linguagem de programação orientada a objetos, e em Python tudo é um objeto.\n",
    "\n",
    "Anteriormente, vimos que as variáveis são simplesmente ponteiros, e os próprios nomes das variáveis não têm informações de tipo anexadas.\n",
    "Porém, apesar de não declarado, o tipos existem."
   ]
  },
  {
   "cell_type": "code",
   "execution_count": null,
   "id": "86072453-d72e-43a4-9224-01dc6bac0fda",
   "metadata": {},
   "outputs": [],
   "source": [
    "x = 4\n",
    "type(x)"
   ]
  },
  {
   "cell_type": "code",
   "execution_count": null,
   "id": "3658f024-f35e-40dd-b7dd-8cfb60ba8543",
   "metadata": {},
   "outputs": [],
   "source": [
    "x = 'hello'\n",
    "type(x)"
   ]
  },
  {
   "cell_type": "code",
   "execution_count": null,
   "id": "416a10e2-85e7-4f9e-9a22-c88034637ce9",
   "metadata": {},
   "outputs": [],
   "source": [
    "x = 3.14159\n",
    "type(x)"
   ]
  },
  {
   "cell_type": "code",
   "execution_count": null,
   "id": "93b3dd3f-0b2f-47ea-be2f-8a282007c250",
   "metadata": {},
   "outputs": [],
   "source": [
    "x = False\n",
    "type(x)"
   ]
  },
  {
   "cell_type": "markdown",
   "id": "3a5cb8ca-ffd8-48e0-a8ba-0e6f25dd0f5e",
   "metadata": {},
   "source": [
    "Python tem tipos; no entanto, os tipos estão vinculados não aos nomes das variáveis, mas aos próprios objetos.\n",
    "\n",
    "Em linguagens de programação orientadas a objetos como Python, um objeto é uma entidade que contém dados juntamente com metadados e/ou funcionalidades associadas. Em Python tudo é um objeto, o que significa que cada entidade tem alguns metadados (chamados atributos) e funcionalidades associadas (chamadas métodos). Esses atributos e métodos são acessados por meio da sintaxe de ponto.\n",
    "\n",
    "Por exemplo, antes vimos que as listas possuem um método append, que adiciona um item à lista e é acessado através da sintaxe de ponto (\"`.`\"):"
   ]
  },
  {
   "cell_type": "code",
   "execution_count": null,
   "id": "5b539c96-2d0b-4a71-a002-90a749c89c28",
   "metadata": {},
   "outputs": [],
   "source": [
    "L = [1, 2, 3]\n",
    "L.append(100)\n",
    "print(L)"
   ]
  },
  {
   "cell_type": "markdown",
   "id": "64121e77-db4a-4907-b565-eeaa279a00e2",
   "metadata": {},
   "source": [
    "Embora seja esperado que objetos compostos como listas tenham atributos e métodos, o que às vezes é inesperado é que em Python mesmo tipos simples têm atributos e métodos anexados. Por exemplo, tipos numéricos têm um atributo `real` e `imag` que retorna a parte real e imaginária do valor, se visto como um número complexo:"
   ]
  },
  {
   "cell_type": "code",
   "execution_count": null,
   "id": "45f352c2-21f0-40bb-ad2d-d8ca2cf59763",
   "metadata": {},
   "outputs": [],
   "source": [
    "x = 4.5\n",
    "print(x.real, \"+\", x.imag, 'i')"
   ]
  },
  {
   "cell_type": "markdown",
   "id": "02fff1dd-98df-436a-8095-947f34fca7a3",
   "metadata": {},
   "source": [
    "Métodos são como atributos, exceto que são funções que você pode chamar usando parênteses. Por exemplo, números de ponto flutuante (float) têm um método chamado `is_integer` que verifica se o valor é um inteiro:"
   ]
  },
  {
   "cell_type": "code",
   "execution_count": null,
   "id": "36d78b4b-ef63-4007-a738-51972ae4c000",
   "metadata": {},
   "outputs": [],
   "source": [
    "x = 4.5\n",
    "x.is_integer()"
   ]
  },
  {
   "cell_type": "code",
   "execution_count": null,
   "id": "5dd1fb95-eac4-4818-9dc6-6267560f29b4",
   "metadata": {},
   "outputs": [],
   "source": [
    "x = 4.0\n",
    "x.is_integer()"
   ]
  },
  {
   "cell_type": "markdown",
   "id": "56d45903-cd9c-460b-9b5c-334b82526be5",
   "metadata": {},
   "source": [
    "Dizer que tudo em Python é um objeto, realmente realmente quer dizer que TUDO é um objeto – até mesmo os atributos e métodos dos objetos são objetos com suas próprias informações de tipo:"
   ]
  },
  {
   "cell_type": "code",
   "execution_count": null,
   "id": "e7adc888-e91f-405b-9018-459938a30e7d",
   "metadata": {},
   "outputs": [],
   "source": [
    "type(x.is_integer)"
   ]
  },
  {
   "cell_type": "markdown",
   "id": "2ede4742-00f7-430c-8c8d-74d3f92ae02f",
   "metadata": {},
   "source": [
    "## Função `print()`"
   ]
  },
  {
   "cell_type": "markdown",
   "id": "90904471-eaf2-4e70-9313-af11b17798cf",
   "metadata": {},
   "source": [
    "A função `print()` é usada para imprimir, mostrar o valor, de uma variável ou um resultado."
   ]
  },
  {
   "cell_type": "code",
   "execution_count": null,
   "id": "b43cde86-85b5-420c-9db5-434889c439fd",
   "metadata": {},
   "outputs": [],
   "source": [
    "var1 = 0.75\n",
    "var2 = 2\n",
    "print(var1)\n",
    "print(var2)\n",
    "print(var1+var2)"
   ]
  },
  {
   "cell_type": "code",
   "execution_count": null,
   "id": "f304a283-58df-4c77-805f-5f022d583292",
   "metadata": {},
   "outputs": [],
   "source": [
    "a = 'Amazonas'\n",
    "b = False\n",
    "print(a)\n",
    "print(b)\n",
    "print(a, b)\n",
    "print(type(a), type(b))"
   ]
  },
  {
   "cell_type": "markdown",
   "id": "b37d1133-ad30-4e09-9836-08850bfe1ca6",
   "metadata": {},
   "source": [
    "## Exercícios"
   ]
  },
  {
   "cell_type": "markdown",
   "id": "8585e895-3a3b-4742-bf0a-11da06607515",
   "metadata": {},
   "source": [
    "Crie quatro variáveis contendo os seguites valores, respectivamente:\n",
    "\n",
    "```python\n",
    "125\n",
    "'Os Lusiadas'\n",
    "8.67\n",
    "False\n",
    "```"
   ]
  },
  {
   "cell_type": "code",
   "execution_count": null,
   "id": "c6e48e52-fb84-46ae-806b-34d3d3aa580a",
   "metadata": {},
   "outputs": [],
   "source": []
  },
  {
   "cell_type": "markdown",
   "id": "ff230579-d5c6-42ad-978e-a60b5e14d33c",
   "metadata": {},
   "source": [
    "Use a função `type()` para verificar os tipos dessas variáveis, e imprima o resultado."
   ]
  },
  {
   "cell_type": "code",
   "execution_count": null,
   "id": "46534323-f10c-433e-9fcf-0f134472dac9",
   "metadata": {},
   "outputs": [],
   "source": []
  },
  {
   "cell_type": "markdown",
   "id": "d32cdde7-2934-42d5-bb27-091a4ac1c0ca",
   "metadata": {},
   "source": [
    "Crie duas variáveis de cada tipo e imprima seus valores."
   ]
  },
  {
   "cell_type": "code",
   "execution_count": null,
   "id": "c2fd8ab3-848d-4d70-9d00-bb1034677f7e",
   "metadata": {},
   "outputs": [],
   "source": []
  }
 ],
 "metadata": {
  "kernelspec": {
   "display_name": "Python 3 (ipykernel)",
   "language": "python",
   "name": "python3"
  },
  "language_info": {
   "codemirror_mode": {
    "name": "ipython",
    "version": 3
   },
   "file_extension": ".py",
   "mimetype": "text/x-python",
   "name": "python",
   "nbconvert_exporter": "python",
   "pygments_lexer": "ipython3",
   "version": "3.11.0"
  }
 },
 "nbformat": 4,
 "nbformat_minor": 5
}
