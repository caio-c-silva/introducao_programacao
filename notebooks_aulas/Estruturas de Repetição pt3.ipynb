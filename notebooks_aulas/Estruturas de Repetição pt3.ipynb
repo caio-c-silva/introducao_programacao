{
 "cells": [
  {
   "cell_type": "markdown",
   "id": "2db89758-c554-4644-86ae-7929a6023cf3",
   "metadata": {},
   "source": [
    "# Estruturas de Repetição pt 3\n",
    "\n",
    "[![Open In Colab](https://colab.research.google.com/assets/colab-badge.svg)](https://colab.research.google.com/github/caio-c-silva/introducao_programacao/blob/main/notebooks_aulas/.ipynb_checkpoints/Estruturas%20de%20Repeti%C3%A7%C3%A3o%20pt3-checkpoint.ipynb)\n"
   ]
  },
  {
   "cell_type": "markdown",
   "id": "985bf2c8-6fcf-49a9-92a1-23e84b86e179",
   "metadata": {
    "tags": []
   },
   "source": [
    "## Repetições baseadas em condições\n",
    "\n",
    "A estrutura de repetição `for` é amplamente utilizada quando conhecemos a quantidade de vezes que algo deve ser repetido. Porém, em diversas ocasiões, necessitamos repetir uma tarefa sem que saibamos a quantidade de repetições e fazemos isso baseado em uma condição.\n",
    "\n",
    "Para esse tipo de repetição, em Python, utilizamos a estrutura `while` (enquanto).\n",
    "\n",
    "``` python\n",
    "while <condição>:\n",
    "    <faça alguma coisa>\n",
    "```"
   ]
  },
  {
   "cell_type": "code",
   "execution_count": null,
   "id": "0f62e250-6457-4368-aa54-6c937091f026",
   "metadata": {},
   "outputs": [],
   "source": [
    "reposta_certa = 'triângulo'\n",
    "resposta = ''\n",
    "\n",
    "while resposta != reposta_certa:\n",
    "    resposta = input('Qual a forma geométrica que aparece na bandeira do estado de Minas Gerais?')\n",
    "    if resposta == reposta_certa:\n",
    "        print('Parabéns!')\n",
    "    else:\n",
    "        print('Tente novamente')"
   ]
  },
  {
   "cell_type": "markdown",
   "id": "59cfe2f7-52e5-4a6f-a9bd-d0909fca6ffd",
   "metadata": {},
   "source": [
    "### Exercícios\n",
    "\n",
    "1. screva um programa que comece a contar de um número fornecido pelo usuário e conte até zero. Por exemplo, se o usuário fornecer o número 5, o programa deve contar de 5 a 0."
   ]
  },
  {
   "cell_type": "code",
   "execution_count": null,
   "id": "3e9c9ff3-2396-44a8-9002-517189e05adb",
   "metadata": {},
   "outputs": [],
   "source": []
  },
  {
   "cell_type": "markdown",
   "id": "a8bb1646-1d03-4739-990c-3dfcc33bb7dc",
   "metadata": {},
   "source": [
    "2. Crie um programa que pergunta ao usuário qual tabuada ele deseja ver (do 1 ao 9) e imprima a tabuada. Use a estrutura de repetição `while`."
   ]
  },
  {
   "cell_type": "code",
   "execution_count": null,
   "id": "59008860-c9c5-4a96-9299-a528b9001890",
   "metadata": {},
   "outputs": [],
   "source": []
  },
  {
   "cell_type": "markdown",
   "id": "5b1652b1-9833-46f7-bda6-763cfe6fc71c",
   "metadata": {},
   "source": [
    "3. Crie um programa que execute o seguinte jogo: \n",
    "\n",
    "- Pergunte ao usuário: \"Qual é a capital do Brasil?\".\n",
    "- Se o usuário escrever Brasília o programa deve retornar a seguinte mensagem: \"Parabéns, Você acertou!\"\n",
    "- Se o usuário escrever qualquer outra cidade o programa deve retornar a seguinte mensagem: \"Você errou, tente novamente\".\n",
    "- Sempre que o usuário escrever \"desisto\", o programa deve retornar a seguinte mensagem: \"A capital do Brasil é Brasília, obrigado pela participação!\".\n",
    "- Na terceira tentativa, o programa deve retornar a seguinte mensagem: \"Essa já é sua terceira tentativa, quer desistir?\".\n",
    "    - Se o usuário escrever \"sim\" ou \"quero\", o programa deve retornar a seguinte mensagem: \"A capital do Brasil é Brasília, obrigado pela participação!\".\n",
    "    - Para qualquer outra resposta o jogo deve continuar\n",
    "- Na décima tentativa, o programa deve retornar a seguinte mensagem: \"Ok, já percebi que você não sabe a resposta. A capital do Brasil é Brasília\" ."
   ]
  },
  {
   "cell_type": "code",
   "execution_count": null,
   "id": "d317f850-7c07-4695-8a15-43d4d09ca01a",
   "metadata": {},
   "outputs": [],
   "source": []
  },
  {
   "cell_type": "markdown",
   "id": "abe1b9b3-1a5b-4f51-bf4d-99c01e923123",
   "metadata": {},
   "source": [
    "4. Escreva um programa que solicite um número inteiro do usuário e calcule o fatorial desse número usando um loop \"while\"."
   ]
  },
  {
   "cell_type": "code",
   "execution_count": null,
   "id": "cd7ba5a1-354d-4435-9970-0fcec67845c6",
   "metadata": {},
   "outputs": [],
   "source": []
  }
 ],
 "metadata": {
  "kernelspec": {
   "display_name": "Python 3 (ipykernel)",
   "language": "python",
   "name": "python3"
  },
  "language_info": {
   "codemirror_mode": {
    "name": "ipython",
    "version": 3
   },
   "file_extension": ".py",
   "mimetype": "text/x-python",
   "name": "python",
   "nbconvert_exporter": "python",
   "pygments_lexer": "ipython3",
   "version": "3.11.0"
  }
 },
 "nbformat": 4,
 "nbformat_minor": 5
}
