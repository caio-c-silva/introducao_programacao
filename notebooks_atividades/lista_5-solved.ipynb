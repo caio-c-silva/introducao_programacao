{
 "cells": [
  {
   "cell_type": "markdown",
   "id": "617da3e8-00ae-4de3-9ad5-9a2c6b845553",
   "metadata": {},
   "source": [
    "# Lista de exercícios\n",
    "\n",
    "[![Open In Colab](https://colab.research.google.com/assets/colab-badge.svg)](https://colab.research.google.com/github/caio-c-silva/introducao_programacao/blob/main/notebooks_atividades/lista_5.ipynb)\n",
    "\n",
    "## Instruções:\n",
    "\n",
    "1. Salve uma cópia do notebook\n",
    "2. Renomeie o notebook no seguinte formato: l1_NOME1_NOME2_NOME3.ipynb\n",
    "3. Preencha a célula abaixo com suas informações\n",
    "4. Resolva os exercícios\n",
    "5. Compartilhe o notebook com o email: python.unasp@gmail.com\n",
    "\n",
    "Não esqueça de mandar uma mensagem de notificação com o nome de todos os integrantes do grupo.\n",
    "\n",
    "Somente serão corrigidos notebooks entregues até o prazo deteminado"
   ]
  },
  {
   "cell_type": "markdown",
   "id": "3e843b0b-a3ee-4ad5-9698-17d3a77281e4",
   "metadata": {},
   "source": [
    "### Aluno 1 \n",
    "\n",
    "**Nome:**\n",
    "\n",
    "**RA:**\n",
    "\n",
    "### Aluno 2\n",
    "\n",
    "**Nome:**\n",
    "\n",
    "**RA:**\n",
    "\n",
    "### Aluno 3\n",
    "\n",
    "**Nome:**\n",
    "\n",
    "**RA:**"
   ]
  },
  {
   "cell_type": "markdown",
   "id": "c3d781dc-27bd-4fbc-9984-5f7e95211845",
   "metadata": {
    "tags": []
   },
   "source": [
    "## Problema 1:\n",
    "\n",
    "Contagem de caracteres: Crie uma função que recebe uma string e retorna um dicionário com a contagem de cada caractere na string."
   ]
  },
  {
   "cell_type": "code",
   "execution_count": null,
   "id": "74def5ef-3384-4b18-a8db-c3e79ea36ba8",
   "metadata": {},
   "outputs": [],
   "source": [
    "def contar_caracteres(string):\n",
    "    count = {}\n",
    "    for char in string:\n",
    "        if char in count:\n",
    "            count[char] += 1\n",
    "        else:\n",
    "            count[char] = 1\n",
    "    return count"
   ]
  },
  {
   "cell_type": "code",
   "execution_count": null,
   "id": "f123945f-66ca-43ea-9544-1363981b4bd3",
   "metadata": {
    "tags": []
   },
   "outputs": [],
   "source": [
    "contar_caracteres('hoje é quinta-feira')"
   ]
  },
  {
   "cell_type": "markdown",
   "id": "05f13047-67fa-4235-94f7-7bdfdd7751de",
   "metadata": {},
   "source": [
    "## Problema 2:\n",
    "\n",
    "Média de uma lista: Crie uma função que recebe uma lista de números e retorna a média dos valores."
   ]
  },
  {
   "cell_type": "code",
   "execution_count": null,
   "id": "8f387ed1-7bdc-450a-96f7-1ebdb18a9fea",
   "metadata": {},
   "outputs": [],
   "source": [
    "def calcular_media(lista):\n",
    "    if len(lista) == 0:\n",
    "        return 0  \n",
    "    total = sum(lista)\n",
    "    media = total / len(lista)\n",
    "    return media\n"
   ]
  },
  {
   "cell_type": "code",
   "execution_count": null,
   "id": "f0ddffdd-1094-435f-bf5c-fe0ce59a4f07",
   "metadata": {
    "tags": []
   },
   "outputs": [],
   "source": [
    "calcular_media([5, 10, 3])"
   ]
  },
  {
   "cell_type": "markdown",
   "id": "d380d4e2-9353-4258-810e-73e251419b68",
   "metadata": {
    "tags": []
   },
   "source": [
    "## Problema 3: \n",
    "\n",
    "Verificar duplicatas: Crie uma função que recebe uma lista e verifica se há elementos duplicados, retornando True ou False."
   ]
  },
  {
   "cell_type": "code",
   "execution_count": null,
   "id": "09b49ed3-4b0f-4a5b-9a48-9a47d272896a",
   "metadata": {},
   "outputs": [],
   "source": [
    "def duplicatas(lista):\n",
    "    for i in range(len(lista)):\n",
    "        for j in range(i + 1, len(lista)):\n",
    "            if lista[i] == lista[j]:\n",
    "                return True\n",
    "    return False"
   ]
  },
  {
   "cell_type": "code",
   "execution_count": null,
   "id": "da75ed95-5709-4226-a31f-52fc4d268ce7",
   "metadata": {
    "tags": []
   },
   "outputs": [],
   "source": [
    "duplicatas([2, 3, 1])"
   ]
  },
  {
   "cell_type": "code",
   "execution_count": null,
   "id": "968f977c-1084-4ed9-8221-f2fb4febb31c",
   "metadata": {
    "tags": []
   },
   "outputs": [],
   "source": [
    "set([3, 3, 1])"
   ]
  },
  {
   "cell_type": "code",
   "execution_count": null,
   "id": "b8348a7e-26d6-495e-abfb-fea9324f8412",
   "metadata": {
    "tags": []
   },
   "outputs": [],
   "source": [
    "def duplicatas2(lista):\n",
    "    if len(lista) == len(set(lista)):\n",
    "        return False\n",
    "    else:\n",
    "        return True\n"
   ]
  },
  {
   "cell_type": "code",
   "execution_count": null,
   "id": "c8f6d332-5c2f-48b8-aa03-b8a8c438ef61",
   "metadata": {
    "tags": []
   },
   "outputs": [],
   "source": [
    "duplicatas2([2, 2, 1])"
   ]
  },
  {
   "cell_type": "markdown",
   "id": "3f6eb300-f228-4316-bbc1-1d0baa2ca3b4",
   "metadata": {},
   "source": [
    "## Problema 4:\n",
    "\n",
    "Remover elementos duplicados: Escreva uma função que recebe uma lista e retorna uma nova lista com os elementos duplicados removidos."
   ]
  },
  {
   "cell_type": "code",
   "execution_count": null,
   "id": "dfb4e3d3-c217-40f3-a5b9-698a2289d77a",
   "metadata": {},
   "outputs": [],
   "source": [
    "def remover_duplicatas(lista):\n",
    "    nova_lista = []\n",
    "    for elemento in lista:\n",
    "        if elemento not in nova_lista:\n",
    "            nova_lista.append(elemento)\n",
    "    return nova_lista"
   ]
  },
  {
   "cell_type": "code",
   "execution_count": null,
   "id": "9f56e228-a8ac-4096-a075-d55bc9c81047",
   "metadata": {
    "tags": []
   },
   "outputs": [],
   "source": [
    "remover_duplicatas([2, 3, 1, 3])"
   ]
  },
  {
   "cell_type": "code",
   "execution_count": null,
   "id": "a63c578e-b87c-44c2-998d-ae8f1bdb03b8",
   "metadata": {
    "tags": []
   },
   "outputs": [],
   "source": [
    "def remover_duplicatas2(lista):\n",
    "    return list(set(lista))"
   ]
  },
  {
   "cell_type": "code",
   "execution_count": null,
   "id": "9ef20f62-1371-4409-a706-52e0ca1df00c",
   "metadata": {
    "tags": []
   },
   "outputs": [],
   "source": [
    "remover_duplicatas2([2, 3, 1, 3])"
   ]
  },
  {
   "cell_type": "markdown",
   "id": "1e6e1646-051b-41b6-a970-8bfd076f8085",
   "metadata": {},
   "source": [
    "## Problema 5:\n",
    "\n",
    "Ordenar lista de strings por tamanho: Crie uma função que recebe uma lista de strings e retorna a mesma lista, porém ordenada pelo tamanho das strings, do menor para o maior."
   ]
  },
  {
   "cell_type": "code",
   "execution_count": null,
   "id": "0431e652-57a9-490b-be97-a893c0b87245",
   "metadata": {},
   "outputs": [],
   "source": [
    "def ordenar_por_tamanho(strings):\n",
    "    n = len(strings)\n",
    "    for i in range(n - 1):\n",
    "        for j in range(n - 1 - i):\n",
    "            if len(strings[j]) > len(strings[j + 1]):\n",
    "                strings[j], strings[j + 1] = strings[j + 1], strings[j]\n",
    "    return strings\n"
   ]
  },
  {
   "cell_type": "code",
   "execution_count": null,
   "id": "02733add-7ae5-4815-a456-3cc29701d613",
   "metadata": {
    "tags": []
   },
   "outputs": [],
   "source": [
    "ordenar_por_tamanho(['caminhão', 'casa', 'árvore', 'pé'])"
   ]
  },
  {
   "cell_type": "code",
   "execution_count": null,
   "id": "a86dd968-1885-45e6-88c7-98e3631fce3a",
   "metadata": {
    "tags": []
   },
   "outputs": [],
   "source": [
    "def ordenar_por_tamanho2(strings):\n",
    "    return sorted(strings, key=len)"
   ]
  },
  {
   "cell_type": "code",
   "execution_count": null,
   "id": "d7e1c23a-7d79-4d32-a328-56cc82cbe45f",
   "metadata": {
    "tags": []
   },
   "outputs": [],
   "source": [
    "ordenar_por_tamanho2(['caminhão', 'casa', 'árvore', 'pé'])"
   ]
  },
  {
   "cell_type": "markdown",
   "id": "45cb130e-0428-4c08-882e-b777de37a98c",
   "metadata": {},
   "source": [
    "## Problema 6:\n",
    "\n",
    "Verificar anagramas: Escreva uma função que recebe duas strings e verifica se são anagramas, ou seja, se uma pode ser formada a partir da outra pela reorganização das letras."
   ]
  },
  {
   "cell_type": "code",
   "execution_count": null,
   "id": "c381fe6c-c476-409f-b448-6868655c6f42",
   "metadata": {},
   "outputs": [],
   "source": [
    "def sao_anagramas(str1, str2):\n",
    "    \n",
    "    str1 = str1.replace(\" \", \"\").lower()\n",
    "    str2 = str2.replace(\" \", \"\").lower()\n",
    "   \n",
    "    if len(str1) != len(str2):\n",
    "        return False\n",
    "\n",
    "    count1 = contar_caracteres(str1)\n",
    "    count2 = contar_caracteres(str2)\n",
    "\n",
    "    if count1 == count2:\n",
    "        return True\n",
    "    else:\n",
    "        return False"
   ]
  },
  {
   "cell_type": "code",
   "execution_count": null,
   "id": "2e73eeff-15da-45a8-bc5a-12c6f7590637",
   "metadata": {
    "tags": []
   },
   "outputs": [],
   "source": [
    "# string1 = \"porta coral\"\n",
    "# string2 = \"claro trapo\"\n",
    "\n",
    "string1 = \"iracema\"\n",
    "string2 = \"america\"\n",
    "\n",
    "sao_anagramas(string1, string2)"
   ]
  },
  {
   "cell_type": "code",
   "execution_count": null,
   "id": "742b1fe3-ecf1-401e-aec7-47e53e27f52f",
   "metadata": {},
   "outputs": [],
   "source": []
  }
 ],
 "metadata": {
  "kernelspec": {
   "display_name": "Python 3 (ipykernel)",
   "language": "python",
   "name": "python3"
  },
  "language_info": {
   "codemirror_mode": {
    "name": "ipython",
    "version": 3
   },
   "file_extension": ".py",
   "mimetype": "text/x-python",
   "name": "python",
   "nbconvert_exporter": "python",
   "pygments_lexer": "ipython3",
   "version": "3.11.3"
  }
 },
 "nbformat": 4,
 "nbformat_minor": 5
}
