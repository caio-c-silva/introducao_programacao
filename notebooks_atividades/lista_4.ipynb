{
 "cells": [
  {
   "cell_type": "markdown",
   "id": "617da3e8-00ae-4de3-9ad5-9a2c6b845553",
   "metadata": {},
   "source": [
    "# Lista de exercícios\n",
    "\n",
    "[![Open In Colab](https://colab.research.google.com/assets/colab-badge.svg)](https://colab.research.google.com/github/caio-c-silva/introducao_programacao/blob/main/notebooks_atividades/lista_4.ipynb)\n",
    "\n",
    "## Instruções:\n",
    "\n",
    "1. Salve uma cópia do notebook\n",
    "2. Renomeie o notebook no seguinte formato: l1_NOME1_NOME2_NOME3.ipynb\n",
    "3. Preencha a célula abaixo com suas informações\n",
    "4. Resolva os exercícios\n",
    "5. Compartilhe o notebook com o email: python.unasp@gmail.com\n",
    "\n",
    "Não esqueça de mandar uma mensagem de notificação com o nome de todos os integrantes do grupo.\n",
    "\n",
    "Somente serão corrigidos notebooks entregues até o prazo deteminado"
   ]
  },
  {
   "cell_type": "markdown",
   "id": "3e843b0b-a3ee-4ad5-9698-17d3a77281e4",
   "metadata": {},
   "source": [
    "### Aluno 1 \n",
    "\n",
    "**Nome:**\n",
    "\n",
    "**RA:**\n",
    "\n",
    "### Aluno 2\n",
    "\n",
    "**Nome:**\n",
    "\n",
    "**RA:**\n",
    "\n",
    "### Aluno 3\n",
    "\n",
    "**Nome:**\n",
    "\n",
    "**RA:**"
   ]
  },
  {
   "cell_type": "markdown",
   "id": "c3d781dc-27bd-4fbc-9984-5f7e95211845",
   "metadata": {
    "tags": []
   },
   "source": [
    "## Problema: Calcular a similaridade entre dois textos\n",
    "\n",
    "O objetivo deste projeto é determinar a similaridade entre dois textos, utilizando como base a frequência das palavras presentes em cada um.\n",
    "\n",
    "O programa deve ser construído de forma modular, contendo as seguintes funções:\n",
    "\n",
    "- Uma função para realizar o pré-processamento do texto e criar uma lista que contenha todas as palavras presentes nele.\n",
    "\n",
    "- Uma função para criar o dicionário de frequência das palavras presentes texto.\n",
    "\n",
    "- Uma função para calcular o índice de similaridade entre os dois textos\n",
    "\n",
    "O índice de similaridade deve ser calculado seguindo o seguinte procedimento:\n",
    "\n",
    "1. Procure por uma palavra nos dicionários de frequência (um para cada documento).\n",
    "\n",
    "2. Se ela estiver em ambos, adicione a diferença entre as contagens. Se ela aparecer em apenas um deles, adicione a contagem desse único (efetivamente adicionando a diferença entre a contagem de um dicionário e 0 do outro).\n",
    "\n",
    "3. O índice de similaridade é a divisão entre a diferença total e o número total de palavras em ambos os documentos."
   ]
  },
  {
   "cell_type": "markdown",
   "id": "cb1f3f50-ed40-421f-a0f0-c189ffdcedb7",
   "metadata": {},
   "source": [
    "## Avaliação\n",
    "\n",
    "Para avaliar seu código, utilize os seguintes textos:\n",
    "\n",
    "### Texto 1\n",
    "\n",
    "\"A primavera chegou e as flores estão desabrochando nos jardins. Os pássaros cantam alegremente enquanto o sol brilha no céu azul. As pessoas saem de casa para aproveitar o clima agradável e se reunir com amigos. É uma época de renovação e beleza, onde a natureza se mostra em todo o seu esplendor.\"\n",
    "\n",
    "### Texto 2\n",
    "\n",
    "\"O inverno chegou e a neve cobre as paisagens. Os animais se recolhem em suas tocas para se proteger do frio intenso. O vento sopra gelado, e as pessoas se agasalham para enfrentar o clima rigoroso. É uma estação de tranquilidade e contemplação, onde o silêncio domina as montanhas cobertas de branco.\"\n"
   ]
  },
  {
   "cell_type": "code",
   "execution_count": null,
   "id": "8f387ed1-7bdc-450a-96f7-1ebdb18a9fea",
   "metadata": {},
   "outputs": [],
   "source": []
  }
 ],
 "metadata": {
  "kernelspec": {
   "display_name": "Python 3 (ipykernel)",
   "language": "python",
   "name": "python3"
  },
  "language_info": {
   "codemirror_mode": {
    "name": "ipython",
    "version": 3
   },
   "file_extension": ".py",
   "mimetype": "text/x-python",
   "name": "python",
   "nbconvert_exporter": "python",
   "pygments_lexer": "ipython3",
   "version": "3.11.3"
  }
 },
 "nbformat": 4,
 "nbformat_minor": 5
}
