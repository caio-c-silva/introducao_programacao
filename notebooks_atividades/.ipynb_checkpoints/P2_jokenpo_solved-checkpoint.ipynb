{
 "cells": [
  {
   "cell_type": "code",
   "execution_count": 1,
   "id": "5b3149a2-f22e-471e-9163-1b571145f958",
   "metadata": {
    "tags": []
   },
   "outputs": [],
   "source": [
    "import random"
   ]
  },
  {
   "cell_type": "code",
   "execution_count": 2,
   "id": "06bccc36-9583-4066-86f8-88d9f65ff35d",
   "metadata": {},
   "outputs": [],
   "source": [
    "OPCOES = {1:'pedra', 2:'papel', 3:'tesoura'}"
   ]
  },
  {
   "cell_type": "code",
   "execution_count": 3,
   "id": "e269e283-96a6-413b-84af-17eeb5111041",
   "metadata": {
    "tags": []
   },
   "outputs": [],
   "source": [
    "def imprimir_opcoes():\n",
    "    print('\\n'.join(f'({k}) {v.title()}' for k, v in OPCOES.items() ))"
   ]
  },
  {
   "cell_type": "code",
   "execution_count": 4,
   "id": "5dc8cd05-5b7c-4b83-9d5c-c08e2664df37",
   "metadata": {
    "tags": []
   },
   "outputs": [],
   "source": [
    "def definir_escolha_do_computador():\n",
    "    return random.choice(list(OPCOES.values()))"
   ]
  },
  {
   "cell_type": "code",
   "execution_count": 5,
   "id": "1c709b51-9378-40ce-afc9-0f7cf435ed0f",
   "metadata": {
    "tags": []
   },
   "outputs": [],
   "source": [
    "def definir_escolha_humana():\n",
    "    escolha_numero = int(input('Digite o número da sua escolha: '))\n",
    "    return OPCOES[escolha_numero]"
   ]
  },
  {
   "cell_type": "code",
   "execution_count": 6,
   "id": "a1fc366a-e40f-417a-8d0d-d6425aaae072",
   "metadata": {
    "tags": []
   },
   "outputs": [],
   "source": [
    "def imprimir_escolhas(escolha_humana, escolha_do_computador):\n",
    "    print(f'Você escolheu {escolha_humana}')\n",
    "    print(f'O computador escolheu {escolha_do_computador}')"
   ]
  },
  {
   "cell_type": "code",
   "execution_count": 7,
   "id": "8e3040df-2e5b-4d71-9f49-0e1320d70ad5",
   "metadata": {
    "tags": []
   },
   "outputs": [],
   "source": [
    "def imprimir_vencedor_perdedor(escolha_humana, escolha_do_computador, humano_vence, humano_perde_para):\n",
    "    if escolha_do_computador == humano_perde_para:\n",
    "        print(f'Desculpe, {escolha_do_computador} vence {escolha_humana}')\n",
    "    elif escolha_do_computador == humano_vence:\n",
    "        print(f'Parabéns, {escolha_humana} vence {escolha_do_computador}!')"
   ]
  },
  {
   "cell_type": "code",
   "execution_count": 8,
   "id": "0a9f7747-3990-46f4-975f-865e207f31c0",
   "metadata": {
    "tags": []
   },
   "outputs": [],
   "source": [
    "def imprimir_resultado(escolha_humana, escolha_do_computador):\n",
    "    if escolha_humana == escolha_do_computador:\n",
    "        print('Empate!')\n",
    "    if escolha_humana == 'pedra':\n",
    "        imprimir_vencedor_perdedor('pedra', escolha_do_computador, 'tesoura', 'papel')\n",
    "    elif escolha_humana == 'papel':\n",
    "        imprimir_vencedor_perdedor('papel', escolha_do_computador, 'pedra', 'tesoura')\n",
    "    elif escolha_humana == 'tesoura':\n",
    "        imprimir_vencedor_perdedor('tesoura', escolha_do_computador, 'papel', 'pedra')"
   ]
  },
  {
   "cell_type": "code",
   "execution_count": 9,
   "id": "e525673c-c79d-42b4-ba51-8386c85df13e",
   "metadata": {
    "tags": []
   },
   "outputs": [],
   "source": [
    "def jogar():\n",
    "    continuar_jogando = True\n",
    "    while continuar_jogando:\n",
    "        imprimir_opcoes()\n",
    "        print('')\n",
    "        escolha_humana = definir_escolha_humana()\n",
    "        print('')\n",
    "        escolha_do_computador = definir_escolha_do_computador()\n",
    "        imprimir_escolhas(escolha_humana, escolha_do_computador)\n",
    "        print('')\n",
    "        imprimir_resultado(escolha_humana, escolha_do_computador)\n",
    "        print('')\n",
    "        \n",
    "        decisao = input(\"Você quer continuar jogando? (s/n) \")\n",
    "        if decisao.lower() == 'n':\n",
    "            continuar_jogando = False\n",
    "            \n",
    "    print('')\n",
    "    print(\"Obrigado pela participação!\")        "
   ]
  },
  {
   "cell_type": "code",
   "execution_count": 10,
   "id": "76e57822-4b99-45b9-ba1a-259b976a57b4",
   "metadata": {
    "tags": []
   },
   "outputs": [
    {
     "name": "stdout",
     "output_type": "stream",
     "text": [
      "(1) Pedra\n",
      "(2) Papel\n",
      "(3) Tesoura\n",
      "\n"
     ]
    },
    {
     "name": "stdin",
     "output_type": "stream",
     "text": [
      "Digite o número da sua escolha:  2\n"
     ]
    },
    {
     "name": "stdout",
     "output_type": "stream",
     "text": [
      "\n",
      "Você escolheu papel\n",
      "O computador escolheu pedra\n",
      "\n",
      "Parabéns, papel vence pedra!\n",
      "\n"
     ]
    },
    {
     "name": "stdin",
     "output_type": "stream",
     "text": [
      "Você quer continuar jogando? (s/n)  s\n"
     ]
    },
    {
     "name": "stdout",
     "output_type": "stream",
     "text": [
      "(1) Pedra\n",
      "(2) Papel\n",
      "(3) Tesoura\n",
      "\n"
     ]
    },
    {
     "name": "stdin",
     "output_type": "stream",
     "text": [
      "Digite o número da sua escolha:  3\n"
     ]
    },
    {
     "name": "stdout",
     "output_type": "stream",
     "text": [
      "\n",
      "Você escolheu tesoura\n",
      "O computador escolheu tesoura\n",
      "\n",
      "Empate!\n",
      "\n"
     ]
    },
    {
     "name": "stdin",
     "output_type": "stream",
     "text": [
      "Você quer continuar jogando? (s/n)  n\n"
     ]
    },
    {
     "name": "stdout",
     "output_type": "stream",
     "text": [
      "\n",
      "Obrigado pela participação!\n"
     ]
    }
   ],
   "source": [
    "jogar()"
   ]
  },
  {
   "cell_type": "code",
   "execution_count": null,
   "id": "81120b60-1b40-4d8f-975e-e071ae5419c2",
   "metadata": {},
   "outputs": [],
   "source": []
  }
 ],
 "metadata": {
  "kernelspec": {
   "display_name": "Python 3 (ipykernel)",
   "language": "python",
   "name": "python3"
  },
  "language_info": {
   "codemirror_mode": {
    "name": "ipython",
    "version": 3
   },
   "file_extension": ".py",
   "mimetype": "text/x-python",
   "name": "python",
   "nbconvert_exporter": "python",
   "pygments_lexer": "ipython3",
   "version": "3.11.3"
  }
 },
 "nbformat": 4,
 "nbformat_minor": 5
}
