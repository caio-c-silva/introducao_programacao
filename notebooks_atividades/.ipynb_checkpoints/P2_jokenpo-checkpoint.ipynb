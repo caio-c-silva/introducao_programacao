{
 "cells": [
  {
   "cell_type": "markdown",
   "id": "d8b30928-0091-4768-819c-5c2d348b6026",
   "metadata": {
    "tags": []
   },
   "source": [
    "# Prova 2\n",
    "\n",
    "[![Open In Colab](https://colab.research.google.com/assets/colab-badge.svg)](https://colab.research.google.com/github/caio-c-silva/introducao_programacao/blob/main/notebooks_atividades/P2_jokenpo.ipynb)\n",
    "\n",
    "## Instruções:\n",
    "\n",
    "1. Salve uma cópia do notebook no seu drive\n",
    "2. Renomeie o notebook no seguinte formato: p2_NOME.ipynb\n",
    "3. Preencha a célula abaixo com suas informações\n",
    "4. Complete a o código da prova\n",
    "5. Faça download do arquivo .ipynb\n",
    "6. Envie para a tarefa aberta no Canvas"
   ]
  },
  {
   "cell_type": "markdown",
   "id": "21c32946-4264-42f5-832a-2301cefbacd4",
   "metadata": {
    "tags": []
   },
   "source": [
    "### Aluno \n",
    "\n",
    "**Nome:**\n",
    "\n",
    "**RA:**\n"
   ]
  },
  {
   "cell_type": "markdown",
   "id": "9a27b131-9459-4595-b8ba-77b5c1d487ab",
   "metadata": {},
   "source": [
    "## Jokenpô\n",
    "\n",
    "Desenvolva um programa em Python que permita a interação entre uma pessoa e o computador em um jogo de Jokenpô. O programa deve ser modularizado, com cada módulo representando uma das funções a seguir, que devem ser construídas."
   ]
  },
  {
   "cell_type": "code",
   "execution_count": 1,
   "id": "5b3149a2-f22e-471e-9163-1b571145f958",
   "metadata": {
    "tags": []
   },
   "outputs": [],
   "source": [
    "import random"
   ]
  },
  {
   "cell_type": "code",
   "execution_count": 2,
   "id": "06bccc36-9583-4066-86f8-88d9f65ff35d",
   "metadata": {},
   "outputs": [],
   "source": [
    "OPCOES = {1:'pedra', 2:'papel', 3:'tesoura'}"
   ]
  },
  {
   "cell_type": "code",
   "execution_count": 3,
   "id": "e269e283-96a6-413b-84af-17eeb5111041",
   "metadata": {
    "tags": []
   },
   "outputs": [],
   "source": [
    "def imprimir_opcoes():\n",
    "    print('\\n'.join(f'({k}) {v.title()}' for k, v in OPCOES.items() ))"
   ]
  },
  {
   "cell_type": "code",
   "execution_count": 4,
   "id": "5dc8cd05-5b7c-4b83-9d5c-c08e2664df37",
   "metadata": {
    "tags": []
   },
   "outputs": [],
   "source": [
    "def definir_escolha_do_computador():\n",
    "    return random.choice(list(OPCOES.values()))"
   ]
  },
  {
   "cell_type": "code",
   "execution_count": 13,
   "id": "1c709b51-9378-40ce-afc9-0f7cf435ed0f",
   "metadata": {
    "tags": []
   },
   "outputs": [],
   "source": [
    "def definir_escolha_humana():\n",
    "    # Essa função deve definir a escolha do jogador (escolha humana)\n",
    "    # Use a função input para receber um número e retorne a escolha correspondente no dicionário OPCOES\n",
    "    pass"
   ]
  },
  {
   "cell_type": "code",
   "execution_count": 12,
   "id": "a1fc366a-e40f-417a-8d0d-d6425aaae072",
   "metadata": {
    "tags": []
   },
   "outputs": [],
   "source": [
    "def imprimir_escolhas(escolha_humana, escolha_do_computador):\n",
    "    # Essa função deve imprimir as escolhas do jogador e do computador, respectivamente\n",
    "    pass"
   ]
  },
  {
   "cell_type": "code",
   "execution_count": 7,
   "id": "8e3040df-2e5b-4d71-9f49-0e1320d70ad5",
   "metadata": {
    "tags": []
   },
   "outputs": [],
   "source": [
    "def imprimir_vencedor_perdedor(escolha_humana, escolha_do_computador, humano_vence, humano_perde_para):\n",
    "    if escolha_do_computador == humano_perde_para:\n",
    "        print(f'Desculpe, {escolha_do_computador} vence {escolha_humana}')\n",
    "    elif escolha_do_computador == humano_vence:\n",
    "        print(f'Parabéns, {escolha_humana} vence {escolha_do_computador}!')"
   ]
  },
  {
   "cell_type": "code",
   "execution_count": 14,
   "id": "0a9f7747-3990-46f4-975f-865e207f31c0",
   "metadata": {
    "tags": []
   },
   "outputs": [],
   "source": [
    "def imprimir_resultado(escolha_humana, escolha_do_computador):\n",
    "    # Essa função deve imprimir o resultado da partida\n",
    "    # Use a função imprimir_vencedor_perdedor() para analisar todos os casos     \n",
    "    pass"
   ]
  },
  {
   "cell_type": "code",
   "execution_count": 15,
   "id": "e525673c-c79d-42b4-ba51-8386c85df13e",
   "metadata": {
    "tags": []
   },
   "outputs": [],
   "source": [
    "def jogar():\n",
    "    # Essa é a função principal\n",
    "    # Use todas as funções criadas anteriormente\n",
    "    # Use uma estrutura de repetição para que o jogador possa escolher se quer continuar jogando ou não\n",
    "    pass  "
   ]
  }
 ],
 "metadata": {
  "kernelspec": {
   "display_name": "Python 3 (ipykernel)",
   "language": "python",
   "name": "python3"
  },
  "language_info": {
   "codemirror_mode": {
    "name": "ipython",
    "version": 3
   },
   "file_extension": ".py",
   "mimetype": "text/x-python",
   "name": "python",
   "nbconvert_exporter": "python",
   "pygments_lexer": "ipython3",
   "version": "3.11.3"
  }
 },
 "nbformat": 4,
 "nbformat_minor": 5
}
