{
 "cells": [
  {
   "cell_type": "markdown",
   "id": "617da3e8-00ae-4de3-9ad5-9a2c6b845553",
   "metadata": {},
   "source": [
    "# Lista de exercícios\n",
    "\n",
    "[![Open In Colab](https://colab.research.google.com/assets/colab-badge.svg)](https://colab.research.google.com/github/caio-c-silva/introducao_programacao/blob/main/notebooks_atividades/lista_2.ipynb)\n",
    "\n",
    "## Instruções:\n",
    "\n",
    "1. Salve uma cópia do notebook\n",
    "2. Renomeie o notebook no seguinte formato: l1_NOME1_NOME2_NOME3.ipynb\n",
    "3. Preencha a célula abaixo com suas informações\n",
    "4. Resolva os exercícios\n",
    "5. Compartilhe o notebook com o email: python.unasp@gmail.com\n",
    "\n",
    "Não esqueça de mandar uma mensagem de notificação com o nome de todos os integrantes do grupo.\n",
    "\n",
    "Somente serão corrigidos notebooks entregues até o prazo deteminado"
   ]
  },
  {
   "cell_type": "markdown",
   "id": "3e843b0b-a3ee-4ad5-9698-17d3a77281e4",
   "metadata": {},
   "source": [
    "### Aluno 1 \n",
    "\n",
    "**Nome:**\n",
    "\n",
    "**RA:**\n",
    "\n",
    "### Aluno 2\n",
    "\n",
    "**Nome:**\n",
    "\n",
    "**RA:**\n",
    "\n",
    "### Aluno 3\n",
    "\n",
    "**Nome:**\n",
    "\n",
    "**RA:**"
   ]
  },
  {
   "cell_type": "markdown",
   "id": "c3d781dc-27bd-4fbc-9984-5f7e95211845",
   "metadata": {
    "tags": []
   },
   "source": [
    "## Problema 1:\n",
    "\n",
    "Escreva um programa que receba uma string como entrada e retorne a mesma string sem nenhum espaço em branco."
   ]
  },
  {
   "cell_type": "code",
   "execution_count": null,
   "id": "74def5ef-3384-4b18-a8db-c3e79ea36ba8",
   "metadata": {},
   "outputs": [],
   "source": []
  },
  {
   "cell_type": "markdown",
   "id": "05f13047-67fa-4235-94f7-7bdfdd7751de",
   "metadata": {},
   "source": [
    "## Problema 2:\n",
    "\n",
    "Escreva um programa que receba uma string como entrada e retorne o número de palavras na string"
   ]
  },
  {
   "cell_type": "code",
   "execution_count": null,
   "id": "8f387ed1-7bdc-450a-96f7-1ebdb18a9fea",
   "metadata": {},
   "outputs": [],
   "source": []
  },
  {
   "cell_type": "markdown",
   "id": "d380d4e2-9353-4258-810e-73e251419b68",
   "metadata": {
    "tags": []
   },
   "source": [
    "## Problema 3: \n",
    "\n",
    "Escreva um programa que receba uma string como entrada e retorne a mesma string com as letras em ordem inversa."
   ]
  },
  {
   "cell_type": "code",
   "execution_count": null,
   "id": "09b49ed3-4b0f-4a5b-9a48-9a47d272896a",
   "metadata": {},
   "outputs": [],
   "source": []
  },
  {
   "cell_type": "markdown",
   "id": "3f6eb300-f228-4316-bbc1-1d0baa2ca3b4",
   "metadata": {},
   "source": [
    "## Problema 4:\n",
    "\n",
    "Escreva um programa que remova todas as vogais de uma string."
   ]
  },
  {
   "cell_type": "code",
   "execution_count": null,
   "id": "dfb4e3d3-c217-40f3-a5b9-698a2289d77a",
   "metadata": {},
   "outputs": [],
   "source": []
  },
  {
   "cell_type": "markdown",
   "id": "1e6e1646-051b-41b6-a970-8bfd076f8085",
   "metadata": {},
   "source": [
    "## Problema 5:\n",
    "\n",
    "Escreva um programa que receba uma string como entrada e verifique se ela é um palíndromo."
   ]
  },
  {
   "cell_type": "code",
   "execution_count": null,
   "id": "0431e652-57a9-490b-be97-a893c0b87245",
   "metadata": {},
   "outputs": [],
   "source": []
  },
  {
   "cell_type": "markdown",
   "id": "45cb130e-0428-4c08-882e-b777de37a98c",
   "metadata": {},
   "source": [
    "## Problema 6:\n",
    "\n",
    "Escreva um programa que receba uma string como entrada e retorne a mesma string com todos os caracteres duplicados removidos."
   ]
  },
  {
   "cell_type": "code",
   "execution_count": null,
   "id": "c381fe6c-c476-409f-b448-6868655c6f42",
   "metadata": {},
   "outputs": [],
   "source": []
  },
  {
   "cell_type": "markdown",
   "id": "c6a03c2c-1e8b-4213-97a4-2e5956aae847",
   "metadata": {},
   "source": [
    "## Problema 7\n",
    "\n",
    "Escreva um programa que receba uma string como entrada e retorne True se a string contiver apenas caracteres únicos, ou False caso contrário."
   ]
  },
  {
   "cell_type": "code",
   "execution_count": null,
   "id": "0228d7f9-82ca-4ae7-871c-c077fe355b77",
   "metadata": {},
   "outputs": [],
   "source": []
  },
  {
   "cell_type": "markdown",
   "id": "4d645d36-8dd9-4a99-943a-4603072eefea",
   "metadata": {},
   "source": [
    "## Problema 8\n",
    "\n",
    "Escreva um programa que receba uma string como entrada e retorne a mesma string com todas as letras consecutivas duplicadas reduzidas a uma única letra."
   ]
  },
  {
   "cell_type": "code",
   "execution_count": null,
   "id": "eef0fd4e-2cfd-4948-bdbb-4ffceb71b820",
   "metadata": {},
   "outputs": [],
   "source": []
  }
 ],
 "metadata": {
  "kernelspec": {
   "display_name": "Python 3 (ipykernel)",
   "language": "python",
   "name": "python3"
  },
  "language_info": {
   "codemirror_mode": {
    "name": "ipython",
    "version": 3
   },
   "file_extension": ".py",
   "mimetype": "text/x-python",
   "name": "python",
   "nbconvert_exporter": "python",
   "pygments_lexer": "ipython3",
   "version": "3.11.0"
  }
 },
 "nbformat": 4,
 "nbformat_minor": 5
}
