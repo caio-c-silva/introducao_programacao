{
 "cells": [
  {
   "cell_type": "markdown",
   "id": "617da3e8-00ae-4de3-9ad5-9a2c6b845553",
   "metadata": {},
   "source": [
    "# Lista de exercícios\n",
    "\n",
    "[![Open In Colab](https://colab.research.google.com/assets/colab-badge.svg)](https://colab.research.google.com/github/caio-c-silva/aulas_python_2S2022/blob/main/notebooks_atividades/lista_1.ipynb)\n",
    "\n",
    "## Instruções:\n",
    "\n",
    "1. Salve uma cópia do notebook\n",
    "2. Renomeie o notebook no seguinte formato: l1_NOME1_NOME2_NOME3.ipynb\n",
    "3. Preencha a célula abaixo com suas informações\n",
    "4. Resolva os exercícios\n",
    "5. Compartilhe o notebook com o email: python.unasp@gmail.com\n",
    "\n",
    "Não esqueça de mandar uma mensagem de notificação com o seu nome e turma.\n",
    "\n",
    "Somente serão corrigidos notebooks entregues até o prazo deteminado"
   ]
  },
  {
   "cell_type": "markdown",
   "id": "3e843b0b-a3ee-4ad5-9698-17d3a77281e4",
   "metadata": {},
   "source": [
    "### Aluno 1 \n",
    "\n",
    "**Nome:**\n",
    "\n",
    "**RA:**\n",
    "\n",
    "### Aluno 2\n",
    "\n",
    "**Nome:**\n",
    "\n",
    "**RA:**\n",
    "\n",
    "### Aluno 3\n",
    "\n",
    "**Nome:**\n",
    "\n",
    "**RA:**"
   ]
  },
  {
   "cell_type": "markdown",
   "id": "c3d781dc-27bd-4fbc-9984-5f7e95211845",
   "metadata": {
    "tags": []
   },
   "source": [
    "## Problema 1: \n",
    "\n",
    "Dado dois números inteiros, escreva um programa para encontrar a sua soma, diferença, produto e quociente."
   ]
  },
  {
   "cell_type": "code",
   "execution_count": null,
   "id": "74def5ef-3384-4b18-a8db-c3e79ea36ba8",
   "metadata": {},
   "outputs": [],
   "source": []
  },
  {
   "cell_type": "markdown",
   "id": "05f13047-67fa-4235-94f7-7bdfdd7751de",
   "metadata": {},
   "source": [
    "## Problema 2: \n",
    "\n",
    "Escreva um programa que calcule o perímetro e a área de um retângulo, dado o seu comprimento e largura como entrada.\n",
    "\n",
    "$P = 2 \\times comprimento + 2 \\times largura$\n",
    "\n",
    "$A = comprimento \\times largura$"
   ]
  },
  {
   "cell_type": "code",
   "execution_count": null,
   "id": "8f387ed1-7bdc-450a-96f7-1ebdb18a9fea",
   "metadata": {},
   "outputs": [],
   "source": []
  },
  {
   "cell_type": "markdown",
   "id": "d380d4e2-9353-4258-810e-73e251419b68",
   "metadata": {
    "tags": []
   },
   "source": [
    "## Problema 3: \n",
    "Escreva um programa que calcule o montante final ($M_n$), dado o montante inicial ($M_n$), a taxa de juros mensal ($r$) e o tempo em meses ($n$). Calcule utilizando juros simples e juros compostos. Imprima também a diferença entre as duas formas de cáculo.\n",
    "\n",
    "Juros Simples:\n",
    "\n",
    "$M_n = m_0 \\times (1+r \\times n) $\n",
    "\n",
    "Juros Compostos:\n",
    "\n",
    "$M_n = m_0 \\times (1+r)^n $"
   ]
  },
  {
   "cell_type": "code",
   "execution_count": null,
   "id": "09b49ed3-4b0f-4a5b-9a48-9a47d272896a",
   "metadata": {},
   "outputs": [],
   "source": []
  },
  {
   "cell_type": "markdown",
   "id": "3f6eb300-f228-4316-bbc1-1d0baa2ca3b4",
   "metadata": {},
   "source": [
    "## Problema 4:\n",
    "\n",
    "Escreva um programa que calcule o volume de um cubo, dado o comprimento do lado como entrada."
   ]
  },
  {
   "cell_type": "code",
   "execution_count": null,
   "id": "dfb4e3d3-c217-40f3-a5b9-698a2289d77a",
   "metadata": {},
   "outputs": [],
   "source": []
  },
  {
   "cell_type": "markdown",
   "id": "13c52ed7-3b7d-436a-a3dd-053d1980f7c8",
   "metadata": {},
   "source": [
    "## Problema 5\n",
    "\n",
    "Escreva um programa que calcule o volume de um cilindro, dado o seu raio e altura como entrada."
   ]
  },
  {
   "cell_type": "code",
   "execution_count": null,
   "id": "6be54961-7196-4674-b5ff-9a028eff7db4",
   "metadata": {},
   "outputs": [],
   "source": []
  },
  {
   "cell_type": "markdown",
   "id": "4d9d6a98-5a06-485d-a45e-d5cd142f2919",
   "metadata": {},
   "source": [
    "## Problema 6\n",
    "\n",
    "Escreva um programa que calcule o volume de uma pirâmide, dada a área da base e a altura como entrada."
   ]
  },
  {
   "cell_type": "code",
   "execution_count": null,
   "id": "f661214b-7f94-479d-bc56-f713b7972f87",
   "metadata": {},
   "outputs": [],
   "source": []
  },
  {
   "cell_type": "markdown",
   "id": "1e6e1646-051b-41b6-a970-8bfd076f8085",
   "metadata": {},
   "source": [
    "## Problema 7\n",
    "\n",
    "Escreva um programa que calcule a área superficial de uma esfera, dado o seu raio como entrada."
   ]
  },
  {
   "cell_type": "code",
   "execution_count": null,
   "id": "0431e652-57a9-490b-be97-a893c0b87245",
   "metadata": {},
   "outputs": [],
   "source": []
  },
  {
   "cell_type": "markdown",
   "id": "45cb130e-0428-4c08-882e-b777de37a98c",
   "metadata": {},
   "source": [
    "## Problema 8:\n",
    "\n",
    "Escreva um programa para converter uma comprimento dado de metros para centímetros e vice-versa."
   ]
  },
  {
   "cell_type": "code",
   "execution_count": null,
   "id": "c381fe6c-c476-409f-b448-6868655c6f42",
   "metadata": {},
   "outputs": [],
   "source": []
  },
  {
   "cell_type": "markdown",
   "id": "ff8eb1fd-61c7-4645-83f8-f674842ba830",
   "metadata": {},
   "source": [
    "## Problema 9"
   ]
  },
  {
   "cell_type": "markdown",
   "id": "8b3ed246-ee68-4712-bfba-8b44177c551d",
   "metadata": {},
   "source": [
    "Escreva um programa para converter um volume dado de litros para metros cúbicos e vice-versa."
   ]
  },
  {
   "cell_type": "code",
   "execution_count": null,
   "id": "67724860-84c4-421c-a294-a6477e0b66b0",
   "metadata": {},
   "outputs": [],
   "source": []
  },
  {
   "cell_type": "markdown",
   "id": "f8254154-85da-4d64-b922-1ccdbbf22ed2",
   "metadata": {},
   "source": [
    "## Problema 10\n",
    "Escreva um programa para calcular a potência de um número, dado a base e o expoente como entrada."
   ]
  },
  {
   "cell_type": "code",
   "execution_count": null,
   "id": "a623daca-8e38-4419-876d-81a97d988c3c",
   "metadata": {},
   "outputs": [],
   "source": []
  }
 ],
 "metadata": {
  "kernelspec": {
   "display_name": "Python 3 (ipykernel)",
   "language": "python",
   "name": "python3"
  },
  "language_info": {
   "codemirror_mode": {
    "name": "ipython",
    "version": 3
   },
   "file_extension": ".py",
   "mimetype": "text/x-python",
   "name": "python",
   "nbconvert_exporter": "python",
   "pygments_lexer": "ipython3",
   "version": "3.11.0"
  }
 },
 "nbformat": 4,
 "nbformat_minor": 5
}
